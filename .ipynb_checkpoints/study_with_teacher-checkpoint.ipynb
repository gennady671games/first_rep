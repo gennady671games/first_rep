{
 "cells": [
  {
   "cell_type": "markdown",
   "metadata": {
    "toc": true
   },
   "source": [
    "<h1>Содержание<span class=\"tocSkip\"></span></h1>\n",
    "<div class=\"toc\"><ul class=\"toc-item\"><li><span><a href=\"#Подготовка-данных\" data-toc-modified-id=\"Подготовка-данных-1\"><span class=\"toc-item-num\">1&nbsp;&nbsp;</span>Подготовка данных</a></span><ul class=\"toc-item\"><li><span><a href=\"#Чтение-и-вывод\" data-toc-modified-id=\"Чтение-и-вывод-1.1\"><span class=\"toc-item-num\">1.1&nbsp;&nbsp;</span>Чтение и вывод</a></span></li><li><span><a href=\"#Подготовка-таблицы\" data-toc-modified-id=\"Подготовка-таблицы-1.2\"><span class=\"toc-item-num\">1.2&nbsp;&nbsp;</span>Подготовка таблицы</a></span></li></ul></li><li><span><a href=\"#Исследование-задачи\" data-toc-modified-id=\"Исследование-задачи-2\"><span class=\"toc-item-num\">2&nbsp;&nbsp;</span>Исследование задачи</a></span><ul class=\"toc-item\"><li><span><a href=\"#Изучение-признаков\" data-toc-modified-id=\"Изучение-признаков-2.1\"><span class=\"toc-item-num\">2.1&nbsp;&nbsp;</span>Изучение признаков</a></span></li><li><span><a href=\"#Изучение-моделей-без-учета-дисбаланса\" data-toc-modified-id=\"Изучение-моделей-без-учета-дисбаланса-2.2\"><span class=\"toc-item-num\">2.2&nbsp;&nbsp;</span>Изучение моделей без учета дисбаланса</a></span></li></ul></li><li><span><a href=\"#Борьба-с-дисбалансом\" data-toc-modified-id=\"Борьба-с-дисбалансом-3\"><span class=\"toc-item-num\">3&nbsp;&nbsp;</span>Борьба с дисбалансом</a></span><ul class=\"toc-item\"><li><span><a href=\"#Работа-с-дисбалансом\" data-toc-modified-id=\"Работа-с-дисбалансом-3.1\"><span class=\"toc-item-num\">3.1&nbsp;&nbsp;</span>Работа с дисбалансом</a></span></li><li><span><a href=\"#Создаем-новые-модели-с-учетом-дисбаланса\" data-toc-modified-id=\"Создаем-новые-модели-с-учетом-дисбаланса-3.2\"><span class=\"toc-item-num\">3.2&nbsp;&nbsp;</span>Создаем новые модели с учетом дисбаланса</a></span></li></ul></li><li><span><a href=\"#Тестирование-модели\" data-toc-modified-id=\"Тестирование-модели-4\"><span class=\"toc-item-num\">4&nbsp;&nbsp;</span>Тестирование модели</a></span></li><li><span><a href=\"#Общий-вывод\" data-toc-modified-id=\"Общий-вывод-5\"><span class=\"toc-item-num\">5&nbsp;&nbsp;</span>Общий вывод</a></span></li><li><span><a href=\"#Чек-лист-готовности-проекта\" data-toc-modified-id=\"Чек-лист-готовности-проекта-6\"><span class=\"toc-item-num\">6&nbsp;&nbsp;</span>Чек-лист готовности проекта</a></span></li></ul></div>"
   ]
  },
  {
   "cell_type": "markdown",
   "metadata": {},
   "source": [
    "# Отток клиентов"
   ]
  },
  {
   "cell_type": "markdown",
   "metadata": {},
   "source": [
    "Из «Бета-Банка» стали уходить клиенты. Каждый месяц. Немного, но заметно. Банковские маркетологи посчитали: сохранять текущих клиентов дешевле, чем привлекать новых.\n",
    "\n",
    "Нужно спрогнозировать, уйдёт клиент из банка в ближайшее время или нет. Вам предоставлены исторические данные о поведении клиентов и расторжении договоров с банком. \n",
    "\n",
    "Постройте модель с предельно большим значением *F1*-меры. Чтобы сдать проект успешно, нужно довести метрику до 0.59. Проверьте *F1*-меру на тестовой выборке самостоятельно.\n",
    "\n",
    "Дополнительно измеряйте *AUC-ROC*, сравнивайте её значение с *F1*-мерой.\n",
    "\n",
    "Источник данных: [https://www.kaggle.com/barelydedicated/bank-customer-churn-modeling](https://www.kaggle.com/barelydedicated/bank-customer-churn-modeling)"
   ]
  },
  {
   "cell_type": "markdown",
   "metadata": {},
   "source": [
    "## Подготовка данных"
   ]
  },
  {
   "cell_type": "markdown",
   "metadata": {},
   "source": [
    "### Чтение и вывод"
   ]
  },
  {
   "cell_type": "code",
   "execution_count": 1,
   "metadata": {},
   "outputs": [],
   "source": [
    "import pandas as pd\n",
    "import numpy as np\n",
    "import matplotlib.pyplot as plt\n",
    "import seaborn as sns\n",
    "from sklearn.utils import shuffle\n",
    "import warnings\n",
    "warnings.filterwarnings(\"ignore\")\n",
    "from sklearn.ensemble import RandomForestClassifier, GradientBoostingClassifier\n",
    "from sklearn.linear_model import LogisticRegression\n",
    "from sklearn.tree import DecisionTreeClassifier\n",
    "from sklearn.dummy import DummyClassifier\n",
    "from sklearn.metrics import accuracy_score, roc_auc_score, f1_score, precision_score, recall_score, roc_curve, make_scorer\n",
    "from sklearn.model_selection import RandomizedSearchCV\n",
    "from sklearn.model_selection import train_test_split\n",
    "from sklearn.preprocessing import StandardScaler"
   ]
  },
  {
   "cell_type": "code",
   "execution_count": 2,
   "metadata": {
    "scrolled": true
   },
   "outputs": [
    {
     "ename": "FileNotFoundError",
     "evalue": "[Errno 2] No such file or directory: 'C:\\\\Users\\\\Генадий\\\\Desktop\\\\Works\\\\Churn.csv'",
     "output_type": "error",
     "traceback": [
      "\u001b[1;31m---------------------------------------------------------------------------\u001b[0m",
      "\u001b[1;31mFileNotFoundError\u001b[0m                         Traceback (most recent call last)",
      "Input \u001b[1;32mIn [2]\u001b[0m, in \u001b[0;36m<cell line: 1>\u001b[1;34m()\u001b[0m\n\u001b[1;32m----> 1\u001b[0m df \u001b[38;5;241m=\u001b[39m \u001b[43mpd\u001b[49m\u001b[38;5;241;43m.\u001b[39;49m\u001b[43mread_csv\u001b[49m\u001b[43m(\u001b[49m\u001b[38;5;124;43mr\u001b[39;49m\u001b[38;5;124;43m'\u001b[39;49m\u001b[38;5;124;43mC:\u001b[39;49m\u001b[38;5;124;43m\\\u001b[39;49m\u001b[38;5;124;43mUsers\u001b[39;49m\u001b[38;5;124;43m\\\u001b[39;49m\u001b[38;5;124;43mГенадий\u001b[39;49m\u001b[38;5;124;43m\\\u001b[39;49m\u001b[38;5;124;43mDesktop\u001b[39;49m\u001b[38;5;124;43m\\\u001b[39;49m\u001b[38;5;124;43mWorks\u001b[39;49m\u001b[38;5;124;43m\\\u001b[39;49m\u001b[38;5;124;43mChurn.csv\u001b[39;49m\u001b[38;5;124;43m'\u001b[39;49m\u001b[43m)\u001b[49m\n",
      "File \u001b[1;32mG:\\Anaconda\\lib\\site-packages\\pandas\\util\\_decorators.py:311\u001b[0m, in \u001b[0;36mdeprecate_nonkeyword_arguments.<locals>.decorate.<locals>.wrapper\u001b[1;34m(*args, **kwargs)\u001b[0m\n\u001b[0;32m    305\u001b[0m \u001b[38;5;28;01mif\u001b[39;00m \u001b[38;5;28mlen\u001b[39m(args) \u001b[38;5;241m>\u001b[39m num_allow_args:\n\u001b[0;32m    306\u001b[0m     warnings\u001b[38;5;241m.\u001b[39mwarn(\n\u001b[0;32m    307\u001b[0m         msg\u001b[38;5;241m.\u001b[39mformat(arguments\u001b[38;5;241m=\u001b[39marguments),\n\u001b[0;32m    308\u001b[0m         \u001b[38;5;167;01mFutureWarning\u001b[39;00m,\n\u001b[0;32m    309\u001b[0m         stacklevel\u001b[38;5;241m=\u001b[39mstacklevel,\n\u001b[0;32m    310\u001b[0m     )\n\u001b[1;32m--> 311\u001b[0m \u001b[38;5;28;01mreturn\u001b[39;00m func(\u001b[38;5;241m*\u001b[39margs, \u001b[38;5;241m*\u001b[39m\u001b[38;5;241m*\u001b[39mkwargs)\n",
      "File \u001b[1;32mG:\\Anaconda\\lib\\site-packages\\pandas\\io\\parsers\\readers.py:680\u001b[0m, in \u001b[0;36mread_csv\u001b[1;34m(filepath_or_buffer, sep, delimiter, header, names, index_col, usecols, squeeze, prefix, mangle_dupe_cols, dtype, engine, converters, true_values, false_values, skipinitialspace, skiprows, skipfooter, nrows, na_values, keep_default_na, na_filter, verbose, skip_blank_lines, parse_dates, infer_datetime_format, keep_date_col, date_parser, dayfirst, cache_dates, iterator, chunksize, compression, thousands, decimal, lineterminator, quotechar, quoting, doublequote, escapechar, comment, encoding, encoding_errors, dialect, error_bad_lines, warn_bad_lines, on_bad_lines, delim_whitespace, low_memory, memory_map, float_precision, storage_options)\u001b[0m\n\u001b[0;32m    665\u001b[0m kwds_defaults \u001b[38;5;241m=\u001b[39m _refine_defaults_read(\n\u001b[0;32m    666\u001b[0m     dialect,\n\u001b[0;32m    667\u001b[0m     delimiter,\n\u001b[1;32m   (...)\u001b[0m\n\u001b[0;32m    676\u001b[0m     defaults\u001b[38;5;241m=\u001b[39m{\u001b[38;5;124m\"\u001b[39m\u001b[38;5;124mdelimiter\u001b[39m\u001b[38;5;124m\"\u001b[39m: \u001b[38;5;124m\"\u001b[39m\u001b[38;5;124m,\u001b[39m\u001b[38;5;124m\"\u001b[39m},\n\u001b[0;32m    677\u001b[0m )\n\u001b[0;32m    678\u001b[0m kwds\u001b[38;5;241m.\u001b[39mupdate(kwds_defaults)\n\u001b[1;32m--> 680\u001b[0m \u001b[38;5;28;01mreturn\u001b[39;00m \u001b[43m_read\u001b[49m\u001b[43m(\u001b[49m\u001b[43mfilepath_or_buffer\u001b[49m\u001b[43m,\u001b[49m\u001b[43m \u001b[49m\u001b[43mkwds\u001b[49m\u001b[43m)\u001b[49m\n",
      "File \u001b[1;32mG:\\Anaconda\\lib\\site-packages\\pandas\\io\\parsers\\readers.py:575\u001b[0m, in \u001b[0;36m_read\u001b[1;34m(filepath_or_buffer, kwds)\u001b[0m\n\u001b[0;32m    572\u001b[0m _validate_names(kwds\u001b[38;5;241m.\u001b[39mget(\u001b[38;5;124m\"\u001b[39m\u001b[38;5;124mnames\u001b[39m\u001b[38;5;124m\"\u001b[39m, \u001b[38;5;28;01mNone\u001b[39;00m))\n\u001b[0;32m    574\u001b[0m \u001b[38;5;66;03m# Create the parser.\u001b[39;00m\n\u001b[1;32m--> 575\u001b[0m parser \u001b[38;5;241m=\u001b[39m TextFileReader(filepath_or_buffer, \u001b[38;5;241m*\u001b[39m\u001b[38;5;241m*\u001b[39mkwds)\n\u001b[0;32m    577\u001b[0m \u001b[38;5;28;01mif\u001b[39;00m chunksize \u001b[38;5;129;01mor\u001b[39;00m iterator:\n\u001b[0;32m    578\u001b[0m     \u001b[38;5;28;01mreturn\u001b[39;00m parser\n",
      "File \u001b[1;32mG:\\Anaconda\\lib\\site-packages\\pandas\\io\\parsers\\readers.py:934\u001b[0m, in \u001b[0;36mTextFileReader.__init__\u001b[1;34m(self, f, engine, **kwds)\u001b[0m\n\u001b[0;32m    931\u001b[0m     \u001b[38;5;28mself\u001b[39m\u001b[38;5;241m.\u001b[39moptions[\u001b[38;5;124m\"\u001b[39m\u001b[38;5;124mhas_index_names\u001b[39m\u001b[38;5;124m\"\u001b[39m] \u001b[38;5;241m=\u001b[39m kwds[\u001b[38;5;124m\"\u001b[39m\u001b[38;5;124mhas_index_names\u001b[39m\u001b[38;5;124m\"\u001b[39m]\n\u001b[0;32m    933\u001b[0m \u001b[38;5;28mself\u001b[39m\u001b[38;5;241m.\u001b[39mhandles: IOHandles \u001b[38;5;241m|\u001b[39m \u001b[38;5;28;01mNone\u001b[39;00m \u001b[38;5;241m=\u001b[39m \u001b[38;5;28;01mNone\u001b[39;00m\n\u001b[1;32m--> 934\u001b[0m \u001b[38;5;28mself\u001b[39m\u001b[38;5;241m.\u001b[39m_engine \u001b[38;5;241m=\u001b[39m \u001b[38;5;28;43mself\u001b[39;49m\u001b[38;5;241;43m.\u001b[39;49m\u001b[43m_make_engine\u001b[49m\u001b[43m(\u001b[49m\u001b[43mf\u001b[49m\u001b[43m,\u001b[49m\u001b[43m \u001b[49m\u001b[38;5;28;43mself\u001b[39;49m\u001b[38;5;241;43m.\u001b[39;49m\u001b[43mengine\u001b[49m\u001b[43m)\u001b[49m\n",
      "File \u001b[1;32mG:\\Anaconda\\lib\\site-packages\\pandas\\io\\parsers\\readers.py:1218\u001b[0m, in \u001b[0;36mTextFileReader._make_engine\u001b[1;34m(self, f, engine)\u001b[0m\n\u001b[0;32m   1214\u001b[0m     mode \u001b[38;5;241m=\u001b[39m \u001b[38;5;124m\"\u001b[39m\u001b[38;5;124mrb\u001b[39m\u001b[38;5;124m\"\u001b[39m\n\u001b[0;32m   1215\u001b[0m \u001b[38;5;66;03m# error: No overload variant of \"get_handle\" matches argument types\u001b[39;00m\n\u001b[0;32m   1216\u001b[0m \u001b[38;5;66;03m# \"Union[str, PathLike[str], ReadCsvBuffer[bytes], ReadCsvBuffer[str]]\"\u001b[39;00m\n\u001b[0;32m   1217\u001b[0m \u001b[38;5;66;03m# , \"str\", \"bool\", \"Any\", \"Any\", \"Any\", \"Any\", \"Any\"\u001b[39;00m\n\u001b[1;32m-> 1218\u001b[0m \u001b[38;5;28mself\u001b[39m\u001b[38;5;241m.\u001b[39mhandles \u001b[38;5;241m=\u001b[39m \u001b[43mget_handle\u001b[49m\u001b[43m(\u001b[49m\u001b[43m  \u001b[49m\u001b[38;5;66;43;03m# type: ignore[call-overload]\u001b[39;49;00m\n\u001b[0;32m   1219\u001b[0m \u001b[43m    \u001b[49m\u001b[43mf\u001b[49m\u001b[43m,\u001b[49m\n\u001b[0;32m   1220\u001b[0m \u001b[43m    \u001b[49m\u001b[43mmode\u001b[49m\u001b[43m,\u001b[49m\n\u001b[0;32m   1221\u001b[0m \u001b[43m    \u001b[49m\u001b[43mencoding\u001b[49m\u001b[38;5;241;43m=\u001b[39;49m\u001b[38;5;28;43mself\u001b[39;49m\u001b[38;5;241;43m.\u001b[39;49m\u001b[43moptions\u001b[49m\u001b[38;5;241;43m.\u001b[39;49m\u001b[43mget\u001b[49m\u001b[43m(\u001b[49m\u001b[38;5;124;43m\"\u001b[39;49m\u001b[38;5;124;43mencoding\u001b[39;49m\u001b[38;5;124;43m\"\u001b[39;49m\u001b[43m,\u001b[49m\u001b[43m \u001b[49m\u001b[38;5;28;43;01mNone\u001b[39;49;00m\u001b[43m)\u001b[49m\u001b[43m,\u001b[49m\n\u001b[0;32m   1222\u001b[0m \u001b[43m    \u001b[49m\u001b[43mcompression\u001b[49m\u001b[38;5;241;43m=\u001b[39;49m\u001b[38;5;28;43mself\u001b[39;49m\u001b[38;5;241;43m.\u001b[39;49m\u001b[43moptions\u001b[49m\u001b[38;5;241;43m.\u001b[39;49m\u001b[43mget\u001b[49m\u001b[43m(\u001b[49m\u001b[38;5;124;43m\"\u001b[39;49m\u001b[38;5;124;43mcompression\u001b[39;49m\u001b[38;5;124;43m\"\u001b[39;49m\u001b[43m,\u001b[49m\u001b[43m \u001b[49m\u001b[38;5;28;43;01mNone\u001b[39;49;00m\u001b[43m)\u001b[49m\u001b[43m,\u001b[49m\n\u001b[0;32m   1223\u001b[0m \u001b[43m    \u001b[49m\u001b[43mmemory_map\u001b[49m\u001b[38;5;241;43m=\u001b[39;49m\u001b[38;5;28;43mself\u001b[39;49m\u001b[38;5;241;43m.\u001b[39;49m\u001b[43moptions\u001b[49m\u001b[38;5;241;43m.\u001b[39;49m\u001b[43mget\u001b[49m\u001b[43m(\u001b[49m\u001b[38;5;124;43m\"\u001b[39;49m\u001b[38;5;124;43mmemory_map\u001b[39;49m\u001b[38;5;124;43m\"\u001b[39;49m\u001b[43m,\u001b[49m\u001b[43m \u001b[49m\u001b[38;5;28;43;01mFalse\u001b[39;49;00m\u001b[43m)\u001b[49m\u001b[43m,\u001b[49m\n\u001b[0;32m   1224\u001b[0m \u001b[43m    \u001b[49m\u001b[43mis_text\u001b[49m\u001b[38;5;241;43m=\u001b[39;49m\u001b[43mis_text\u001b[49m\u001b[43m,\u001b[49m\n\u001b[0;32m   1225\u001b[0m \u001b[43m    \u001b[49m\u001b[43merrors\u001b[49m\u001b[38;5;241;43m=\u001b[39;49m\u001b[38;5;28;43mself\u001b[39;49m\u001b[38;5;241;43m.\u001b[39;49m\u001b[43moptions\u001b[49m\u001b[38;5;241;43m.\u001b[39;49m\u001b[43mget\u001b[49m\u001b[43m(\u001b[49m\u001b[38;5;124;43m\"\u001b[39;49m\u001b[38;5;124;43mencoding_errors\u001b[39;49m\u001b[38;5;124;43m\"\u001b[39;49m\u001b[43m,\u001b[49m\u001b[43m \u001b[49m\u001b[38;5;124;43m\"\u001b[39;49m\u001b[38;5;124;43mstrict\u001b[39;49m\u001b[38;5;124;43m\"\u001b[39;49m\u001b[43m)\u001b[49m\u001b[43m,\u001b[49m\n\u001b[0;32m   1226\u001b[0m \u001b[43m    \u001b[49m\u001b[43mstorage_options\u001b[49m\u001b[38;5;241;43m=\u001b[39;49m\u001b[38;5;28;43mself\u001b[39;49m\u001b[38;5;241;43m.\u001b[39;49m\u001b[43moptions\u001b[49m\u001b[38;5;241;43m.\u001b[39;49m\u001b[43mget\u001b[49m\u001b[43m(\u001b[49m\u001b[38;5;124;43m\"\u001b[39;49m\u001b[38;5;124;43mstorage_options\u001b[39;49m\u001b[38;5;124;43m\"\u001b[39;49m\u001b[43m,\u001b[49m\u001b[43m \u001b[49m\u001b[38;5;28;43;01mNone\u001b[39;49;00m\u001b[43m)\u001b[49m\u001b[43m,\u001b[49m\n\u001b[0;32m   1227\u001b[0m \u001b[43m\u001b[49m\u001b[43m)\u001b[49m\n\u001b[0;32m   1228\u001b[0m \u001b[38;5;28;01massert\u001b[39;00m \u001b[38;5;28mself\u001b[39m\u001b[38;5;241m.\u001b[39mhandles \u001b[38;5;129;01mis\u001b[39;00m \u001b[38;5;129;01mnot\u001b[39;00m \u001b[38;5;28;01mNone\u001b[39;00m\n\u001b[0;32m   1229\u001b[0m f \u001b[38;5;241m=\u001b[39m \u001b[38;5;28mself\u001b[39m\u001b[38;5;241m.\u001b[39mhandles\u001b[38;5;241m.\u001b[39mhandle\n",
      "File \u001b[1;32mG:\\Anaconda\\lib\\site-packages\\pandas\\io\\common.py:786\u001b[0m, in \u001b[0;36mget_handle\u001b[1;34m(path_or_buf, mode, encoding, compression, memory_map, is_text, errors, storage_options)\u001b[0m\n\u001b[0;32m    781\u001b[0m \u001b[38;5;28;01melif\u001b[39;00m \u001b[38;5;28misinstance\u001b[39m(handle, \u001b[38;5;28mstr\u001b[39m):\n\u001b[0;32m    782\u001b[0m     \u001b[38;5;66;03m# Check whether the filename is to be opened in binary mode.\u001b[39;00m\n\u001b[0;32m    783\u001b[0m     \u001b[38;5;66;03m# Binary mode does not support 'encoding' and 'newline'.\u001b[39;00m\n\u001b[0;32m    784\u001b[0m     \u001b[38;5;28;01mif\u001b[39;00m ioargs\u001b[38;5;241m.\u001b[39mencoding \u001b[38;5;129;01mand\u001b[39;00m \u001b[38;5;124m\"\u001b[39m\u001b[38;5;124mb\u001b[39m\u001b[38;5;124m\"\u001b[39m \u001b[38;5;129;01mnot\u001b[39;00m \u001b[38;5;129;01min\u001b[39;00m ioargs\u001b[38;5;241m.\u001b[39mmode:\n\u001b[0;32m    785\u001b[0m         \u001b[38;5;66;03m# Encoding\u001b[39;00m\n\u001b[1;32m--> 786\u001b[0m         handle \u001b[38;5;241m=\u001b[39m \u001b[38;5;28;43mopen\u001b[39;49m\u001b[43m(\u001b[49m\n\u001b[0;32m    787\u001b[0m \u001b[43m            \u001b[49m\u001b[43mhandle\u001b[49m\u001b[43m,\u001b[49m\n\u001b[0;32m    788\u001b[0m \u001b[43m            \u001b[49m\u001b[43mioargs\u001b[49m\u001b[38;5;241;43m.\u001b[39;49m\u001b[43mmode\u001b[49m\u001b[43m,\u001b[49m\n\u001b[0;32m    789\u001b[0m \u001b[43m            \u001b[49m\u001b[43mencoding\u001b[49m\u001b[38;5;241;43m=\u001b[39;49m\u001b[43mioargs\u001b[49m\u001b[38;5;241;43m.\u001b[39;49m\u001b[43mencoding\u001b[49m\u001b[43m,\u001b[49m\n\u001b[0;32m    790\u001b[0m \u001b[43m            \u001b[49m\u001b[43merrors\u001b[49m\u001b[38;5;241;43m=\u001b[39;49m\u001b[43merrors\u001b[49m\u001b[43m,\u001b[49m\n\u001b[0;32m    791\u001b[0m \u001b[43m            \u001b[49m\u001b[43mnewline\u001b[49m\u001b[38;5;241;43m=\u001b[39;49m\u001b[38;5;124;43m\"\u001b[39;49m\u001b[38;5;124;43m\"\u001b[39;49m\u001b[43m,\u001b[49m\n\u001b[0;32m    792\u001b[0m \u001b[43m        \u001b[49m\u001b[43m)\u001b[49m\n\u001b[0;32m    793\u001b[0m     \u001b[38;5;28;01melse\u001b[39;00m:\n\u001b[0;32m    794\u001b[0m         \u001b[38;5;66;03m# Binary mode\u001b[39;00m\n\u001b[0;32m    795\u001b[0m         handle \u001b[38;5;241m=\u001b[39m \u001b[38;5;28mopen\u001b[39m(handle, ioargs\u001b[38;5;241m.\u001b[39mmode)\n",
      "\u001b[1;31mFileNotFoundError\u001b[0m: [Errno 2] No such file or directory: 'C:\\\\Users\\\\Генадий\\\\Desktop\\\\Works\\\\Churn.csv'"
     ]
    }
   ],
   "source": [
    "df = pd.read_csv(r'C:\\Users\\Генадий\\Desktop\\Works\\Churn.csv')"
   ]
  },
  {
   "cell_type": "code",
   "execution_count": null,
   "metadata": {},
   "outputs": [],
   "source": [
    "df"
   ]
  },
  {
   "cell_type": "code",
   "execution_count": null,
   "metadata": {
    "scrolled": false
   },
   "outputs": [],
   "source": [
    "df.info()\n",
    "df.describe()"
   ]
  },
  {
   "cell_type": "code",
   "execution_count": null,
   "metadata": {},
   "outputs": [],
   "source": [
    "df.loc[df['Tenure'].isna() == True] #Откроем строки с пропусками\n",
    "#df.isna().mean() * 100"
   ]
  },
  {
   "cell_type": "code",
   "execution_count": null,
   "metadata": {},
   "outputs": [],
   "source": [
    "df.columns = ['row_number', 'customer_id', 'surname', 'credit_score', 'geography', 'gender', 'age', 'tenure', 'balance', \n",
    "             'num_of_products', 'has_cr_card', 'is_active_member', 'estimated_salary', 'exited'] \n",
    "#Отредактировал названия колонок"
   ]
  },
  {
   "cell_type": "code",
   "execution_count": null,
   "metadata": {},
   "outputs": [],
   "source": [
    "df.corr()['tenure'].sort_values() #Смотрим корреляцию столбца `tenure`, чтобы рассмотреть вариант заполнения пропусков"
   ]
  },
  {
   "cell_type": "code",
   "execution_count": null,
   "metadata": {},
   "outputs": [],
   "source": [
    "df.tenure.value_counts() #Смотрим, можно ли разбить на категории"
   ]
  },
  {
   "cell_type": "code",
   "execution_count": null,
   "metadata": {},
   "outputs": [],
   "source": [
    "df.corr()['exited'].sort_values() #Смотрим корреляцию tenure с целевым признаком"
   ]
  },
  {
   "cell_type": "markdown",
   "metadata": {},
   "source": [
    "Я отредактиоровал названия колонок для удобства. Также можно заметить пропуски в столбце `tenure`, которые составляют почти 10% от общего объема столбца. Столбец ни с чем явно не коррелирует, чтобы его можно было заполнить методом transform. Сначала можно было предположить, что пропущенные значения - нулевые, но в столбце уже есть нулевые значения. Заменять средним или медианой такой объем пропущенных значений не стоит, это исказит работу. Удалим столбцы: `surname`, `row_number` и `customer_id`. Преобразуем столбец `tenure` к типу `object`, чтобы преобразовать потом через get_dummies. Удалять строки очень бы не хотелось, тк мы потеряем около тысячи других признаков, которые можно было бы использовать. Столбцы `geography` и `gender` мы преобразуем из категориального признака в численный."
   ]
  },
  {
   "cell_type": "markdown",
   "metadata": {},
   "source": [
    "### Подготовка таблицы"
   ]
  },
  {
   "cell_type": "code",
   "execution_count": null,
   "metadata": {},
   "outputs": [],
   "source": [
    "df.drop(columns=['row_number', 'customer_id', 'surname'], inplace=True) #Убираем колонки"
   ]
  },
  {
   "cell_type": "code",
   "execution_count": null,
   "metadata": {},
   "outputs": [],
   "source": [
    "df['tenure'] = df['tenure'].astype('object')"
   ]
  },
  {
   "cell_type": "code",
   "execution_count": null,
   "metadata": {},
   "outputs": [],
   "source": [
    "df.duplicated().sum() #Смотрим дубликаты"
   ]
  },
  {
   "cell_type": "code",
   "execution_count": null,
   "metadata": {},
   "outputs": [],
   "source": [
    "#df['geography'].value_counts() #Смотрим уникальные значения колонок\n",
    "#df['gender'].value_counts()"
   ]
  },
  {
   "cell_type": "code",
   "execution_count": null,
   "metadata": {},
   "outputs": [],
   "source": [
    "df_ohe = pd.get_dummies(df, drop_first=True) #Преобразуем признаки"
   ]
  },
  {
   "cell_type": "code",
   "execution_count": null,
   "metadata": {},
   "outputs": [],
   "source": [
    "df_ohe"
   ]
  },
  {
   "cell_type": "code",
   "execution_count": null,
   "metadata": {},
   "outputs": [],
   "source": [
    "df_ohe.info()"
   ]
  },
  {
   "cell_type": "code",
   "execution_count": null,
   "metadata": {},
   "outputs": [],
   "source": [
    "df.drop(columns=['tenure'], inplace=True)"
   ]
  },
  {
   "cell_type": "markdown",
   "metadata": {},
   "source": [
    "У нас есть таблица с готовыми признаками. Но теперь мы остановимся и исследуем баланс признаков."
   ]
  },
  {
   "cell_type": "markdown",
   "metadata": {},
   "source": [
    "## Исследование задачи"
   ]
  },
  {
   "cell_type": "markdown",
   "metadata": {},
   "source": [
    "### Изучение признаков"
   ]
  },
  {
   "cell_type": "code",
   "execution_count": null,
   "metadata": {},
   "outputs": [],
   "source": [
    "colors = sns.color_palette('pastel')\n",
    "sns.set(rc={'figure.figsize':(15, 8)}, palette=colors) #Задам настройки таблиц"
   ]
  },
  {
   "cell_type": "code",
   "execution_count": null,
   "metadata": {},
   "outputs": [],
   "source": [
    "df.exited.value_counts().plot(kind='pie', shadow=True, autopct='%1.1f%%')\n",
    "plt.legend(['Остался с банком', 'Ушел из банка'], shadow=True)\n",
    "plt.title('Баланс целевого признака', fontweight=\"bold\")\n",
    "plt.show()"
   ]
  },
  {
   "cell_type": "markdown",
   "metadata": {},
   "source": [
    "Как можно заметить, целевой признак несбалансирован. Количество положительных исходов составляет лишь 1/5 от общего количества. Нужно будет сбалансировать."
   ]
  },
  {
   "cell_type": "code",
   "execution_count": null,
   "metadata": {},
   "outputs": [],
   "source": [
    "sns.pairplot(df, hue='exited')"
   ]
  },
  {
   "cell_type": "markdown",
   "metadata": {},
   "source": [
    "Какой-то стопроцентной зависимости между уходом клиента и каким-то конкретным признаком с ходу заметить нельзя. Бросается в глаза, разве что, зависимость от возраста (чем старше, тем выше вероятность ухода), количеством продуктов (чем меньше продуктов банка использует клиент, тем выше вероятность ухода) и активностью клиента (чем менее активен клиент, тем выше вероятность ухода)."
   ]
  },
  {
   "cell_type": "code",
   "execution_count": null,
   "metadata": {},
   "outputs": [],
   "source": [
    "df.pivot_table(index='geography', values='exited', aggfunc=['sum', 'count']).plot(kind='bar')\n",
    "plt.legend(['Количество уходов', 'Всего клиентов по стране']).set_title('Количество клиентов')\n",
    "plt.xlabel('Страны')\n",
    "plt.ylabel('Количество клиентов')\n",
    "plt.title('Отношение ушедших клиентов к общему количеству по странам', fontweight=\"bold\")\n",
    "plt.tight_layout()\n",
    "plt.show()"
   ]
  },
  {
   "cell_type": "markdown",
   "metadata": {},
   "source": [
    "Как мы видим, больше всего клиентов во Франции, но доля ушедших по отношению к общему количеству выше в Германии. Стоит обратить на это внимание."
   ]
  },
  {
   "cell_type": "code",
   "execution_count": null,
   "metadata": {},
   "outputs": [],
   "source": [
    "df.pivot_table(index='gender', values='exited', aggfunc=['sum', 'count']).plot(kind='bar')\n",
    "plt.legend(['Количество уходов', 'Всего клиентов по полу']).set_title('Количество клиентов')\n",
    "plt.xlabel('Пол')\n",
    "plt.ylabel('Количество клиентов')\n",
    "plt.title('Отношение ушедших клиентов к общему количеству по полу', fontweight=\"bold\")\n",
    "plt.tight_layout()\n",
    "plt.show()"
   ]
  },
  {
   "cell_type": "markdown",
   "metadata": {},
   "source": [
    "В общем количестве женщин меньше, но количество уходов больше. Также следует обратить внимание на данную закономерность."
   ]
  },
  {
   "cell_type": "markdown",
   "metadata": {},
   "source": [
    "### Изучение моделей без учета дисбаланса"
   ]
  },
  {
   "cell_type": "markdown",
   "metadata": {},
   "source": [
    "На данном этапе создадим три модели без учета дисбаланса. Третья модель - дамми классифайер, будет служить контрольной моделью для проверки адекватности двух предыдущих."
   ]
  },
  {
   "cell_type": "code",
   "execution_count": null,
   "metadata": {},
   "outputs": [],
   "source": [
    "features = df_ohe.drop('exited', axis=1) #Разбиваем на выборки\n",
    "target = df_ohe['exited']\n",
    "features_train, features_test, target_train, target_test = train_test_split(features,\n",
    "                                                             target, test_size=0.4, random_state=12354)\n",
    "features_valid, features_test, target_valid, target_test = train_test_split(features_test,\n",
    "                                                             target_test, test_size=0.5, random_state=12354)\n",
    "joint_features = features_train.append(features_valid) #Объединил валидационную и тренировочную выборки\n",
    "joint_target = target_train.append(target_valid)       #в одну генеральную для моделей деревьев"
   ]
  },
  {
   "cell_type": "code",
   "execution_count": null,
   "metadata": {},
   "outputs": [],
   "source": [
    "unbalanced_model = LogisticRegression(random_state=3, solver='liblinear') #Создаем лог регрессию\n",
    "unbalanced_model.fit(features_train, target_train)\n",
    "prediction_valid = unbalanced_model.predict(features_valid)\n",
    "print(\"Accuracy:\", accuracy_score(target_valid, prediction_valid))\n",
    "print(\"F1:\", f1_score(target_valid, prediction_valid))\n",
    "print(\"ROC_auc:\", roc_auc_score(target_valid, prediction_valid))"
   ]
  },
  {
   "cell_type": "code",
   "execution_count": null,
   "metadata": {},
   "outputs": [],
   "source": [
    "unbalanced_model = DecisionTreeClassifier(random_state=3) #Создаем дерево решений\n",
    "unbalanced_model.fit(features_train, target_train)\n",
    "prediction_valid = unbalanced_model.predict(features_valid)\n",
    "print(\"Accuracy:\", accuracy_score(target_valid, prediction_valid))\n",
    "print(\"F1:\", f1_score(target_valid, prediction_valid))\n",
    "print(\"ROC_auc:\", roc_auc_score(target_valid, prediction_valid))"
   ]
  },
  {
   "cell_type": "code",
   "execution_count": null,
   "metadata": {},
   "outputs": [],
   "source": [
    "unbalanced_model = DummyClassifier(random_state=3) #Проверяем адекватность на дамми \n",
    "unbalanced_model.fit(features_train, target_train)\n",
    "prediction_valid = unbalanced_model.predict(features_valid)\n",
    "print(\"Accuracy:\", accuracy_score(target_valid, prediction_valid))\n",
    "print(\"F1:\", f1_score(target_valid, prediction_valid))\n",
    "print(\"ROC_auc:\", roc_auc_score(target_valid, prediction_valid))"
   ]
  },
  {
   "cell_type": "code",
   "execution_count": null,
   "metadata": {},
   "outputs": [],
   "source": [
    "predict_const = pd.Series([0 for _ in range(*target_valid.shape)]) #Адекватность на константной модели\n",
    "print(\"Accuracy:\", accuracy_score(target_valid, predict_const))"
   ]
  },
  {
   "cell_type": "markdown",
   "metadata": {},
   "source": [
    "Как мы видим, при наличии дисбаланса показатель Accuracy является мнимым. Даже дамми классифайер смогла дать Accuracy на уровне 0,81, выше, чем дерево решений. Нужно масштабировать данные, решить проблему с дисбалансом и уже потом составлять модели."
   ]
  },
  {
   "cell_type": "markdown",
   "metadata": {},
   "source": [
    "## Борьба с дисбалансом"
   ]
  },
  {
   "cell_type": "markdown",
   "metadata": {},
   "source": [
    "### Работа с дисбалансом"
   ]
  },
  {
   "cell_type": "code",
   "execution_count": null,
   "metadata": {},
   "outputs": [],
   "source": [
    "#Создадим функцию для увеличения выборки и применим ее\n",
    "def upsample(features, target, repeat):\n",
    "    features_zeros = features[target == 0]\n",
    "    features_ones = features[target == 1]\n",
    "    target_zeros = target[target == 0]\n",
    "    target_ones = target[target == 1]\n",
    "    \n",
    "    features_upsampled = pd.concat([features_zeros] + [features_ones] * repeat)\n",
    "    target_upsampled = pd.concat([target_zeros] + [target_ones] * repeat)\n",
    "    features_upsampled, target_upsampled = shuffle(features_upsampled, target_upsampled, random_state=3)\n",
    "    return features_upsampled, target_upsampled"
   ]
  },
  {
   "cell_type": "code",
   "execution_count": null,
   "metadata": {},
   "outputs": [],
   "source": [
    "features_train, target_train = upsample(features_train, target_train, 4)\n",
    "joint_features, joint_target = upsample(joint_features, joint_target, 4)"
   ]
  },
  {
   "cell_type": "code",
   "execution_count": null,
   "metadata": {},
   "outputs": [],
   "source": [
    "joint_target.value_counts() #Выборку уравняли"
   ]
  },
  {
   "cell_type": "code",
   "execution_count": null,
   "metadata": {},
   "outputs": [],
   "source": [
    "#Масштабируем\n",
    "numeric = ['credit_score', 'age', 'balance', 'num_of_products', 'estimated_salary']\n",
    "scaler = StandardScaler()\n",
    "features_train_scal, features_valid_scal, features_test_scal = (features_train.copy(deep=True), \n",
    "                                                                features_valid.copy(deep=True), features_test.copy(deep=True))\n",
    "scaler.fit(features_train_scal[numeric])\n",
    "features_train_scal[numeric] = scaler.transform(features_train_scal[numeric])\n",
    "features_valid_scal[numeric] = scaler.transform(features_valid_scal[numeric])\n",
    "features_test_scal[numeric] = scaler.transform(features_test_scal[numeric])"
   ]
  },
  {
   "cell_type": "code",
   "execution_count": null,
   "metadata": {},
   "outputs": [],
   "source": [
    "print(features_train.shape)\n",
    "print(target_train.shape)"
   ]
  },
  {
   "cell_type": "code",
   "execution_count": null,
   "metadata": {},
   "outputs": [],
   "source": [
    "print(features_train_scal.shape)"
   ]
  },
  {
   "cell_type": "markdown",
   "metadata": {},
   "source": [
    "Мы отмасштабировали данные так, что теперь наши модели не будут игнорировать одни признаки в пользу других. Также мы в 4 раза увеличили выборку признаков с целевым признаком 1. Теперь пропорция положительных и отрицательных ответов 1:1. Можно строить модели."
   ]
  },
  {
   "cell_type": "markdown",
   "metadata": {},
   "source": [
    "### Создаем новые модели с учетом дисбаланса"
   ]
  },
  {
   "cell_type": "markdown",
   "metadata": {},
   "source": [
    "**Decision Tree**"
   ]
  },
  {
   "cell_type": "code",
   "execution_count": null,
   "metadata": {
    "scrolled": true
   },
   "outputs": [],
   "source": [
    "dt = DecisionTreeClassifier(random_state=3) #Строим модель решающего дерева\n",
    "parameters_dt = {\n",
    "    'criterion' : ['gini', 'entropy', 'log_loss'],\n",
    "    #'splitter' : ['best', 'random'],\n",
    "    #'max_features' : ['auto', 'sqrt', 'log2'],\n",
    "    'max_depth' : [int(x) for x in np.linspace(1, 200, num = 200)],\n",
    "    'min_samples_split' : [int(x) for x in range(2, 51, 2)],\n",
    "    'min_samples_leaf' : [int(x) for x in range(1, 60)],\n",
    "    'max_leaf_nodes' : [int(x) for x in range(1, 60)]\n",
    "}\n",
    "dt_model = RandomizedSearchCV(estimator=dt, param_distributions=parameters_dt, n_iter = 100, cv = 5, n_jobs=-1,\n",
    "                              verbose=2, random_state=3, scoring='f1')\n",
    "dt_model.fit(joint_features, joint_target)\n",
    "\n",
    "print('F1:', dt_model.best_score_, 'с параметрами:', dt_model.best_params_)"
   ]
  },
  {
   "cell_type": "markdown",
   "metadata": {},
   "source": [
    "**Random Forest**"
   ]
  },
  {
   "cell_type": "code",
   "execution_count": null,
   "metadata": {
    "scrolled": true
   },
   "outputs": [],
   "source": [
    "rf = RandomForestClassifier(random_state=3) #Строим модель случайного леса\n",
    "parameters_rf = {\n",
    "    #'criterion' : ['gini', 'entropy', 'log_loss'],\n",
    "    'n_estimators' : [int(x) for x in range(3, 73, 3)],\n",
    "    #'max_features' : [None, 'sqrt', 'log2'],\n",
    "    'max_depth' : [int(x) for x in np.linspace(50, 100, num = 50)],\n",
    "    'min_samples_split' : [int(x) for x in range(2, 31, 2)],\n",
    "    'min_samples_leaf' : [int(x) for x in range(1, 25)],\n",
    "    #'max_leaf_nodes' : [int(x) for x in range(1, 25)],\n",
    "    #'bootstrap' : [True, False]\n",
    "}\n",
    "rf_model = RandomizedSearchCV(estimator=rf, param_distributions=parameters_rf, n_iter = 100, cv = 5,\n",
    "                              verbose=2, random_state=3, scoring='f1')\n",
    "\n",
    "rf_model.fit(joint_features, joint_target)\n",
    "\n",
    "print('F1:', rf_model.best_score_, 'с параметрами:', rf_model.best_params_)"
   ]
  },
  {
   "cell_type": "markdown",
   "metadata": {},
   "source": [
    "**Logistic Regression**"
   ]
  },
  {
   "cell_type": "code",
   "execution_count": null,
   "metadata": {},
   "outputs": [],
   "source": [
    "#Строим логистическую регрессию\n",
    "lr_model = LogisticRegression(random_state=3, class_weight='balanced', solver='liblinear', n_jobs=-1)\n",
    "lr_model.fit(features_train_scal, target_train)\n",
    "prediction_lr = lr_model.predict(features_valid_scal)\n",
    "print(\"Accuracy:\", accuracy_score(target_valid, prediction_lr))\n",
    "print(\"F1:\", f1_score(target_valid, prediction_lr))\n",
    "print(\"ROC_auc:\", roc_auc_score(target_valid, prediction_lr))"
   ]
  },
  {
   "cell_type": "code",
   "execution_count": null,
   "metadata": {},
   "outputs": [],
   "source": [
    "#Изучаем порог лог регрессии на валидационной выборке\n",
    "proba_one_lr_valid = lr_model.predict_proba(features_valid_scal)[:, 1]\n",
    "\n",
    "for threshold in np.arange(0, 0.9, 0.02):\n",
    "    predicted_test_lr_valid = proba_one_lr_valid > threshold\n",
    "    precision = precision_score(target_valid, predicted_test_lr_valid)\n",
    "    recall = recall_score(target_valid, predicted_test_lr_valid)\n",
    "    f1 = f1_score(target_valid, predicted_test_lr_valid)\n",
    "    roc_auc = roc_auc_score(target_valid, predicted_test_lr_valid)\n",
    "\n",
    "    print(\"Порог = {:.2f} | Точность = {:.3f}, Полнота = {:.3f}, F1 = {:.3f}, roc_auc = {:.3f}\".format(\n",
    "        threshold, precision, recall, f1, roc_auc))"
   ]
  },
  {
   "cell_type": "code",
   "execution_count": null,
   "metadata": {},
   "outputs": [],
   "source": [
    "from sklearn.metrics import precision_recall_curve\n",
    "# import numpy as np\n",
    "\n",
    "precision, recall, thresholds = precision_recall_curve(target_valid, proba_one_lr_valid)\n",
    "plt.figure(figsize=(6, 6))\n",
    "plt.plot(thresholds, precision[:-1])\n",
    "plt.xlabel('thresholds')\n",
    "plt.ylabel('Precision-Recall')\n",
    "plt.plot(thresholds, recall[:-1])\n",
    "plt.xlim(0, 1)\n",
    "plt.ylim(0, 1)\n",
    "plt.show()\n",
    "\n",
    "print(f'Best threshold = {np.round(thresholds[np.argmin(np.abs(precision - recall))], 3)}')"
   ]
  },
  {
   "cell_type": "markdown",
   "metadata": {},
   "source": [
    "**Gradient Boosting**"
   ]
  },
  {
   "cell_type": "code",
   "execution_count": null,
   "metadata": {
    "scrolled": true
   },
   "outputs": [],
   "source": [
    "#gb = GradientBoostingClassifier(random_state=3) #Делаем модель градиентного бустинга\n",
    "#parameters_gb = {\n",
    "#    'loss' : ['log_loss', 'deviance', 'exponential'],\n",
    "#    'n_estimators' : [int(x) for x in np.linspace(150, 350, num = 5)],\n",
    "#    'max_depth' : [int(x) for x in range(1, 15)],\n",
    "#    'learning_rate' : [x for x in np.arange(0.1, 0.6, 0.05)],\n",
    "#    'criterion' : ['friedman_mse', 'squared_error', 'mse'],\n",
    "#    'min_samples_split' : [int(x) for x in range(2, 21, 2)],\n",
    "#    'min_samples_leaf' : [int(x) for x in range(1, 15)],\n",
    "#    'max_features' : [None, 'auto', 'sqrt', 'log2'],\n",
    "#    'max_leaf_nodes' : [int(x) for x in range(10, 25)]\n",
    "#}\n",
    "#gb_model = RandomizedSearchCV(estimator=gb, param_distributions=parameters_gb, n_iter = 100, cv = 5,\n",
    "#                              verbose=2, random_state=3, scoring='f1')\n",
    "#gb_model.fit(joint_features, joint_target)\n",
    "#print('F1-оценка лучшей модели', gb_model.best_score_, 'с параметрами', gb_model.best_params_)"
   ]
  },
  {
   "cell_type": "markdown",
   "metadata": {},
   "source": [
    "Мы отмасштабировали данные и увеличили выборку. Построили 4 модели:\n",
    "- Decision Tree с показателями F1: 0.7984251939579942 с параметрами: {'min_samples_split': 20, 'min_samples_leaf': 7, 'max_leaf_nodes': 56, 'max_depth': 83, 'criterion': 'gini'}\n",
    "- Random Forest с показателями F1: 0.9453430790571737 с параметрами: {'n_estimators': 48, 'min_samples_split': 6, 'min_samples_leaf': 1, 'max_depth': 69}\n",
    "- Logistic Regression с показателями по валидационной выборке Accuracy: 0.699, F1: 0.46441281138790036, ROC_auc: 0.6864529393847092. Но если мы исследуем пороговые значения для параметра 1, то получится самый высокий результат:\n",
    "- Порог = 0.64 | Точность = 0.481, Полнота = 0.477, F1 = 0.479, roc_auc = 0.676\n",
    "- Градиентный бустинг слишком долгий и выдает результаты на уровне логистической регрессии, так что в дальнейшем его рассматривать не будем"
   ]
  },
  {
   "cell_type": "markdown",
   "metadata": {},
   "source": [
    "## Тестирование модели"
   ]
  },
  {
   "cell_type": "markdown",
   "metadata": {},
   "source": [
    "Протестируем получившиеся модели на тестовой выборке и определим порог для логистической регрессии."
   ]
  },
  {
   "cell_type": "code",
   "execution_count": null,
   "metadata": {},
   "outputs": [],
   "source": [
    "test_prediction_dt = dt_model.predict(features_test) #Проверяем decision tree на тестовой выборке\n",
    "print(\"Accuracy dt:\", accuracy_score(target_test, test_prediction_dt).round(3))\n",
    "print(\"F1 dt:\", f1_score(target_test, test_prediction_dt).round(3))\n",
    "print(\"ROC_auc dt:\", roc_auc_score(target_test, test_prediction_dt).round(3))\n",
    "print('Precision dt:', precision_score(target_test, test_prediction_dt).round(3))\n",
    "print('Recall dt:', recall_score(target_test, test_prediction_dt).round(3))"
   ]
  },
  {
   "cell_type": "code",
   "execution_count": null,
   "metadata": {},
   "outputs": [],
   "source": [
    "#Строим ROC-AUC для Decision Tree\n",
    "proba_one_dt = dt_model.predict_proba(features_test)[:, 1]\n",
    "fpr_dt, tpr_dt, threshold_dt = roc_curve(target_test, proba_one_dt)\n",
    "\n",
    "plt.figure(figsize=(8, 6))\n",
    "plt.plot(fpr_dt, tpr_dt)\n",
    "plt.plot([0, 1], [0, 1], linestyle='--')\n",
    "plt.xlim([0, 1])\n",
    "plt.ylim([0, 1])\n",
    "plt.xlabel('False Positive Rate')\n",
    "plt.ylabel('True Positive Rate')\n",
    "plt.title('ROC-кривая Decision Tree')\n",
    "plt.show()"
   ]
  },
  {
   "cell_type": "code",
   "execution_count": null,
   "metadata": {},
   "outputs": [],
   "source": [
    "fpr_dt"
   ]
  },
  {
   "cell_type": "code",
   "execution_count": null,
   "metadata": {},
   "outputs": [],
   "source": [
    "test_prediction_rf = rf_model.predict(features_test) #Проверяем random forest\n",
    "print(\"Accuracy rf:\", accuracy_score(target_test, test_prediction_rf).round(3))\n",
    "print(\"F1 rf:\", f1_score(target_test, test_prediction_rf).round(3))\n",
    "print(\"ROC_auc rf:\", roc_auc_score(target_test, test_prediction_rf).round(3))\n",
    "print('Precision rf:', precision_score(target_test, test_prediction_rf).round(3))\n",
    "print('Recall rf:', recall_score(target_test, test_prediction_rf).round(3))"
   ]
  },
  {
   "cell_type": "code",
   "execution_count": null,
   "metadata": {},
   "outputs": [],
   "source": [
    "#Строим ROC-AUC для Random Forest\n",
    "proba_one_rf = rf_model.predict_proba(features_test)[:, 1]\n",
    "fpr_rf, tpr_rf, threshold_rf = roc_curve(target_test, proba_one_rf)\n",
    "\n",
    "plt.figure(figsize=(8, 6))\n",
    "plt.plot(fpr_rf, tpr_rf)\n",
    "plt.plot([0, 1], [0, 1], linestyle='--')\n",
    "plt.xlim([0, 1])\n",
    "plt.ylim([0, 1])\n",
    "plt.xlabel('False Positive Rate')\n",
    "plt.ylabel('True Positive Rate')\n",
    "plt.title('ROC-кривая Random Forest')\n",
    "plt.show()"
   ]
  },
  {
   "cell_type": "code",
   "execution_count": null,
   "metadata": {},
   "outputs": [],
   "source": [
    "test_prediction_lr = lr_model.predict(features_test_scal) #Проверяем decision tree на тестовой выборке\n",
    "print(\"Accuracy dt:\", accuracy_score(target_test, test_prediction_lr).round(3))\n",
    "print(\"F1 dt:\", f1_score(target_test, test_prediction_lr).round(3))\n",
    "print(\"ROC_auc dt:\", roc_auc_score(target_test, test_prediction_lr).round(3))"
   ]
  },
  {
   "cell_type": "code",
   "execution_count": null,
   "metadata": {},
   "outputs": [],
   "source": [
    "#Изучаем порог лог регрессии\n",
    "proba_one_lr = lr_model.predict_proba(features_test_scal)[:, 1]\n",
    "fpr_lr, tpr_lr, threshold_lr = roc_curve(target_test, proba_one_lr)\n",
    "\n",
    "for threshold in np.arange(0, 0.9, 0.02):\n",
    "    predicted_test_lr = proba_one_lr > threshold\n",
    "    precision = precision_score(target_test, predicted_test_lr)\n",
    "    recall = recall_score(target_test, predicted_test_lr)\n",
    "    f1 = f1_score(target_test, predicted_test_lr)\n",
    "    accuracy = accuracy_score(target_test, predicted_test_lr)\n",
    "    roc_auc_lr = roc_auc_score(target_test, predicted_test_lr)\n",
    "\n",
    "    print(\"Порог = {:.2f} | Точность = {:.3f}, Полнота = {:.3f}, F1 = {:.3f}, Accuracy = {:.3f}, roc_auc = {:.3f}\".format(\n",
    "        threshold, precision, recall, f1, accuracy, roc_auc_lr))"
   ]
  },
  {
   "cell_type": "code",
   "execution_count": null,
   "metadata": {},
   "outputs": [],
   "source": [
    "precision_test, recall_test, thresholds_test = precision_recall_curve(target_test, proba_one_lr)\n",
    "plt.figure(figsize=(6, 6))\n",
    "plt.plot(thresholds_test, precision_test[:-1])\n",
    "plt.xlabel('thresholds')\n",
    "plt.ylabel('Precision-Recall')\n",
    "plt.plot(thresholds_test, recall_test[:-1])\n",
    "plt.xlim(0, 1)\n",
    "plt.ylim(0, 1)\n",
    "plt.show()\n",
    "\n",
    "print(f'Best threshold = {np.round(thresholds_test[np.argmin(np.abs(precision_test - recall_test))], 3)}')"
   ]
  },
  {
   "cell_type": "code",
   "execution_count": null,
   "metadata": {},
   "outputs": [],
   "source": [
    "#Строим ROC-AUC для Logistic Regression\n",
    "plt.figure(figsize=(8, 6))\n",
    "plt.plot(fpr_lr, tpr_lr)\n",
    "plt.plot([0, 1], [0, 1], linestyle='--')\n",
    "plt.xlim([0, 1])\n",
    "plt.ylim([0, 1])\n",
    "plt.xlabel('False Positive Rate')\n",
    "plt.ylabel('True Positive Rate')\n",
    "plt.title('ROC-кривая Logistic Regression')\n",
    "plt.show()"
   ]
  },
  {
   "cell_type": "code",
   "execution_count": null,
   "metadata": {},
   "outputs": [],
   "source": [
    "dummy_test_model = DummyClassifier(random_state=3) #Проверяем адекватность на дамми \n",
    "dummy_test_model.fit(features_train, target_train)\n",
    "prediction_valid_dummy = dummy_test_model.predict(features_valid)\n",
    "print(\"Accuracy:\", accuracy_score(target_valid, prediction_valid_dummy))\n",
    "print(\"F1:\", f1_score(target_valid, prediction_valid_dummy))\n",
    "print(\"ROC_auc:\", roc_auc_score(target_valid, prediction_valid_dummy))\n",
    "proba_one_dc = dummy_test_model.predict_proba(features_test)[:, 1]\n",
    "fpr_dc, tpr_dc, threshold_dc = roc_curve(target_test, proba_one_dc)"
   ]
  },
  {
   "cell_type": "code",
   "execution_count": null,
   "metadata": {},
   "outputs": [],
   "source": [
    "#Строим ROC-AUC для Dummy Classifier\n",
    "plt.figure(figsize=(8, 6))\n",
    "plt.plot(fpr_dc, tpr_dc)\n",
    "plt.plot([0, 1], [0, 1], linestyle='--')\n",
    "plt.xlim([0, 1])\n",
    "plt.ylim([0, 1])\n",
    "plt.xlabel('False Positive Rate')\n",
    "plt.ylabel('True Positive Rate')\n",
    "plt.title('ROC-кривая Dummy Classifier')\n",
    "plt.show()"
   ]
  },
  {
   "cell_type": "markdown",
   "metadata": {},
   "source": [
    "- Как видно и на валидационной выборке, и на тестовой, лучший порог для нашей логистической регрессии 0,64. Её показатели: Порог = 0.64 | Точность = 0.488, Полнота = 0.500, F1 = 0.494, Accuracy = 0.793, roc_auc = 0.684\n",
    "- Показатели модели Decision Tree Accuracy dt: Accuracy dt: 0.802, F1 dt: 0.585, ROC_auc dt: 0.761, Precision dt: 0.506, Recall dt: 0.693. По совокупности показателей эта модель находится на втором месте. Уровень показателя F1 всего лишь чуть-чуть не удовлетворяет нашему целевому показателю в 0,59, но остальные метрики весьма достойны, а сама модель быстрее случайного леса.\n",
    "- Наша самая лучшая модель - Random Forest, с показателями Accuracy rf: 0.847, F1 rf: 0.598, ROC_auc rf: 0.741, Precision rf: 0.637, Recall rf: 0.564. Мера F1 у нас достигает почти 0,6, что достигает всех наших целей. Кривая ROC нас также удовлетворяет больше всех.\n",
    "- Все модели прошли проверку на адекватность через Dummy Classifier."
   ]
  },
  {
   "cell_type": "markdown",
   "metadata": {},
   "source": [
    "## Общий вывод"
   ]
  },
  {
   "cell_type": "markdown",
   "metadata": {},
   "source": [
    "- Мы подготовили данные, избавились от лишних столбцов `surname`, `row_number` и `customer_id`. Столбец `tenure` привели к типу `object` и через метод get_dummies, вместе со столбцами `geography` и `gender` привели эти категориальные признаки к численным.\n",
    "- Провели небольшое исследование. Выяснили, что имеется зависимость от возраста (чем старше, тем выше вероятность ухода), количества продуктов (чем меньше продуктов банка использует клиент, тем выше вероятность ухода) и активности клиента (чем менее активен клиент, тем выше вероятность ухода). Также больше всего клиентов во Франции, но доля ушедших по отношению к общему количеству выше в Германии. Еще в общем количестве женщин меньше, но количество уходов больше. \n",
    "- Целевой признак был несбалансирован. Количество положительных исходов составляло лишь 1/5 от общего количества. Мы сбалансировали в дальнейшем.\n",
    "- Провели исследование моделей без учета дисбаланса и выяснили, что они неадекватны. \n",
    "- Провели масштабирование признаков и уравняли целевой признак, увеличив признак 1 в 4 раза.\n",
    "- Создали новые модели с учетом дисбаланса.\n",
    "- Модель градиентного бустинга отсеяли из-за низкого быстродействия и посредственных результатов.\n",
    "- Лучше всех была модель Random Forest с показателями F1: 0.9453430790571737 с параметрами: {'n_estimators': 48, 'min_samples_split': 6, 'min_samples_leaf': 1, 'max_depth': 69}. Логистическая регрессия не удовлетворила нашему показателю F1.\n",
    "- Проверили все получившиеся модели на тестовых выборках, предварительно дообучив их на общих данных по валидационной и обучающей выборке.\n",
    "- Второе место - модель решающего дерева с показателями F1: 0.7984251939579942 с параметрами: {'min_samples_split': 20, 'min_samples_leaf': 7, 'max_leaf_nodes': 56, 'max_depth': 83, 'criterion': 'gini'}\n",
    "- Самая лучшая модель - модель случайного леса с показателями Accuracy rf: 0.847, F1 rf: 0.598, ROC_auc rf: 0.741, Precision rf: 0.637, Recall rf: 0.564, что достигает всех наших целей по F1 выше 0,59.\n",
    "- Проверили получившиеся модели на адекватность в сравнении с дамми. Проверку прошли."
   ]
  },
  {
   "cell_type": "markdown",
   "metadata": {},
   "source": [
    "## Чек-лист готовности проекта"
   ]
  },
  {
   "cell_type": "markdown",
   "metadata": {},
   "source": [
    "Поставьте 'x' в выполненных пунктах. Далее нажмите Shift+Enter."
   ]
  },
  {
   "cell_type": "markdown",
   "metadata": {},
   "source": [
    "- [x]  Jupyter Notebook открыт\n",
    "- [x]  Весь код выполняется без ошибок\n",
    "- [x]  Ячейки с кодом расположены в порядке исполнения\n",
    "- [x]  Выполнен шаг 1: данные подготовлены\n",
    "- [x]  Выполнен шаг 2: задача исследована\n",
    "    - [x]  Исследован баланс классов\n",
    "    - [x]  Изучены модели без учёта дисбаланса\n",
    "    - [x]  Написаны выводы по результатам исследования\n",
    "- [x]  Выполнен шаг 3: учтён дисбаланс\n",
    "    - [x]  Применено несколько способов борьбы с дисбалансом\n",
    "    - [x]  Написаны выводы по результатам исследования\n",
    "- [x]  Выполнен шаг 4: проведено тестирование\n",
    "- [x]  Удалось достичь *F1*-меры не менее 0.59\n",
    "- [x]  Исследована метрика *AUC-ROC*"
   ]
  },
  {
   "cell_type": "code",
   "execution_count": null,
   "metadata": {},
   "outputs": [],
   "source": [
    "#import optuna\n",
    "\n",
    "#def objective(trial):\n",
    "#    iris = sklearn.datasets.load_iris()\n",
    "    \n",
    "#    n_estimators = trial.suggest_int('n_estimators', 2, 20)\n",
    "#    max_depth = int(trial.suggest_float('max_depth', 1, 32, log=True))\n",
    "    \n",
    "#    clf = sklearn.ensemble.RandomForestClassifier(\n",
    "#        n_estimators=n_estimators, max_depth=max_depth)\n",
    "    \n",
    "#    return sklearn.model_selection.cross_val_score(\n",
    "#        clf, iris.data, iris.target, n_jobs=-1, cv=3).mean()\n",
    "\n",
    "#study = optuna.create_study(direction='maximize')\n",
    "#study.optimize(objective, n_trials=100)\n",
    "\n",
    "#trial = study.best_trial\n",
    "\n",
    "#print('Accuracy: {}'.format(trial.value))\n",
    "#print(\"Best hyperparameters: {}\".format(trial.params))"
   ]
  }
 ],
 "metadata": {
  "ExecuteTimeLog": [
   {
    "duration": 361,
    "start_time": "2022-09-16T08:55:19.394Z"
   },
   {
    "duration": 89,
    "start_time": "2022-09-16T08:59:18.869Z"
   },
   {
    "duration": 36,
    "start_time": "2022-09-16T08:59:24.856Z"
   },
   {
    "duration": 16,
    "start_time": "2022-09-16T08:59:42.759Z"
   },
   {
    "duration": 61,
    "start_time": "2022-09-16T09:03:15.235Z"
   },
   {
    "duration": 3,
    "start_time": "2022-09-16T09:19:17.652Z"
   },
   {
    "duration": 98,
    "start_time": "2022-09-16T09:19:20.793Z"
   },
   {
    "duration": 18,
    "start_time": "2022-09-16T09:19:50.256Z"
   },
   {
    "duration": 11,
    "start_time": "2022-09-16T09:20:04.090Z"
   },
   {
    "duration": 9,
    "start_time": "2022-09-16T09:20:57.599Z"
   },
   {
    "duration": 418,
    "start_time": "2022-09-16T09:21:55.314Z"
   },
   {
    "duration": 51,
    "start_time": "2022-09-16T09:21:55.733Z"
   },
   {
    "duration": 27,
    "start_time": "2022-09-16T09:21:55.785Z"
   },
   {
    "duration": 61,
    "start_time": "2022-09-16T09:21:55.814Z"
   },
   {
    "duration": 8,
    "start_time": "2022-09-16T09:21:55.881Z"
   },
   {
    "duration": 22,
    "start_time": "2022-09-16T09:22:03.311Z"
   },
   {
    "duration": 74,
    "start_time": "2022-09-16T09:24:40.927Z"
   },
   {
    "duration": 8,
    "start_time": "2022-09-16T09:24:58.650Z"
   },
   {
    "duration": 34,
    "start_time": "2022-09-16T09:25:44.764Z"
   },
   {
    "duration": 11,
    "start_time": "2022-09-16T09:27:03.946Z"
   },
   {
    "duration": 11,
    "start_time": "2022-09-16T09:27:25.270Z"
   },
   {
    "duration": 23,
    "start_time": "2022-09-16T09:28:17.441Z"
   },
   {
    "duration": 4,
    "start_time": "2022-09-16T09:35:03.865Z"
   },
   {
    "duration": 12,
    "start_time": "2022-09-16T09:35:51.812Z"
   },
   {
    "duration": 9,
    "start_time": "2022-09-16T09:37:25.601Z"
   },
   {
    "duration": 18,
    "start_time": "2022-09-16T09:37:34.661Z"
   },
   {
    "duration": 9,
    "start_time": "2022-09-16T09:38:51.589Z"
   },
   {
    "duration": 30,
    "start_time": "2022-09-16T09:55:46.543Z"
   },
   {
    "duration": 15,
    "start_time": "2022-09-16T10:00:06.477Z"
   },
   {
    "duration": 5,
    "start_time": "2022-09-16T10:00:12.802Z"
   },
   {
    "duration": 25,
    "start_time": "2022-09-16T10:00:16.941Z"
   },
   {
    "duration": 10,
    "start_time": "2022-09-16T10:01:41.868Z"
   },
   {
    "duration": 21,
    "start_time": "2022-09-16T10:01:58.850Z"
   },
   {
    "duration": 16,
    "start_time": "2022-09-16T10:04:14.565Z"
   },
   {
    "duration": 17,
    "start_time": "2022-09-16T10:04:19.612Z"
   },
   {
    "duration": 8,
    "start_time": "2022-09-16T10:05:58.392Z"
   },
   {
    "duration": 16,
    "start_time": "2022-09-16T10:05:59.181Z"
   },
   {
    "duration": 410,
    "start_time": "2022-09-16T10:06:06.305Z"
   },
   {
    "duration": 55,
    "start_time": "2022-09-16T10:06:06.718Z"
   },
   {
    "duration": 27,
    "start_time": "2022-09-16T10:06:06.775Z"
   },
   {
    "duration": 73,
    "start_time": "2022-09-16T10:06:06.804Z"
   },
   {
    "duration": 21,
    "start_time": "2022-09-16T10:06:06.880Z"
   },
   {
    "duration": 4,
    "start_time": "2022-09-16T10:06:06.902Z"
   },
   {
    "duration": 32,
    "start_time": "2022-09-16T10:06:06.908Z"
   },
   {
    "duration": 20,
    "start_time": "2022-09-16T10:06:06.941Z"
   },
   {
    "duration": 22,
    "start_time": "2022-09-16T10:06:06.971Z"
   },
   {
    "duration": 30,
    "start_time": "2022-09-16T10:06:06.995Z"
   },
   {
    "duration": 36,
    "start_time": "2022-09-16T10:06:07.026Z"
   },
   {
    "duration": 17,
    "start_time": "2022-09-16T10:06:17.782Z"
   },
   {
    "duration": 72,
    "start_time": "2022-09-16T10:07:20.414Z"
   },
   {
    "duration": 10,
    "start_time": "2022-09-16T10:07:32.193Z"
   },
   {
    "duration": 16,
    "start_time": "2022-09-16T10:08:23.822Z"
   },
   {
    "duration": 14,
    "start_time": "2022-09-16T10:11:23.235Z"
   },
   {
    "duration": 9,
    "start_time": "2022-09-16T10:11:30.471Z"
   },
   {
    "duration": 404,
    "start_time": "2022-09-16T10:17:02.023Z"
   },
   {
    "duration": 491,
    "start_time": "2022-09-16T10:17:22.638Z"
   },
   {
    "duration": 4,
    "start_time": "2022-09-16T10:21:05.111Z"
   },
   {
    "duration": 4,
    "start_time": "2022-09-16T10:23:02.432Z"
   },
   {
    "duration": 3,
    "start_time": "2022-09-16T10:23:25.221Z"
   },
   {
    "duration": 111,
    "start_time": "2022-09-16T10:25:35.070Z"
   },
   {
    "duration": 108,
    "start_time": "2022-09-16T10:26:39.730Z"
   },
   {
    "duration": 200,
    "start_time": "2022-09-16T10:27:34.740Z"
   },
   {
    "duration": 212,
    "start_time": "2022-09-16T10:27:52.281Z"
   },
   {
    "duration": 237,
    "start_time": "2022-09-16T10:31:33.421Z"
   },
   {
    "duration": 232,
    "start_time": "2022-09-16T10:36:43.210Z"
   },
   {
    "duration": 246,
    "start_time": "2022-09-16T10:49:59.361Z"
   },
   {
    "duration": 15,
    "start_time": "2022-09-16T13:06:07.253Z"
   },
   {
    "duration": 30107,
    "start_time": "2022-09-16T13:07:57.691Z"
   },
   {
    "duration": 3,
    "start_time": "2022-09-16T13:24:55.174Z"
   },
   {
    "duration": 396,
    "start_time": "2022-09-16T13:27:30.193Z"
   },
   {
    "duration": 66,
    "start_time": "2022-09-16T13:28:18.373Z"
   },
   {
    "duration": 193,
    "start_time": "2022-09-16T13:29:26.001Z"
   },
   {
    "duration": 409,
    "start_time": "2022-09-16T13:31:47.022Z"
   },
   {
    "duration": 188,
    "start_time": "2022-09-16T13:35:51.220Z"
   },
   {
    "duration": 173,
    "start_time": "2022-09-16T13:36:04.227Z"
   },
   {
    "duration": 4,
    "start_time": "2022-09-16T13:37:14.403Z"
   },
   {
    "duration": 204,
    "start_time": "2022-09-16T13:37:34.223Z"
   },
   {
    "duration": 186,
    "start_time": "2022-09-16T13:38:31.265Z"
   },
   {
    "duration": 200,
    "start_time": "2022-09-16T13:43:00.791Z"
   },
   {
    "duration": 394,
    "start_time": "2022-09-16T13:43:33.089Z"
   },
   {
    "duration": 196,
    "start_time": "2022-09-16T13:48:09.841Z"
   },
   {
    "duration": 331,
    "start_time": "2022-09-16T13:49:25.010Z"
   },
   {
    "duration": 357,
    "start_time": "2022-09-16T13:52:37.974Z"
   },
   {
    "duration": 1433,
    "start_time": "2022-09-16T18:41:25.934Z"
   },
   {
    "duration": 76,
    "start_time": "2022-09-16T18:41:27.369Z"
   },
   {
    "duration": 22,
    "start_time": "2022-09-16T18:41:27.446Z"
   },
   {
    "duration": 41,
    "start_time": "2022-09-16T18:41:27.470Z"
   },
   {
    "duration": 18,
    "start_time": "2022-09-16T18:41:27.513Z"
   },
   {
    "duration": 3,
    "start_time": "2022-09-16T18:41:27.532Z"
   },
   {
    "duration": 11,
    "start_time": "2022-09-16T18:41:27.536Z"
   },
   {
    "duration": 4,
    "start_time": "2022-09-16T18:41:27.548Z"
   },
   {
    "duration": 14,
    "start_time": "2022-09-16T18:41:27.553Z"
   },
   {
    "duration": 2,
    "start_time": "2022-09-16T18:41:27.569Z"
   },
   {
    "duration": 11,
    "start_time": "2022-09-16T18:41:27.572Z"
   },
   {
    "duration": 32,
    "start_time": "2022-09-16T18:41:27.584Z"
   },
   {
    "duration": 3,
    "start_time": "2022-09-16T18:41:27.617Z"
   },
   {
    "duration": 218,
    "start_time": "2022-09-16T18:41:27.622Z"
   },
   {
    "duration": 23791,
    "start_time": "2022-09-16T18:41:27.841Z"
   },
   {
    "duration": 336,
    "start_time": "2022-09-16T18:41:51.634Z"
   },
   {
    "duration": 325,
    "start_time": "2022-09-16T18:41:51.972Z"
   },
   {
    "duration": 65,
    "start_time": "2022-09-16T19:10:56.500Z"
   },
   {
    "duration": 4,
    "start_time": "2022-09-16T19:12:48.565Z"
   },
   {
    "duration": 4,
    "start_time": "2022-09-16T19:14:08.274Z"
   },
   {
    "duration": 8,
    "start_time": "2022-09-16T19:18:18.591Z"
   },
   {
    "duration": 14,
    "start_time": "2022-09-16T19:20:18.511Z"
   },
   {
    "duration": 40,
    "start_time": "2022-09-16T19:23:13.005Z"
   },
   {
    "duration": 8,
    "start_time": "2022-09-16T19:24:02.872Z"
   },
   {
    "duration": 35,
    "start_time": "2022-09-16T19:26:27.804Z"
   },
   {
    "duration": 4,
    "start_time": "2022-09-16T19:26:42.181Z"
   },
   {
    "duration": 45,
    "start_time": "2022-09-16T19:27:23.708Z"
   },
   {
    "duration": 29,
    "start_time": "2022-09-16T19:29:33.363Z"
   },
   {
    "duration": 46,
    "start_time": "2022-09-16T19:29:46.085Z"
   },
   {
    "duration": 8,
    "start_time": "2022-09-16T19:29:52.573Z"
   },
   {
    "duration": 2,
    "start_time": "2022-09-16T19:38:00.438Z"
   },
   {
    "duration": 116,
    "start_time": "2022-09-16T19:39:09.299Z"
   },
   {
    "duration": 20,
    "start_time": "2022-09-16T19:39:16.708Z"
   },
   {
    "duration": 13,
    "start_time": "2022-09-16T19:40:54.909Z"
   },
   {
    "duration": 23,
    "start_time": "2022-09-16T19:43:47.070Z"
   },
   {
    "duration": 15,
    "start_time": "2022-09-16T19:43:53.750Z"
   },
   {
    "duration": 4,
    "start_time": "2022-09-16T19:55:25.671Z"
   },
   {
    "duration": 22,
    "start_time": "2022-09-16T19:56:48.435Z"
   },
   {
    "duration": 9,
    "start_time": "2022-09-16T19:57:48.738Z"
   },
   {
    "duration": 9,
    "start_time": "2022-09-16T19:58:05.433Z"
   },
   {
    "duration": 4,
    "start_time": "2022-09-16T19:58:28.459Z"
   },
   {
    "duration": 4,
    "start_time": "2022-09-16T19:58:42.591Z"
   },
   {
    "duration": 3,
    "start_time": "2022-09-16T19:58:48.093Z"
   },
   {
    "duration": 5,
    "start_time": "2022-09-16T20:00:13.999Z"
   },
   {
    "duration": 31,
    "start_time": "2022-09-16T20:00:24.386Z"
   },
   {
    "duration": 5,
    "start_time": "2022-09-16T20:00:29.686Z"
   },
   {
    "duration": 23,
    "start_time": "2022-09-16T20:00:58.319Z"
   },
   {
    "duration": 6,
    "start_time": "2022-09-16T20:01:01.261Z"
   },
   {
    "duration": 1268,
    "start_time": "2022-09-16T20:01:06.859Z"
   },
   {
    "duration": 40,
    "start_time": "2022-09-16T20:01:08.130Z"
   },
   {
    "duration": 21,
    "start_time": "2022-09-16T20:01:08.173Z"
   },
   {
    "duration": 43,
    "start_time": "2022-09-16T20:01:08.196Z"
   },
   {
    "duration": 18,
    "start_time": "2022-09-16T20:01:08.241Z"
   },
   {
    "duration": 3,
    "start_time": "2022-09-16T20:01:08.261Z"
   },
   {
    "duration": 15,
    "start_time": "2022-09-16T20:01:08.265Z"
   },
   {
    "duration": 6,
    "start_time": "2022-09-16T20:01:08.281Z"
   },
   {
    "duration": 22,
    "start_time": "2022-09-16T20:01:08.288Z"
   },
   {
    "duration": 2,
    "start_time": "2022-09-16T20:01:08.311Z"
   },
   {
    "duration": 11,
    "start_time": "2022-09-16T20:01:08.314Z"
   },
   {
    "duration": 17,
    "start_time": "2022-09-16T20:01:08.326Z"
   },
   {
    "duration": 3,
    "start_time": "2022-09-16T20:01:08.345Z"
   },
   {
    "duration": 232,
    "start_time": "2022-09-16T20:01:08.350Z"
   },
   {
    "duration": 23960,
    "start_time": "2022-09-16T20:01:08.584Z"
   },
   {
    "duration": 343,
    "start_time": "2022-09-16T20:01:32.546Z"
   },
   {
    "duration": 319,
    "start_time": "2022-09-16T20:01:32.890Z"
   },
   {
    "duration": 8,
    "start_time": "2022-09-16T20:01:33.210Z"
   },
   {
    "duration": 32,
    "start_time": "2022-09-16T20:01:33.219Z"
   },
   {
    "duration": 132,
    "start_time": "2022-09-16T20:01:33.311Z"
   },
   {
    "duration": 8,
    "start_time": "2022-09-16T20:01:33.445Z"
   },
   {
    "duration": 22,
    "start_time": "2022-09-16T20:01:33.454Z"
   },
   {
    "duration": 2,
    "start_time": "2022-09-16T20:01:33.477Z"
   },
   {
    "duration": 29,
    "start_time": "2022-09-16T20:01:33.481Z"
   },
   {
    "duration": 27,
    "start_time": "2022-09-16T20:01:33.512Z"
   },
   {
    "duration": 4,
    "start_time": "2022-09-16T20:01:33.540Z"
   },
   {
    "duration": 1384,
    "start_time": "2022-09-16T20:04:22.980Z"
   },
   {
    "duration": 44,
    "start_time": "2022-09-16T20:04:24.366Z"
   },
   {
    "duration": 37,
    "start_time": "2022-09-16T20:04:24.412Z"
   },
   {
    "duration": 69,
    "start_time": "2022-09-16T20:04:24.451Z"
   },
   {
    "duration": 22,
    "start_time": "2022-09-16T20:04:24.523Z"
   },
   {
    "duration": 3,
    "start_time": "2022-09-16T20:04:24.547Z"
   },
   {
    "duration": 11,
    "start_time": "2022-09-16T20:04:24.552Z"
   },
   {
    "duration": 11,
    "start_time": "2022-09-16T20:04:24.564Z"
   },
   {
    "duration": 34,
    "start_time": "2022-09-16T20:04:24.576Z"
   },
   {
    "duration": 2,
    "start_time": "2022-09-16T20:04:24.611Z"
   },
   {
    "duration": 11,
    "start_time": "2022-09-16T20:04:24.615Z"
   },
   {
    "duration": 16,
    "start_time": "2022-09-16T20:04:24.628Z"
   },
   {
    "duration": 4,
    "start_time": "2022-09-16T20:04:24.645Z"
   },
   {
    "duration": 231,
    "start_time": "2022-09-16T20:04:24.652Z"
   },
   {
    "duration": 23868,
    "start_time": "2022-09-16T20:04:24.884Z"
   },
   {
    "duration": 341,
    "start_time": "2022-09-16T20:04:48.753Z"
   },
   {
    "duration": 303,
    "start_time": "2022-09-16T20:04:49.095Z"
   },
   {
    "duration": 14,
    "start_time": "2022-09-16T20:04:49.400Z"
   },
   {
    "duration": 95,
    "start_time": "2022-09-16T20:04:49.415Z"
   },
   {
    "duration": 131,
    "start_time": "2022-09-16T20:04:49.513Z"
   },
   {
    "duration": 7,
    "start_time": "2022-09-16T20:04:49.646Z"
   },
   {
    "duration": 26,
    "start_time": "2022-09-16T20:04:49.655Z"
   },
   {
    "duration": 4,
    "start_time": "2022-09-16T20:04:49.683Z"
   },
   {
    "duration": 21,
    "start_time": "2022-09-16T20:04:49.689Z"
   },
   {
    "duration": 18,
    "start_time": "2022-09-16T20:04:49.712Z"
   },
   {
    "duration": 5,
    "start_time": "2022-09-16T20:04:49.731Z"
   },
   {
    "duration": 27,
    "start_time": "2022-09-16T20:05:04.394Z"
   },
   {
    "duration": 5,
    "start_time": "2022-09-16T20:05:04.891Z"
   },
   {
    "duration": 43,
    "start_time": "2022-09-16T20:05:13.570Z"
   },
   {
    "duration": 5,
    "start_time": "2022-09-16T20:05:13.961Z"
   },
   {
    "duration": 1275,
    "start_time": "2022-09-16T20:05:28.856Z"
   },
   {
    "duration": 39,
    "start_time": "2022-09-16T20:05:30.133Z"
   },
   {
    "duration": 20,
    "start_time": "2022-09-16T20:05:30.174Z"
   },
   {
    "duration": 42,
    "start_time": "2022-09-16T20:05:30.197Z"
   },
   {
    "duration": 18,
    "start_time": "2022-09-16T20:05:30.240Z"
   },
   {
    "duration": 3,
    "start_time": "2022-09-16T20:05:30.259Z"
   },
   {
    "duration": 19,
    "start_time": "2022-09-16T20:05:30.263Z"
   },
   {
    "duration": 6,
    "start_time": "2022-09-16T20:05:30.283Z"
   },
   {
    "duration": 22,
    "start_time": "2022-09-16T20:05:30.290Z"
   },
   {
    "duration": 3,
    "start_time": "2022-09-16T20:05:30.314Z"
   },
   {
    "duration": 11,
    "start_time": "2022-09-16T20:05:30.318Z"
   },
   {
    "duration": 17,
    "start_time": "2022-09-16T20:05:30.330Z"
   },
   {
    "duration": 3,
    "start_time": "2022-09-16T20:05:30.348Z"
   },
   {
    "duration": 222,
    "start_time": "2022-09-16T20:05:30.352Z"
   },
   {
    "duration": 23695,
    "start_time": "2022-09-16T20:05:30.575Z"
   },
   {
    "duration": 346,
    "start_time": "2022-09-16T20:05:54.301Z"
   },
   {
    "duration": 339,
    "start_time": "2022-09-16T20:05:54.648Z"
   },
   {
    "duration": 20,
    "start_time": "2022-09-16T20:05:54.989Z"
   },
   {
    "duration": 102,
    "start_time": "2022-09-16T20:05:55.010Z"
   },
   {
    "duration": 128,
    "start_time": "2022-09-16T20:05:55.113Z"
   },
   {
    "duration": 9,
    "start_time": "2022-09-16T20:05:55.242Z"
   },
   {
    "duration": 25,
    "start_time": "2022-09-16T20:05:55.252Z"
   },
   {
    "duration": 2,
    "start_time": "2022-09-16T20:05:55.279Z"
   },
   {
    "duration": 9,
    "start_time": "2022-09-16T20:05:55.282Z"
   },
   {
    "duration": 18,
    "start_time": "2022-09-16T20:05:55.309Z"
   },
   {
    "duration": 4,
    "start_time": "2022-09-16T20:05:55.329Z"
   },
   {
    "duration": 1484,
    "start_time": "2022-09-16T20:06:24.589Z"
   },
   {
    "duration": 39,
    "start_time": "2022-09-16T20:06:26.075Z"
   },
   {
    "duration": 34,
    "start_time": "2022-09-16T20:06:26.116Z"
   },
   {
    "duration": 64,
    "start_time": "2022-09-16T20:06:26.151Z"
   },
   {
    "duration": 19,
    "start_time": "2022-09-16T20:06:26.217Z"
   },
   {
    "duration": 4,
    "start_time": "2022-09-16T20:06:26.237Z"
   },
   {
    "duration": 23,
    "start_time": "2022-09-16T20:06:26.243Z"
   },
   {
    "duration": 5,
    "start_time": "2022-09-16T20:06:26.268Z"
   },
   {
    "duration": 12,
    "start_time": "2022-09-16T20:06:26.274Z"
   },
   {
    "duration": 4,
    "start_time": "2022-09-16T20:06:26.287Z"
   },
   {
    "duration": 9,
    "start_time": "2022-09-16T20:06:26.309Z"
   },
   {
    "duration": 30,
    "start_time": "2022-09-16T20:06:26.319Z"
   },
   {
    "duration": 3,
    "start_time": "2022-09-16T20:06:26.350Z"
   },
   {
    "duration": 239,
    "start_time": "2022-09-16T20:06:26.356Z"
   },
   {
    "duration": 23787,
    "start_time": "2022-09-16T20:06:26.597Z"
   },
   {
    "duration": 319,
    "start_time": "2022-09-16T20:06:50.385Z"
   },
   {
    "duration": 304,
    "start_time": "2022-09-16T20:06:50.709Z"
   },
   {
    "duration": 8,
    "start_time": "2022-09-16T20:06:51.015Z"
   },
   {
    "duration": 85,
    "start_time": "2022-09-16T20:06:51.024Z"
   },
   {
    "duration": 129,
    "start_time": "2022-09-16T20:06:51.110Z"
   },
   {
    "duration": 9,
    "start_time": "2022-09-16T20:06:51.241Z"
   },
   {
    "duration": 30,
    "start_time": "2022-09-16T20:06:51.252Z"
   },
   {
    "duration": 25,
    "start_time": "2022-09-16T20:06:51.284Z"
   },
   {
    "duration": 15,
    "start_time": "2022-09-16T20:06:51.310Z"
   },
   {
    "duration": 25,
    "start_time": "2022-09-16T20:06:51.326Z"
   },
   {
    "duration": 4,
    "start_time": "2022-09-16T20:06:51.352Z"
   },
   {
    "duration": 6,
    "start_time": "2022-09-16T20:07:14.139Z"
   },
   {
    "duration": 16,
    "start_time": "2022-09-16T20:08:50.804Z"
   },
   {
    "duration": 4,
    "start_time": "2022-09-16T20:09:27.940Z"
   },
   {
    "duration": 3,
    "start_time": "2022-09-16T20:09:35.090Z"
   },
   {
    "duration": 3,
    "start_time": "2022-09-16T20:09:55.748Z"
   },
   {
    "duration": 1555,
    "start_time": "2022-09-18T18:17:51.795Z"
   },
   {
    "duration": 166,
    "start_time": "2022-09-18T18:17:53.352Z"
   },
   {
    "duration": 26,
    "start_time": "2022-09-18T18:17:53.519Z"
   },
   {
    "duration": 45,
    "start_time": "2022-09-18T18:17:53.546Z"
   },
   {
    "duration": 39,
    "start_time": "2022-09-18T18:17:53.593Z"
   },
   {
    "duration": 3,
    "start_time": "2022-09-18T18:17:53.636Z"
   },
   {
    "duration": 19,
    "start_time": "2022-09-18T18:17:53.640Z"
   },
   {
    "duration": 16,
    "start_time": "2022-09-18T18:17:53.660Z"
   },
   {
    "duration": 24,
    "start_time": "2022-09-18T18:17:53.677Z"
   },
   {
    "duration": 13,
    "start_time": "2022-09-18T18:17:53.703Z"
   },
   {
    "duration": 26,
    "start_time": "2022-09-18T18:17:53.717Z"
   },
   {
    "duration": 27,
    "start_time": "2022-09-18T18:17:53.745Z"
   },
   {
    "duration": 3,
    "start_time": "2022-09-18T18:17:53.774Z"
   },
   {
    "duration": 259,
    "start_time": "2022-09-18T18:17:53.779Z"
   },
   {
    "duration": 25693,
    "start_time": "2022-09-18T18:17:54.040Z"
   },
   {
    "duration": 375,
    "start_time": "2022-09-18T18:18:19.738Z"
   },
   {
    "duration": 340,
    "start_time": "2022-09-18T18:18:20.121Z"
   },
   {
    "duration": 10,
    "start_time": "2022-09-18T18:18:20.465Z"
   },
   {
    "duration": 59,
    "start_time": "2022-09-18T18:18:20.478Z"
   },
   {
    "duration": 191,
    "start_time": "2022-09-18T18:18:20.539Z"
   },
   {
    "duration": 16,
    "start_time": "2022-09-18T18:18:20.735Z"
   },
   {
    "duration": 29,
    "start_time": "2022-09-18T18:18:20.753Z"
   },
   {
    "duration": 2,
    "start_time": "2022-09-18T18:18:20.784Z"
   },
   {
    "duration": 10,
    "start_time": "2022-09-18T18:18:20.788Z"
   },
   {
    "duration": 37,
    "start_time": "2022-09-18T18:18:20.800Z"
   },
   {
    "duration": 7,
    "start_time": "2022-09-18T18:18:20.839Z"
   },
   {
    "duration": 11,
    "start_time": "2022-09-18T18:18:20.848Z"
   },
   {
    "duration": 3,
    "start_time": "2022-09-18T18:18:55.877Z"
   },
   {
    "duration": 1418,
    "start_time": "2022-09-18T18:19:31.463Z"
   },
   {
    "duration": 42,
    "start_time": "2022-09-18T18:19:32.883Z"
   },
   {
    "duration": 25,
    "start_time": "2022-09-18T18:19:32.935Z"
   },
   {
    "duration": 49,
    "start_time": "2022-09-18T18:19:32.961Z"
   },
   {
    "duration": 34,
    "start_time": "2022-09-18T18:19:33.012Z"
   },
   {
    "duration": 7,
    "start_time": "2022-09-18T18:19:33.048Z"
   },
   {
    "duration": 16,
    "start_time": "2022-09-18T18:19:33.056Z"
   },
   {
    "duration": 5,
    "start_time": "2022-09-18T18:19:33.074Z"
   },
   {
    "duration": 17,
    "start_time": "2022-09-18T18:19:33.080Z"
   },
   {
    "duration": 2,
    "start_time": "2022-09-18T18:19:33.099Z"
   },
   {
    "duration": 34,
    "start_time": "2022-09-18T18:19:33.103Z"
   },
   {
    "duration": 22,
    "start_time": "2022-09-18T18:19:33.139Z"
   },
   {
    "duration": 4,
    "start_time": "2022-09-18T18:19:33.162Z"
   },
   {
    "duration": 271,
    "start_time": "2022-09-18T18:19:33.169Z"
   },
   {
    "duration": 25918,
    "start_time": "2022-09-18T18:19:33.442Z"
   },
   {
    "duration": 343,
    "start_time": "2022-09-18T18:19:59.363Z"
   },
   {
    "duration": 341,
    "start_time": "2022-09-18T18:19:59.708Z"
   },
   {
    "duration": 9,
    "start_time": "2022-09-18T18:20:00.050Z"
   },
   {
    "duration": 161,
    "start_time": "2022-09-18T18:20:00.060Z"
   },
   {
    "duration": 118,
    "start_time": "2022-09-18T18:20:00.223Z"
   },
   {
    "duration": 9,
    "start_time": "2022-09-18T18:20:00.343Z"
   },
   {
    "duration": 4,
    "start_time": "2022-09-18T18:20:03.852Z"
   },
   {
    "duration": 6,
    "start_time": "2022-09-18T18:22:07.156Z"
   },
   {
    "duration": 123,
    "start_time": "2022-09-18T18:24:43.120Z"
   },
   {
    "duration": 5,
    "start_time": "2022-09-18T18:24:51.941Z"
   },
   {
    "duration": 26,
    "start_time": "2022-09-18T18:25:11.984Z"
   },
   {
    "duration": 3,
    "start_time": "2022-09-18T18:25:12.404Z"
   },
   {
    "duration": 4,
    "start_time": "2022-09-18T18:25:12.793Z"
   },
   {
    "duration": 20,
    "start_time": "2022-09-18T18:25:13.201Z"
   },
   {
    "duration": 6,
    "start_time": "2022-09-18T18:25:13.553Z"
   },
   {
    "duration": 3,
    "start_time": "2022-09-18T18:25:13.947Z"
   },
   {
    "duration": 8,
    "start_time": "2022-09-18T18:25:19.116Z"
   },
   {
    "duration": 47,
    "start_time": "2022-09-18T18:25:25.517Z"
   },
   {
    "duration": 28,
    "start_time": "2022-09-18T18:25:28.637Z"
   },
   {
    "duration": 1395,
    "start_time": "2022-09-18T18:25:35.396Z"
   },
   {
    "duration": 45,
    "start_time": "2022-09-18T18:25:36.792Z"
   },
   {
    "duration": 21,
    "start_time": "2022-09-18T18:25:36.838Z"
   },
   {
    "duration": 59,
    "start_time": "2022-09-18T18:25:36.861Z"
   },
   {
    "duration": 21,
    "start_time": "2022-09-18T18:25:36.928Z"
   },
   {
    "duration": 10,
    "start_time": "2022-09-18T18:25:36.951Z"
   },
   {
    "duration": 38,
    "start_time": "2022-09-18T18:25:36.962Z"
   },
   {
    "duration": 36,
    "start_time": "2022-09-18T18:25:37.002Z"
   },
   {
    "duration": 39,
    "start_time": "2022-09-18T18:25:37.039Z"
   },
   {
    "duration": 20,
    "start_time": "2022-09-18T18:25:37.080Z"
   },
   {
    "duration": 51,
    "start_time": "2022-09-18T18:25:37.101Z"
   },
   {
    "duration": 22,
    "start_time": "2022-09-18T18:25:37.153Z"
   },
   {
    "duration": 29,
    "start_time": "2022-09-18T18:25:37.177Z"
   },
   {
    "duration": 268,
    "start_time": "2022-09-18T18:25:37.209Z"
   },
   {
    "duration": 25422,
    "start_time": "2022-09-18T18:25:37.478Z"
   },
   {
    "duration": 308,
    "start_time": "2022-09-18T18:26:02.902Z"
   },
   {
    "duration": 311,
    "start_time": "2022-09-18T18:26:03.227Z"
   },
   {
    "duration": 11,
    "start_time": "2022-09-18T18:26:03.540Z"
   },
   {
    "duration": 91,
    "start_time": "2022-09-18T18:26:03.553Z"
   },
   {
    "duration": 110,
    "start_time": "2022-09-18T18:26:03.646Z"
   },
   {
    "duration": 66,
    "start_time": "2022-09-18T18:26:03.758Z"
   },
   {
    "duration": 19,
    "start_time": "2022-09-18T18:26:03.826Z"
   },
   {
    "duration": 53,
    "start_time": "2022-09-18T18:26:03.847Z"
   },
   {
    "duration": 7,
    "start_time": "2022-09-18T18:26:03.901Z"
   },
   {
    "duration": 46,
    "start_time": "2022-09-18T18:26:03.909Z"
   },
   {
    "duration": 33,
    "start_time": "2022-09-18T18:26:03.956Z"
   },
   {
    "duration": 8,
    "start_time": "2022-09-18T18:26:03.991Z"
   },
   {
    "duration": 35,
    "start_time": "2022-09-18T18:26:04.000Z"
   },
   {
    "duration": 4,
    "start_time": "2022-09-18T19:16:09.697Z"
   },
   {
    "duration": 4,
    "start_time": "2022-09-18T19:16:17.156Z"
   },
   {
    "duration": 3214,
    "start_time": "2022-09-18T19:30:35.134Z"
   },
   {
    "duration": 109,
    "start_time": "2022-09-18T19:32:54.404Z"
   },
   {
    "duration": 15,
    "start_time": "2022-09-18T19:33:13.911Z"
   },
   {
    "duration": 5,
    "start_time": "2022-09-18T19:34:22.514Z"
   },
   {
    "duration": 3609,
    "start_time": "2022-09-18T19:35:23.306Z"
   },
   {
    "duration": 11,
    "start_time": "2022-09-18T19:35:35.748Z"
   },
   {
    "duration": 6,
    "start_time": "2022-09-18T19:35:41.594Z"
   },
   {
    "duration": 3383,
    "start_time": "2022-09-18T19:36:21.212Z"
   },
   {
    "duration": 3136,
    "start_time": "2022-09-18T19:36:46.675Z"
   },
   {
    "duration": 15,
    "start_time": "2022-09-18T19:36:57.646Z"
   },
   {
    "duration": 3817,
    "start_time": "2022-09-18T19:37:17.154Z"
   },
   {
    "duration": 11,
    "start_time": "2022-09-18T19:37:28.668Z"
   },
   {
    "duration": 9,
    "start_time": "2022-09-18T19:37:34.343Z"
   },
   {
    "duration": 45,
    "start_time": "2022-09-18T19:38:59.113Z"
   },
   {
    "duration": 5,
    "start_time": "2022-09-18T19:39:24.108Z"
   },
   {
    "duration": 3307,
    "start_time": "2022-09-18T19:40:15.008Z"
   },
   {
    "duration": 9,
    "start_time": "2022-09-18T19:40:23.748Z"
   },
   {
    "duration": 10,
    "start_time": "2022-09-18T19:40:26.438Z"
   },
   {
    "duration": 3983,
    "start_time": "2022-09-18T19:41:41.512Z"
   },
   {
    "duration": 14,
    "start_time": "2022-09-18T19:41:50.941Z"
   },
   {
    "duration": 12,
    "start_time": "2022-09-18T19:41:58.468Z"
   },
   {
    "duration": 4,
    "start_time": "2022-09-18T19:42:05.300Z"
   },
   {
    "duration": 4,
    "start_time": "2022-09-18T19:42:58.093Z"
   },
   {
    "duration": 4027,
    "start_time": "2022-09-18T19:43:18.716Z"
   },
   {
    "duration": 16,
    "start_time": "2022-09-18T19:43:27.861Z"
   },
   {
    "duration": 4,
    "start_time": "2022-09-18T19:43:30.383Z"
   },
   {
    "duration": 3729,
    "start_time": "2022-09-18T19:43:46.015Z"
   },
   {
    "duration": 12,
    "start_time": "2022-09-18T19:43:49.749Z"
   },
   {
    "duration": 4,
    "start_time": "2022-09-18T19:43:52.405Z"
   },
   {
    "duration": 9,
    "start_time": "2022-09-18T19:43:57.460Z"
   },
   {
    "duration": 6,
    "start_time": "2022-09-18T19:44:18.679Z"
   },
   {
    "duration": 3999,
    "start_time": "2022-09-18T19:45:17.310Z"
   },
   {
    "duration": 15,
    "start_time": "2022-09-18T19:45:21.311Z"
   },
   {
    "duration": 5,
    "start_time": "2022-09-18T19:45:26.260Z"
   },
   {
    "duration": 3989,
    "start_time": "2022-09-18T19:49:31.587Z"
   },
   {
    "duration": 10,
    "start_time": "2022-09-18T19:49:38.558Z"
   },
   {
    "duration": 5,
    "start_time": "2022-09-18T19:49:59.599Z"
   },
   {
    "duration": 10,
    "start_time": "2022-09-18T19:51:16.330Z"
   },
   {
    "duration": 3327,
    "start_time": "2022-09-18T19:51:20.846Z"
   },
   {
    "duration": 12,
    "start_time": "2022-09-18T19:51:25.392Z"
   },
   {
    "duration": 6,
    "start_time": "2022-09-18T19:51:33.420Z"
   },
   {
    "duration": 3392,
    "start_time": "2022-09-18T19:54:55.001Z"
   },
   {
    "duration": 5,
    "start_time": "2022-09-18T19:55:04.931Z"
   },
   {
    "duration": 10,
    "start_time": "2022-09-18T19:55:27.536Z"
   },
   {
    "duration": 4,
    "start_time": "2022-09-18T19:55:29.005Z"
   },
   {
    "duration": 3382,
    "start_time": "2022-09-18T19:57:31.607Z"
   },
   {
    "duration": 11,
    "start_time": "2022-09-18T19:57:41.314Z"
   },
   {
    "duration": 5,
    "start_time": "2022-09-18T19:57:46.772Z"
   },
   {
    "duration": 1387,
    "start_time": "2022-09-18T20:02:05.536Z"
   },
   {
    "duration": 40,
    "start_time": "2022-09-18T20:02:06.925Z"
   },
   {
    "duration": 21,
    "start_time": "2022-09-18T20:02:06.966Z"
   },
   {
    "duration": 44,
    "start_time": "2022-09-18T20:02:06.988Z"
   },
   {
    "duration": 27,
    "start_time": "2022-09-18T20:02:07.034Z"
   },
   {
    "duration": 6,
    "start_time": "2022-09-18T20:02:07.069Z"
   },
   {
    "duration": 14,
    "start_time": "2022-09-18T20:02:07.076Z"
   },
   {
    "duration": 5,
    "start_time": "2022-09-18T20:02:07.091Z"
   },
   {
    "duration": 10,
    "start_time": "2022-09-18T20:02:07.097Z"
   },
   {
    "duration": 2,
    "start_time": "2022-09-18T20:02:07.122Z"
   },
   {
    "duration": 11,
    "start_time": "2022-09-18T20:02:07.126Z"
   },
   {
    "duration": 29,
    "start_time": "2022-09-18T20:02:07.139Z"
   },
   {
    "duration": 4,
    "start_time": "2022-09-18T20:02:07.170Z"
   },
   {
    "duration": 242,
    "start_time": "2022-09-18T20:02:07.176Z"
   },
   {
    "duration": 24056,
    "start_time": "2022-09-18T20:02:07.420Z"
   },
   {
    "duration": 346,
    "start_time": "2022-09-18T20:02:31.478Z"
   },
   {
    "duration": 281,
    "start_time": "2022-09-18T20:02:31.826Z"
   },
   {
    "duration": 15,
    "start_time": "2022-09-18T20:02:32.109Z"
   },
   {
    "duration": 98,
    "start_time": "2022-09-18T20:02:32.125Z"
   },
   {
    "duration": 122,
    "start_time": "2022-09-18T20:02:32.225Z"
   },
   {
    "duration": 8,
    "start_time": "2022-09-18T20:02:32.349Z"
   },
   {
    "duration": 6,
    "start_time": "2022-09-18T20:02:32.358Z"
   },
   {
    "duration": 24,
    "start_time": "2022-09-18T20:02:32.365Z"
   },
   {
    "duration": 2,
    "start_time": "2022-09-18T20:02:32.391Z"
   },
   {
    "duration": 30,
    "start_time": "2022-09-18T20:02:32.395Z"
   },
   {
    "duration": 21,
    "start_time": "2022-09-18T20:02:32.427Z"
   },
   {
    "duration": 5,
    "start_time": "2022-09-18T20:02:32.449Z"
   },
   {
    "duration": 6,
    "start_time": "2022-09-18T20:02:32.456Z"
   },
   {
    "duration": 3380,
    "start_time": "2022-09-18T20:02:32.464Z"
   },
   {
    "duration": 10,
    "start_time": "2022-09-18T20:02:41.265Z"
   },
   {
    "duration": 6,
    "start_time": "2022-09-18T20:02:42.837Z"
   },
   {
    "duration": 98223,
    "start_time": "2022-09-18T20:03:46.416Z"
   },
   {
    "duration": 18,
    "start_time": "2022-09-18T20:05:58.659Z"
   },
   {
    "duration": 4,
    "start_time": "2022-09-18T20:06:03.748Z"
   },
   {
    "duration": 61377,
    "start_time": "2022-09-18T20:07:04.240Z"
   },
   {
    "duration": 19,
    "start_time": "2022-09-18T20:08:15.476Z"
   },
   {
    "duration": 4,
    "start_time": "2022-09-18T20:08:27.098Z"
   },
   {
    "duration": 1541,
    "start_time": "2022-09-19T09:14:22.836Z"
   },
   {
    "duration": 155,
    "start_time": "2022-09-19T09:14:24.379Z"
   },
   {
    "duration": 25,
    "start_time": "2022-09-19T09:14:24.535Z"
   },
   {
    "duration": 63,
    "start_time": "2022-09-19T09:14:24.563Z"
   },
   {
    "duration": 25,
    "start_time": "2022-09-19T09:14:24.628Z"
   },
   {
    "duration": 3,
    "start_time": "2022-09-19T09:14:24.655Z"
   },
   {
    "duration": 30,
    "start_time": "2022-09-19T09:14:24.660Z"
   },
   {
    "duration": 10,
    "start_time": "2022-09-19T09:14:24.692Z"
   },
   {
    "duration": 22,
    "start_time": "2022-09-19T09:14:24.704Z"
   },
   {
    "duration": 12,
    "start_time": "2022-09-19T09:14:24.730Z"
   },
   {
    "duration": 26,
    "start_time": "2022-09-19T09:14:24.743Z"
   },
   {
    "duration": 42,
    "start_time": "2022-09-19T09:14:24.771Z"
   },
   {
    "duration": 28,
    "start_time": "2022-09-19T09:14:24.816Z"
   },
   {
    "duration": 241,
    "start_time": "2022-09-19T09:14:24.846Z"
   },
   {
    "duration": 26600,
    "start_time": "2022-09-19T09:14:25.089Z"
   },
   {
    "duration": 417,
    "start_time": "2022-09-19T09:14:51.691Z"
   },
   {
    "duration": 358,
    "start_time": "2022-09-19T09:14:52.110Z"
   },
   {
    "duration": 19,
    "start_time": "2022-09-19T09:14:52.470Z"
   },
   {
    "duration": 102,
    "start_time": "2022-09-19T09:14:52.491Z"
   },
   {
    "duration": 128,
    "start_time": "2022-09-19T09:14:52.597Z"
   },
   {
    "duration": 369,
    "start_time": "2022-09-19T09:14:52.726Z"
   },
   {
    "duration": 14,
    "start_time": "2022-09-19T09:14:53.097Z"
   },
   {
    "duration": 23,
    "start_time": "2022-09-19T09:14:53.112Z"
   },
   {
    "duration": 2,
    "start_time": "2022-09-19T09:14:53.137Z"
   },
   {
    "duration": 20,
    "start_time": "2022-09-19T09:14:53.141Z"
   },
   {
    "duration": 43,
    "start_time": "2022-09-19T09:14:53.163Z"
   },
   {
    "duration": 29,
    "start_time": "2022-09-19T09:14:53.208Z"
   },
   {
    "duration": 12,
    "start_time": "2022-09-19T09:14:53.241Z"
   },
   {
    "duration": 3858,
    "start_time": "2022-09-19T09:14:53.255Z"
   },
   {
    "duration": 10,
    "start_time": "2022-09-19T09:14:57.115Z"
   },
   {
    "duration": 11,
    "start_time": "2022-09-19T09:14:57.126Z"
   },
   {
    "duration": 70409,
    "start_time": "2022-09-19T09:14:57.138Z"
   },
   {
    "duration": 19,
    "start_time": "2022-09-19T09:16:07.549Z"
   },
   {
    "duration": 20,
    "start_time": "2022-09-19T09:16:07.570Z"
   },
   {
    "duration": 24,
    "start_time": "2022-09-19T09:16:07.592Z"
   },
   {
    "duration": 27,
    "start_time": "2022-09-19T09:17:52.103Z"
   },
   {
    "duration": 13,
    "start_time": "2022-09-19T09:18:00.111Z"
   },
   {
    "duration": 19,
    "start_time": "2022-09-19T09:18:14.016Z"
   },
   {
    "duration": 1496,
    "start_time": "2022-09-19T09:18:21.554Z"
   },
   {
    "duration": 42,
    "start_time": "2022-09-19T09:18:23.053Z"
   },
   {
    "duration": 23,
    "start_time": "2022-09-19T09:18:23.096Z"
   },
   {
    "duration": 46,
    "start_time": "2022-09-19T09:18:23.120Z"
   },
   {
    "duration": 34,
    "start_time": "2022-09-19T09:18:23.168Z"
   },
   {
    "duration": 3,
    "start_time": "2022-09-19T09:18:23.203Z"
   },
   {
    "duration": 15,
    "start_time": "2022-09-19T09:18:23.208Z"
   },
   {
    "duration": 4,
    "start_time": "2022-09-19T09:18:23.225Z"
   },
   {
    "duration": 13,
    "start_time": "2022-09-19T09:18:23.230Z"
   },
   {
    "duration": 2,
    "start_time": "2022-09-19T09:18:23.244Z"
   },
   {
    "duration": 12,
    "start_time": "2022-09-19T09:18:23.248Z"
   },
   {
    "duration": 39,
    "start_time": "2022-09-19T09:18:23.261Z"
   },
   {
    "duration": 3,
    "start_time": "2022-09-19T09:18:23.302Z"
   },
   {
    "duration": 254,
    "start_time": "2022-09-19T09:18:23.308Z"
   },
   {
    "duration": 26185,
    "start_time": "2022-09-19T09:18:23.564Z"
   },
   {
    "duration": 339,
    "start_time": "2022-09-19T09:18:49.751Z"
   },
   {
    "duration": 356,
    "start_time": "2022-09-19T09:18:50.092Z"
   },
   {
    "duration": 9,
    "start_time": "2022-09-19T09:18:50.450Z"
   },
   {
    "duration": 50,
    "start_time": "2022-09-19T09:18:50.460Z"
   },
   {
    "duration": 205,
    "start_time": "2022-09-19T09:18:50.511Z"
   },
   {
    "duration": 8,
    "start_time": "2022-09-19T09:18:50.718Z"
   },
   {
    "duration": 7,
    "start_time": "2022-09-19T09:18:50.728Z"
   },
   {
    "duration": 53,
    "start_time": "2022-09-19T09:18:50.737Z"
   },
   {
    "duration": 2,
    "start_time": "2022-09-19T09:18:50.792Z"
   },
   {
    "duration": 6,
    "start_time": "2022-09-19T09:18:50.797Z"
   },
   {
    "duration": 28,
    "start_time": "2022-09-19T09:18:50.804Z"
   },
   {
    "duration": 6,
    "start_time": "2022-09-19T09:18:50.834Z"
   },
   {
    "duration": 4,
    "start_time": "2022-09-19T09:18:50.842Z"
   },
   {
    "duration": 3647,
    "start_time": "2022-09-19T09:18:50.847Z"
   },
   {
    "duration": 9,
    "start_time": "2022-09-19T09:18:54.496Z"
   },
   {
    "duration": 6,
    "start_time": "2022-09-19T09:18:54.507Z"
   },
   {
    "duration": 69603,
    "start_time": "2022-09-19T09:18:54.514Z"
   },
   {
    "duration": 21,
    "start_time": "2022-09-19T09:20:04.119Z"
   },
   {
    "duration": 4,
    "start_time": "2022-09-19T09:20:04.142Z"
   },
   {
    "duration": 48,
    "start_time": "2022-09-19T09:20:04.148Z"
   },
   {
    "duration": 75,
    "start_time": "2022-09-19T09:23:51.416Z"
   },
   {
    "duration": 4,
    "start_time": "2022-09-19T09:30:07.670Z"
   },
   {
    "duration": 2174,
    "start_time": "2022-09-19T09:42:37.824Z"
   },
   {
    "duration": 5,
    "start_time": "2022-09-19T09:43:54.642Z"
   },
   {
    "duration": 5,
    "start_time": "2022-09-19T09:44:12.634Z"
   },
   {
    "duration": 85,
    "start_time": "2022-09-19T09:47:20.532Z"
   },
   {
    "duration": 5,
    "start_time": "2022-09-19T09:47:56.741Z"
   },
   {
    "duration": 5,
    "start_time": "2022-09-19T09:48:02.345Z"
   },
   {
    "duration": 6,
    "start_time": "2022-09-19T09:48:08.044Z"
   },
   {
    "duration": 418367,
    "start_time": "2022-09-19T09:49:45.272Z"
   },
   {
    "duration": 5,
    "start_time": "2022-09-19T09:57:21.416Z"
   },
   {
    "duration": 34049,
    "start_time": "2022-09-19T09:59:58.433Z"
   },
   {
    "duration": 1389,
    "start_time": "2022-09-19T10:00:36.743Z"
   },
   {
    "duration": 43,
    "start_time": "2022-09-19T10:00:38.134Z"
   },
   {
    "duration": 26,
    "start_time": "2022-09-19T10:00:38.178Z"
   },
   {
    "duration": 55,
    "start_time": "2022-09-19T10:00:38.206Z"
   },
   {
    "duration": 39,
    "start_time": "2022-09-19T10:00:38.262Z"
   },
   {
    "duration": 5,
    "start_time": "2022-09-19T10:00:38.303Z"
   },
   {
    "duration": 17,
    "start_time": "2022-09-19T10:00:38.310Z"
   },
   {
    "duration": 4,
    "start_time": "2022-09-19T10:00:38.329Z"
   },
   {
    "duration": 14,
    "start_time": "2022-09-19T10:00:38.335Z"
   },
   {
    "duration": 2,
    "start_time": "2022-09-19T10:00:38.351Z"
   },
   {
    "duration": 13,
    "start_time": "2022-09-19T10:00:38.355Z"
   },
   {
    "duration": 35,
    "start_time": "2022-09-19T10:00:38.370Z"
   },
   {
    "duration": 4,
    "start_time": "2022-09-19T10:00:38.407Z"
   },
   {
    "duration": 252,
    "start_time": "2022-09-19T10:00:38.412Z"
   },
   {
    "duration": 26388,
    "start_time": "2022-09-19T10:00:38.665Z"
   },
   {
    "duration": 359,
    "start_time": "2022-09-19T10:01:05.055Z"
   },
   {
    "duration": 373,
    "start_time": "2022-09-19T10:01:05.415Z"
   },
   {
    "duration": 10,
    "start_time": "2022-09-19T10:01:05.790Z"
   },
   {
    "duration": 88,
    "start_time": "2022-09-19T10:01:05.802Z"
   },
   {
    "duration": 135,
    "start_time": "2022-09-19T10:01:05.893Z"
   },
   {
    "duration": 10,
    "start_time": "2022-09-19T10:01:06.030Z"
   },
   {
    "duration": 19,
    "start_time": "2022-09-19T10:01:06.042Z"
   },
   {
    "duration": 46,
    "start_time": "2022-09-19T10:01:06.063Z"
   },
   {
    "duration": 3,
    "start_time": "2022-09-19T10:01:06.111Z"
   },
   {
    "duration": 35,
    "start_time": "2022-09-19T10:01:06.116Z"
   },
   {
    "duration": 47,
    "start_time": "2022-09-19T10:01:06.153Z"
   },
   {
    "duration": 6,
    "start_time": "2022-09-19T10:01:06.201Z"
   },
   {
    "duration": 18,
    "start_time": "2022-09-19T10:01:06.210Z"
   },
   {
    "duration": 4047,
    "start_time": "2022-09-19T10:01:06.230Z"
   },
   {
    "duration": 13,
    "start_time": "2022-09-19T10:01:10.280Z"
   },
   {
    "duration": 71813,
    "start_time": "2022-09-19T10:01:10.296Z"
   },
   {
    "duration": 4,
    "start_time": "2022-09-19T10:02:22.110Z"
   },
   {
    "duration": 79,
    "start_time": "2022-09-19T10:02:22.116Z"
   },
   {
    "duration": 543380,
    "start_time": "2022-09-19T10:02:22.197Z"
   },
   {
    "duration": 4,
    "start_time": "2022-09-19T10:11:25.579Z"
   },
   {
    "duration": 10,
    "start_time": "2022-09-19T10:11:25.589Z"
   },
   {
    "duration": 19,
    "start_time": "2022-09-19T10:11:25.601Z"
   },
   {
    "duration": 129,
    "start_time": "2022-09-19T10:11:25.621Z"
   },
   {
    "duration": 26,
    "start_time": "2022-09-19T10:12:33.171Z"
   },
   {
    "duration": 5,
    "start_time": "2022-09-19T10:14:47.525Z"
   },
   {
    "duration": 5,
    "start_time": "2022-09-19T10:15:06.896Z"
   },
   {
    "duration": 5,
    "start_time": "2022-09-19T10:15:25.023Z"
   },
   {
    "duration": 4,
    "start_time": "2022-09-19T10:16:45.356Z"
   },
   {
    "duration": 25810,
    "start_time": "2022-09-19T10:17:12.098Z"
   },
   {
    "duration": 17298,
    "start_time": "2022-09-19T10:17:50.079Z"
   },
   {
    "duration": 18081,
    "start_time": "2022-09-19T10:18:22.053Z"
   },
   {
    "duration": 10424,
    "start_time": "2022-09-19T10:18:51.316Z"
   },
   {
    "duration": 50810,
    "start_time": "2022-09-19T10:19:06.149Z"
   },
   {
    "duration": 28014,
    "start_time": "2022-09-19T10:20:01.563Z"
   },
   {
    "duration": 58442,
    "start_time": "2022-09-19T10:20:31.128Z"
   },
   {
    "duration": 79812,
    "start_time": "2022-09-19T10:21:31.813Z"
   },
   {
    "duration": 33681,
    "start_time": "2022-09-19T10:22:53.608Z"
   },
   {
    "duration": 35115,
    "start_time": "2022-09-19T10:23:29.634Z"
   },
   {
    "duration": 10943,
    "start_time": "2022-09-19T10:24:07.617Z"
   },
   {
    "duration": 14211,
    "start_time": "2022-09-19T10:24:20.660Z"
   },
   {
    "duration": 13280,
    "start_time": "2022-09-19T10:24:36.730Z"
   },
   {
    "duration": 41553,
    "start_time": "2022-09-19T10:24:51.439Z"
   },
   {
    "duration": 41178,
    "start_time": "2022-09-19T10:25:34.761Z"
   },
   {
    "duration": 3,
    "start_time": "2022-09-19T10:26:45.351Z"
   },
   {
    "duration": 5,
    "start_time": "2022-09-19T10:37:38.751Z"
   },
   {
    "duration": 201,
    "start_time": "2022-09-19T10:43:35.215Z"
   },
   {
    "duration": 194,
    "start_time": "2022-09-19T10:44:25.410Z"
   },
   {
    "duration": 168,
    "start_time": "2022-09-19T10:45:27.918Z"
   },
   {
    "duration": 163,
    "start_time": "2022-09-19T10:45:45.777Z"
   },
   {
    "duration": 165,
    "start_time": "2022-09-19T10:48:02.765Z"
   },
   {
    "duration": 21,
    "start_time": "2022-09-19T10:50:19.271Z"
   },
   {
    "duration": 301,
    "start_time": "2022-09-19T10:53:34.390Z"
   },
   {
    "duration": 261,
    "start_time": "2022-09-19T10:53:47.553Z"
   },
   {
    "duration": 394,
    "start_time": "2022-09-19T10:55:31.879Z"
   },
   {
    "duration": 283,
    "start_time": "2022-09-19T10:55:48.157Z"
   },
   {
    "duration": 22,
    "start_time": "2022-09-19T11:01:35.572Z"
   },
   {
    "duration": 29,
    "start_time": "2022-09-19T11:02:00.369Z"
   },
   {
    "duration": 90,
    "start_time": "2022-09-19T11:02:56.513Z"
   },
   {
    "duration": 1580,
    "start_time": "2022-09-19T11:03:33.958Z"
   },
   {
    "duration": 41,
    "start_time": "2022-09-19T11:03:35.540Z"
   },
   {
    "duration": 29,
    "start_time": "2022-09-19T11:03:35.583Z"
   },
   {
    "duration": 49,
    "start_time": "2022-09-19T11:03:35.614Z"
   },
   {
    "duration": 38,
    "start_time": "2022-09-19T11:03:35.665Z"
   },
   {
    "duration": 3,
    "start_time": "2022-09-19T11:03:35.705Z"
   },
   {
    "duration": 20,
    "start_time": "2022-09-19T11:03:35.709Z"
   },
   {
    "duration": 4,
    "start_time": "2022-09-19T11:03:35.731Z"
   },
   {
    "duration": 16,
    "start_time": "2022-09-19T11:03:35.737Z"
   },
   {
    "duration": 3,
    "start_time": "2022-09-19T11:03:35.755Z"
   },
   {
    "duration": 13,
    "start_time": "2022-09-19T11:03:35.760Z"
   },
   {
    "duration": 30,
    "start_time": "2022-09-19T11:03:35.775Z"
   },
   {
    "duration": 3,
    "start_time": "2022-09-19T11:03:35.807Z"
   },
   {
    "duration": 276,
    "start_time": "2022-09-19T11:03:35.812Z"
   },
   {
    "duration": 28403,
    "start_time": "2022-09-19T11:03:36.090Z"
   },
   {
    "duration": 338,
    "start_time": "2022-09-19T11:04:04.495Z"
   },
   {
    "duration": 357,
    "start_time": "2022-09-19T11:04:04.835Z"
   },
   {
    "duration": 10,
    "start_time": "2022-09-19T11:04:05.194Z"
   },
   {
    "duration": 95,
    "start_time": "2022-09-19T11:04:05.205Z"
   },
   {
    "duration": 126,
    "start_time": "2022-09-19T11:04:05.302Z"
   },
   {
    "duration": 10,
    "start_time": "2022-09-19T11:04:05.429Z"
   },
   {
    "duration": 5,
    "start_time": "2022-09-19T11:04:05.441Z"
   },
   {
    "duration": 54,
    "start_time": "2022-09-19T11:04:05.448Z"
   },
   {
    "duration": 3,
    "start_time": "2022-09-19T11:04:05.503Z"
   },
   {
    "duration": 17,
    "start_time": "2022-09-19T11:04:05.508Z"
   },
   {
    "duration": 22,
    "start_time": "2022-09-19T11:04:05.527Z"
   },
   {
    "duration": 6,
    "start_time": "2022-09-19T11:04:05.551Z"
   },
   {
    "duration": 11,
    "start_time": "2022-09-19T11:04:05.560Z"
   },
   {
    "duration": 3922,
    "start_time": "2022-09-19T11:04:05.590Z"
   },
   {
    "duration": 4,
    "start_time": "2022-09-19T11:04:09.514Z"
   },
   {
    "duration": 74924,
    "start_time": "2022-09-19T11:04:09.520Z"
   },
   {
    "duration": 4,
    "start_time": "2022-09-19T11:05:24.446Z"
   },
   {
    "duration": 43,
    "start_time": "2022-09-19T11:05:24.452Z"
   },
   {
    "duration": 360,
    "start_time": "2022-09-19T11:05:24.497Z"
   },
   {
    "duration": 0,
    "start_time": "2022-09-19T11:05:24.859Z"
   },
   {
    "duration": 0,
    "start_time": "2022-09-19T11:05:24.861Z"
   },
   {
    "duration": 0,
    "start_time": "2022-09-19T11:05:24.862Z"
   },
   {
    "duration": 0,
    "start_time": "2022-09-19T11:05:24.864Z"
   },
   {
    "duration": 0,
    "start_time": "2022-09-19T11:05:24.865Z"
   },
   {
    "duration": 0,
    "start_time": "2022-09-19T11:05:24.866Z"
   },
   {
    "duration": 0,
    "start_time": "2022-09-19T11:05:24.868Z"
   },
   {
    "duration": 0,
    "start_time": "2022-09-19T11:05:24.869Z"
   },
   {
    "duration": 58,
    "start_time": "2022-09-19T11:06:10.037Z"
   },
   {
    "duration": 11,
    "start_time": "2022-09-19T11:06:28.917Z"
   },
   {
    "duration": 190,
    "start_time": "2022-09-19T11:06:29.346Z"
   },
   {
    "duration": 22,
    "start_time": "2022-09-19T11:06:29.743Z"
   },
   {
    "duration": 204,
    "start_time": "2022-09-19T11:06:30.767Z"
   },
   {
    "duration": 17,
    "start_time": "2022-09-19T11:06:31.407Z"
   },
   {
    "duration": 333,
    "start_time": "2022-09-19T11:06:32.313Z"
   },
   {
    "duration": 348,
    "start_time": "2022-09-19T11:07:06.285Z"
   },
   {
    "duration": 370,
    "start_time": "2022-09-19T11:10:30.434Z"
   },
   {
    "duration": 154,
    "start_time": "2022-09-19T11:12:13.152Z"
   },
   {
    "duration": 6538,
    "start_time": "2022-09-19T11:17:20.184Z"
   },
   {
    "duration": 1441,
    "start_time": "2022-09-19T11:17:31.220Z"
   },
   {
    "duration": 43,
    "start_time": "2022-09-19T11:17:32.663Z"
   },
   {
    "duration": 28,
    "start_time": "2022-09-19T11:17:32.708Z"
   },
   {
    "duration": 67,
    "start_time": "2022-09-19T11:17:32.738Z"
   },
   {
    "duration": 24,
    "start_time": "2022-09-19T11:17:32.807Z"
   },
   {
    "duration": 3,
    "start_time": "2022-09-19T11:17:32.833Z"
   },
   {
    "duration": 15,
    "start_time": "2022-09-19T11:17:32.838Z"
   },
   {
    "duration": 7,
    "start_time": "2022-09-19T11:17:32.855Z"
   },
   {
    "duration": 35,
    "start_time": "2022-09-19T11:17:32.863Z"
   },
   {
    "duration": 3,
    "start_time": "2022-09-19T11:17:32.900Z"
   },
   {
    "duration": 15,
    "start_time": "2022-09-19T11:17:32.904Z"
   },
   {
    "duration": 17,
    "start_time": "2022-09-19T11:17:32.921Z"
   },
   {
    "duration": 3,
    "start_time": "2022-09-19T11:17:32.939Z"
   },
   {
    "duration": 271,
    "start_time": "2022-09-19T11:17:32.945Z"
   },
   {
    "duration": 27527,
    "start_time": "2022-09-19T11:17:33.218Z"
   },
   {
    "duration": 376,
    "start_time": "2022-09-19T11:18:00.747Z"
   },
   {
    "duration": 385,
    "start_time": "2022-09-19T11:18:01.125Z"
   },
   {
    "duration": 9,
    "start_time": "2022-09-19T11:18:01.512Z"
   },
   {
    "duration": 80,
    "start_time": "2022-09-19T11:18:01.523Z"
   },
   {
    "duration": 144,
    "start_time": "2022-09-19T11:18:01.688Z"
   },
   {
    "duration": 11,
    "start_time": "2022-09-19T11:18:01.834Z"
   },
   {
    "duration": 27,
    "start_time": "2022-09-19T11:18:01.848Z"
   },
   {
    "duration": 43,
    "start_time": "2022-09-19T11:18:01.878Z"
   },
   {
    "duration": 18,
    "start_time": "2022-09-19T11:18:01.922Z"
   },
   {
    "duration": 33,
    "start_time": "2022-09-19T11:18:01.942Z"
   },
   {
    "duration": 43,
    "start_time": "2022-09-19T11:18:01.977Z"
   },
   {
    "duration": 9,
    "start_time": "2022-09-19T11:18:02.023Z"
   },
   {
    "duration": 33,
    "start_time": "2022-09-19T11:18:02.034Z"
   },
   {
    "duration": 3608,
    "start_time": "2022-09-19T11:18:02.070Z"
   },
   {
    "duration": 13,
    "start_time": "2022-09-19T11:18:05.679Z"
   },
   {
    "duration": 72139,
    "start_time": "2022-09-19T11:18:05.693Z"
   },
   {
    "duration": 5,
    "start_time": "2022-09-19T11:19:17.834Z"
   },
   {
    "duration": 149,
    "start_time": "2022-09-19T11:19:17.841Z"
   },
   {
    "duration": 421,
    "start_time": "2022-09-19T11:19:17.994Z"
   },
   {
    "duration": 3,
    "start_time": "2022-09-19T11:19:18.416Z"
   },
   {
    "duration": 8,
    "start_time": "2022-09-19T11:19:18.421Z"
   },
   {
    "duration": 89948,
    "start_time": "2022-09-19T11:19:18.431Z"
   },
   {
    "duration": 19,
    "start_time": "2022-09-19T11:20:48.380Z"
   },
   {
    "duration": 183,
    "start_time": "2022-09-19T11:20:48.401Z"
   },
   {
    "duration": 24,
    "start_time": "2022-09-19T11:20:48.585Z"
   },
   {
    "duration": 196,
    "start_time": "2022-09-19T11:20:48.613Z"
   },
   {
    "duration": 82,
    "start_time": "2022-09-19T11:20:48.811Z"
   },
   {
    "duration": 449,
    "start_time": "2022-09-19T11:20:48.895Z"
   },
   {
    "duration": 337,
    "start_time": "2022-09-19T11:20:49.346Z"
   },
   {
    "duration": 16,
    "start_time": "2022-09-19T11:24:07.491Z"
   },
   {
    "duration": 25,
    "start_time": "2022-09-19T11:24:36.164Z"
   },
   {
    "duration": 333,
    "start_time": "2022-09-19T11:30:17.402Z"
   },
   {
    "duration": 381,
    "start_time": "2022-09-19T11:34:02.482Z"
   },
   {
    "duration": 110,
    "start_time": "2022-09-19T11:40:30.662Z"
   },
   {
    "duration": 1620,
    "start_time": "2022-09-19T16:03:38.765Z"
   },
   {
    "duration": 159,
    "start_time": "2022-09-19T16:03:40.387Z"
   },
   {
    "duration": 22,
    "start_time": "2022-09-19T16:03:40.548Z"
   },
   {
    "duration": 66,
    "start_time": "2022-09-19T16:03:40.572Z"
   },
   {
    "duration": 22,
    "start_time": "2022-09-19T16:03:40.641Z"
   },
   {
    "duration": 4,
    "start_time": "2022-09-19T16:03:40.664Z"
   },
   {
    "duration": 31,
    "start_time": "2022-09-19T16:03:40.669Z"
   },
   {
    "duration": 11,
    "start_time": "2022-09-19T16:03:40.702Z"
   },
   {
    "duration": 38,
    "start_time": "2022-09-19T16:03:40.715Z"
   },
   {
    "duration": 17,
    "start_time": "2022-09-19T16:03:40.756Z"
   },
   {
    "duration": 24,
    "start_time": "2022-09-19T16:03:40.775Z"
   },
   {
    "duration": 35,
    "start_time": "2022-09-19T16:03:40.800Z"
   },
   {
    "duration": 14,
    "start_time": "2022-09-19T16:03:40.838Z"
   },
   {
    "duration": 237,
    "start_time": "2022-09-19T16:03:40.853Z"
   },
   {
    "duration": 26460,
    "start_time": "2022-09-19T16:03:41.092Z"
   },
   {
    "duration": 377,
    "start_time": "2022-09-19T16:04:07.554Z"
   },
   {
    "duration": 327,
    "start_time": "2022-09-19T16:04:07.933Z"
   },
   {
    "duration": 8,
    "start_time": "2022-09-19T16:04:08.262Z"
   },
   {
    "duration": 71,
    "start_time": "2022-09-19T16:04:08.272Z"
   },
   {
    "duration": 119,
    "start_time": "2022-09-19T16:04:08.345Z"
   },
   {
    "duration": 70,
    "start_time": "2022-09-19T16:04:08.466Z"
   },
   {
    "duration": 8,
    "start_time": "2022-09-19T16:04:08.538Z"
   },
   {
    "duration": 25,
    "start_time": "2022-09-19T16:04:08.547Z"
   },
   {
    "duration": 3,
    "start_time": "2022-09-19T16:04:08.573Z"
   },
   {
    "duration": 6,
    "start_time": "2022-09-19T16:04:08.577Z"
   },
   {
    "duration": 23,
    "start_time": "2022-09-19T16:04:08.584Z"
   },
   {
    "duration": 19,
    "start_time": "2022-09-19T16:04:08.609Z"
   },
   {
    "duration": 10,
    "start_time": "2022-09-19T16:04:08.633Z"
   },
   {
    "duration": 3385,
    "start_time": "2022-09-19T16:04:08.645Z"
   },
   {
    "duration": 10,
    "start_time": "2022-09-19T16:04:12.031Z"
   },
   {
    "duration": 48983,
    "start_time": "2022-09-19T16:04:12.043Z"
   },
   {
    "duration": 0,
    "start_time": "2022-09-19T16:05:01.029Z"
   },
   {
    "duration": 0,
    "start_time": "2022-09-19T16:05:01.030Z"
   },
   {
    "duration": 0,
    "start_time": "2022-09-19T16:05:01.031Z"
   },
   {
    "duration": 0,
    "start_time": "2022-09-19T16:05:01.032Z"
   },
   {
    "duration": 0,
    "start_time": "2022-09-19T16:05:01.033Z"
   },
   {
    "duration": 0,
    "start_time": "2022-09-19T16:05:01.034Z"
   },
   {
    "duration": 0,
    "start_time": "2022-09-19T16:05:01.035Z"
   },
   {
    "duration": 0,
    "start_time": "2022-09-19T16:05:01.036Z"
   },
   {
    "duration": 0,
    "start_time": "2022-09-19T16:05:01.037Z"
   },
   {
    "duration": 0,
    "start_time": "2022-09-19T16:05:01.038Z"
   },
   {
    "duration": 0,
    "start_time": "2022-09-19T16:05:01.040Z"
   },
   {
    "duration": 0,
    "start_time": "2022-09-19T16:05:01.041Z"
   },
   {
    "duration": 0,
    "start_time": "2022-09-19T16:05:01.041Z"
   },
   {
    "duration": 1281,
    "start_time": "2022-09-19T16:05:22.788Z"
   },
   {
    "duration": 38,
    "start_time": "2022-09-19T16:05:24.070Z"
   },
   {
    "duration": 27,
    "start_time": "2022-09-19T16:05:24.110Z"
   },
   {
    "duration": 47,
    "start_time": "2022-09-19T16:05:24.139Z"
   },
   {
    "duration": 19,
    "start_time": "2022-09-19T16:05:24.188Z"
   },
   {
    "duration": 3,
    "start_time": "2022-09-19T16:05:24.208Z"
   },
   {
    "duration": 32,
    "start_time": "2022-09-19T16:05:24.213Z"
   },
   {
    "duration": 9,
    "start_time": "2022-09-19T16:05:24.247Z"
   },
   {
    "duration": 4,
    "start_time": "2022-09-19T16:05:24.257Z"
   },
   {
    "duration": 11,
    "start_time": "2022-09-19T16:05:24.262Z"
   },
   {
    "duration": 1,
    "start_time": "2022-09-19T16:05:24.275Z"
   },
   {
    "duration": 10,
    "start_time": "2022-09-19T16:05:24.278Z"
   },
   {
    "duration": 36,
    "start_time": "2022-09-19T16:05:24.290Z"
   },
   {
    "duration": 5,
    "start_time": "2022-09-19T16:05:24.331Z"
   },
   {
    "duration": 222,
    "start_time": "2022-09-19T16:05:24.337Z"
   },
   {
    "duration": 27111,
    "start_time": "2022-09-19T16:05:24.561Z"
   },
   {
    "duration": 0,
    "start_time": "2022-09-19T16:05:51.674Z"
   },
   {
    "duration": 0,
    "start_time": "2022-09-19T16:05:51.675Z"
   },
   {
    "duration": 0,
    "start_time": "2022-09-19T16:05:51.677Z"
   },
   {
    "duration": 0,
    "start_time": "2022-09-19T16:05:51.678Z"
   },
   {
    "duration": 0,
    "start_time": "2022-09-19T16:05:51.679Z"
   },
   {
    "duration": 0,
    "start_time": "2022-09-19T16:05:51.680Z"
   },
   {
    "duration": 0,
    "start_time": "2022-09-19T16:05:51.681Z"
   },
   {
    "duration": 0,
    "start_time": "2022-09-19T16:05:51.683Z"
   },
   {
    "duration": 0,
    "start_time": "2022-09-19T16:05:51.684Z"
   },
   {
    "duration": 0,
    "start_time": "2022-09-19T16:05:51.685Z"
   },
   {
    "duration": 0,
    "start_time": "2022-09-19T16:05:51.687Z"
   },
   {
    "duration": 0,
    "start_time": "2022-09-19T16:05:51.688Z"
   },
   {
    "duration": 0,
    "start_time": "2022-09-19T16:05:51.689Z"
   },
   {
    "duration": 0,
    "start_time": "2022-09-19T16:05:51.690Z"
   },
   {
    "duration": 0,
    "start_time": "2022-09-19T16:05:51.691Z"
   },
   {
    "duration": 0,
    "start_time": "2022-09-19T16:05:51.692Z"
   },
   {
    "duration": 0,
    "start_time": "2022-09-19T16:05:51.693Z"
   },
   {
    "duration": 0,
    "start_time": "2022-09-19T16:05:51.694Z"
   },
   {
    "duration": 0,
    "start_time": "2022-09-19T16:05:51.695Z"
   },
   {
    "duration": 0,
    "start_time": "2022-09-19T16:05:51.696Z"
   },
   {
    "duration": 0,
    "start_time": "2022-09-19T16:05:51.697Z"
   },
   {
    "duration": 0,
    "start_time": "2022-09-19T16:05:51.698Z"
   },
   {
    "duration": 0,
    "start_time": "2022-09-19T16:05:51.699Z"
   },
   {
    "duration": 0,
    "start_time": "2022-09-19T16:05:51.700Z"
   },
   {
    "duration": 0,
    "start_time": "2022-09-19T16:05:51.701Z"
   },
   {
    "duration": 0,
    "start_time": "2022-09-19T16:05:51.702Z"
   },
   {
    "duration": 0,
    "start_time": "2022-09-19T16:05:51.703Z"
   },
   {
    "duration": 0,
    "start_time": "2022-09-19T16:05:51.704Z"
   },
   {
    "duration": 0,
    "start_time": "2022-09-19T16:05:51.705Z"
   },
   {
    "duration": 1322,
    "start_time": "2022-09-19T16:05:54.339Z"
   },
   {
    "duration": 40,
    "start_time": "2022-09-19T16:05:55.663Z"
   },
   {
    "duration": 29,
    "start_time": "2022-09-19T16:05:55.704Z"
   },
   {
    "duration": 50,
    "start_time": "2022-09-19T16:05:55.735Z"
   },
   {
    "duration": 21,
    "start_time": "2022-09-19T16:05:55.788Z"
   },
   {
    "duration": 8,
    "start_time": "2022-09-19T16:05:55.823Z"
   },
   {
    "duration": 16,
    "start_time": "2022-09-19T16:05:55.832Z"
   },
   {
    "duration": 10,
    "start_time": "2022-09-19T16:05:55.850Z"
   },
   {
    "duration": 4,
    "start_time": "2022-09-19T16:05:55.861Z"
   },
   {
    "duration": 10,
    "start_time": "2022-09-19T16:05:55.867Z"
   },
   {
    "duration": 2,
    "start_time": "2022-09-19T16:05:55.879Z"
   },
   {
    "duration": 11,
    "start_time": "2022-09-19T16:05:55.883Z"
   },
   {
    "duration": 46,
    "start_time": "2022-09-19T16:05:55.896Z"
   },
   {
    "duration": 3,
    "start_time": "2022-09-19T16:05:55.946Z"
   },
   {
    "duration": 311,
    "start_time": "2022-09-19T16:05:55.951Z"
   },
   {
    "duration": 26500,
    "start_time": "2022-09-19T16:05:56.264Z"
   },
   {
    "duration": 364,
    "start_time": "2022-09-19T16:06:22.766Z"
   },
   {
    "duration": 359,
    "start_time": "2022-09-19T16:06:23.136Z"
   },
   {
    "duration": 8,
    "start_time": "2022-09-19T16:06:23.497Z"
   },
   {
    "duration": 116,
    "start_time": "2022-09-19T16:06:23.507Z"
   },
   {
    "duration": 124,
    "start_time": "2022-09-19T16:06:23.627Z"
   },
   {
    "duration": 8,
    "start_time": "2022-09-19T16:06:23.753Z"
   },
   {
    "duration": 6,
    "start_time": "2022-09-19T16:06:23.763Z"
   },
   {
    "duration": 28,
    "start_time": "2022-09-19T16:06:23.770Z"
   },
   {
    "duration": 22,
    "start_time": "2022-09-19T16:06:23.800Z"
   },
   {
    "duration": 18,
    "start_time": "2022-09-19T16:06:23.824Z"
   },
   {
    "duration": 23,
    "start_time": "2022-09-19T16:06:23.843Z"
   },
   {
    "duration": 5,
    "start_time": "2022-09-19T16:06:23.868Z"
   },
   {
    "duration": 6,
    "start_time": "2022-09-19T16:06:23.874Z"
   },
   {
    "duration": 3469,
    "start_time": "2022-09-19T16:06:23.881Z"
   },
   {
    "duration": 5,
    "start_time": "2022-09-19T16:06:27.351Z"
   },
   {
    "duration": 66312,
    "start_time": "2022-09-19T16:06:27.358Z"
   },
   {
    "duration": 4,
    "start_time": "2022-09-19T16:07:33.672Z"
   },
   {
    "duration": 76,
    "start_time": "2022-09-19T16:07:33.677Z"
   },
   {
    "duration": 474,
    "start_time": "2022-09-19T16:07:33.755Z"
   },
   {
    "duration": 3,
    "start_time": "2022-09-19T16:07:34.231Z"
   },
   {
    "duration": 2,
    "start_time": "2022-09-19T16:07:34.237Z"
   },
   {
    "duration": 82288,
    "start_time": "2022-09-19T16:07:34.242Z"
   },
   {
    "duration": 14,
    "start_time": "2022-09-19T16:08:56.537Z"
   },
   {
    "duration": 159,
    "start_time": "2022-09-19T16:08:56.553Z"
   },
   {
    "duration": 25,
    "start_time": "2022-09-19T16:08:56.721Z"
   },
   {
    "duration": 188,
    "start_time": "2022-09-19T16:08:56.748Z"
   },
   {
    "duration": 107,
    "start_time": "2022-09-19T16:08:56.938Z"
   },
   {
    "duration": 489,
    "start_time": "2022-09-19T16:08:57.046Z"
   },
   {
    "duration": 269,
    "start_time": "2022-09-19T16:08:57.539Z"
   },
   {
    "duration": 104,
    "start_time": "2022-09-19T16:12:28.103Z"
   },
   {
    "duration": 1433,
    "start_time": "2022-09-19T16:12:34.874Z"
   },
   {
    "duration": 45,
    "start_time": "2022-09-19T16:12:36.309Z"
   },
   {
    "duration": 21,
    "start_time": "2022-09-19T16:12:36.356Z"
   },
   {
    "duration": 53,
    "start_time": "2022-09-19T16:12:36.378Z"
   },
   {
    "duration": 18,
    "start_time": "2022-09-19T16:12:36.433Z"
   },
   {
    "duration": 3,
    "start_time": "2022-09-19T16:12:36.452Z"
   },
   {
    "duration": 12,
    "start_time": "2022-09-19T16:12:36.456Z"
   },
   {
    "duration": 5,
    "start_time": "2022-09-19T16:12:36.469Z"
   },
   {
    "duration": 10,
    "start_time": "2022-09-19T16:12:36.475Z"
   },
   {
    "duration": 3,
    "start_time": "2022-09-19T16:12:36.486Z"
   },
   {
    "duration": 13,
    "start_time": "2022-09-19T16:12:36.491Z"
   },
   {
    "duration": 20,
    "start_time": "2022-09-19T16:12:36.506Z"
   },
   {
    "duration": 17,
    "start_time": "2022-09-19T16:12:36.528Z"
   },
   {
    "duration": 15,
    "start_time": "2022-09-19T16:12:36.548Z"
   },
   {
    "duration": 3,
    "start_time": "2022-09-19T16:12:36.565Z"
   },
   {
    "duration": 216,
    "start_time": "2022-09-19T16:12:36.569Z"
   },
   {
    "duration": 9270,
    "start_time": "2022-09-19T16:12:36.786Z"
   },
   {
    "duration": 0,
    "start_time": "2022-09-19T16:12:46.058Z"
   },
   {
    "duration": 0,
    "start_time": "2022-09-19T16:12:46.059Z"
   },
   {
    "duration": 0,
    "start_time": "2022-09-19T16:12:46.061Z"
   },
   {
    "duration": 0,
    "start_time": "2022-09-19T16:12:46.062Z"
   },
   {
    "duration": 0,
    "start_time": "2022-09-19T16:12:46.063Z"
   },
   {
    "duration": 0,
    "start_time": "2022-09-19T16:12:46.064Z"
   },
   {
    "duration": 0,
    "start_time": "2022-09-19T16:12:46.066Z"
   },
   {
    "duration": 0,
    "start_time": "2022-09-19T16:12:46.067Z"
   },
   {
    "duration": 0,
    "start_time": "2022-09-19T16:12:46.068Z"
   },
   {
    "duration": 0,
    "start_time": "2022-09-19T16:12:46.069Z"
   },
   {
    "duration": 0,
    "start_time": "2022-09-19T16:12:46.070Z"
   },
   {
    "duration": 0,
    "start_time": "2022-09-19T16:12:46.072Z"
   },
   {
    "duration": 0,
    "start_time": "2022-09-19T16:12:46.073Z"
   },
   {
    "duration": 0,
    "start_time": "2022-09-19T16:12:46.075Z"
   },
   {
    "duration": 0,
    "start_time": "2022-09-19T16:12:46.076Z"
   },
   {
    "duration": 0,
    "start_time": "2022-09-19T16:12:46.077Z"
   },
   {
    "duration": 0,
    "start_time": "2022-09-19T16:12:46.078Z"
   },
   {
    "duration": 0,
    "start_time": "2022-09-19T16:12:46.131Z"
   },
   {
    "duration": 0,
    "start_time": "2022-09-19T16:12:46.132Z"
   },
   {
    "duration": 0,
    "start_time": "2022-09-19T16:12:46.132Z"
   },
   {
    "duration": 0,
    "start_time": "2022-09-19T16:12:46.133Z"
   },
   {
    "duration": 0,
    "start_time": "2022-09-19T16:12:46.134Z"
   },
   {
    "duration": 0,
    "start_time": "2022-09-19T16:12:46.134Z"
   },
   {
    "duration": 0,
    "start_time": "2022-09-19T16:12:46.137Z"
   },
   {
    "duration": 0,
    "start_time": "2022-09-19T16:12:46.138Z"
   },
   {
    "duration": 1,
    "start_time": "2022-09-19T16:12:46.139Z"
   },
   {
    "duration": 0,
    "start_time": "2022-09-19T16:12:46.141Z"
   },
   {
    "duration": 0,
    "start_time": "2022-09-19T16:12:46.142Z"
   },
   {
    "duration": 0,
    "start_time": "2022-09-19T16:12:46.143Z"
   },
   {
    "duration": 5,
    "start_time": "2022-09-19T16:21:22.373Z"
   },
   {
    "duration": 53,
    "start_time": "2022-09-19T16:21:22.380Z"
   },
   {
    "duration": 19,
    "start_time": "2022-09-19T16:21:22.437Z"
   },
   {
    "duration": 51,
    "start_time": "2022-09-19T16:21:22.458Z"
   },
   {
    "duration": 33,
    "start_time": "2022-09-19T16:21:22.511Z"
   },
   {
    "duration": 4,
    "start_time": "2022-09-19T16:21:22.546Z"
   },
   {
    "duration": 12,
    "start_time": "2022-09-19T16:21:22.552Z"
   },
   {
    "duration": 6,
    "start_time": "2022-09-19T16:21:22.566Z"
   },
   {
    "duration": 11,
    "start_time": "2022-09-19T16:21:22.574Z"
   },
   {
    "duration": 43,
    "start_time": "2022-09-19T16:21:22.586Z"
   },
   {
    "duration": 4,
    "start_time": "2022-09-19T16:21:29.939Z"
   },
   {
    "duration": 14,
    "start_time": "2022-09-19T16:21:38.005Z"
   },
   {
    "duration": 10,
    "start_time": "2022-09-19T16:22:05.740Z"
   },
   {
    "duration": 17,
    "start_time": "2022-09-19T16:22:07.466Z"
   },
   {
    "duration": 35,
    "start_time": "2022-09-19T16:22:18.240Z"
   },
   {
    "duration": 16,
    "start_time": "2022-09-19T16:22:31.356Z"
   },
   {
    "duration": 5,
    "start_time": "2022-09-19T16:23:09.096Z"
   },
   {
    "duration": 47,
    "start_time": "2022-09-19T16:23:09.103Z"
   },
   {
    "duration": 19,
    "start_time": "2022-09-19T16:23:09.151Z"
   },
   {
    "duration": 42,
    "start_time": "2022-09-19T16:23:09.172Z"
   },
   {
    "duration": 24,
    "start_time": "2022-09-19T16:23:09.216Z"
   },
   {
    "duration": 4,
    "start_time": "2022-09-19T16:23:09.241Z"
   },
   {
    "duration": 12,
    "start_time": "2022-09-19T16:23:09.247Z"
   },
   {
    "duration": 5,
    "start_time": "2022-09-19T16:23:09.261Z"
   },
   {
    "duration": 19,
    "start_time": "2022-09-19T16:23:09.268Z"
   },
   {
    "duration": 4,
    "start_time": "2022-09-19T16:23:09.288Z"
   },
   {
    "duration": 6,
    "start_time": "2022-09-19T16:23:09.293Z"
   },
   {
    "duration": 35,
    "start_time": "2022-09-19T16:23:09.301Z"
   },
   {
    "duration": 6,
    "start_time": "2022-09-19T16:23:09.339Z"
   },
   {
    "duration": 24,
    "start_time": "2022-09-19T16:23:09.347Z"
   },
   {
    "duration": 22,
    "start_time": "2022-09-19T16:23:09.372Z"
   },
   {
    "duration": 11,
    "start_time": "2022-09-19T16:23:11.779Z"
   },
   {
    "duration": 12,
    "start_time": "2022-09-19T16:23:25.837Z"
   },
   {
    "duration": 29,
    "start_time": "2022-09-19T16:24:30.746Z"
   },
   {
    "duration": 18,
    "start_time": "2022-09-19T16:24:50.558Z"
   },
   {
    "duration": 1342,
    "start_time": "2022-09-19T16:26:45.464Z"
   },
   {
    "duration": 45,
    "start_time": "2022-09-19T16:26:46.808Z"
   },
   {
    "duration": 22,
    "start_time": "2022-09-19T16:26:46.855Z"
   },
   {
    "duration": 52,
    "start_time": "2022-09-19T16:26:46.879Z"
   },
   {
    "duration": 27,
    "start_time": "2022-09-19T16:26:46.935Z"
   },
   {
    "duration": 3,
    "start_time": "2022-09-19T16:26:46.964Z"
   },
   {
    "duration": 12,
    "start_time": "2022-09-19T16:26:46.968Z"
   },
   {
    "duration": 5,
    "start_time": "2022-09-19T16:26:46.982Z"
   },
   {
    "duration": 11,
    "start_time": "2022-09-19T16:26:46.989Z"
   },
   {
    "duration": 37,
    "start_time": "2022-09-19T16:26:47.001Z"
   },
   {
    "duration": 7,
    "start_time": "2022-09-19T16:26:47.040Z"
   },
   {
    "duration": 14,
    "start_time": "2022-09-19T16:26:47.049Z"
   },
   {
    "duration": 2,
    "start_time": "2022-09-19T16:26:47.065Z"
   },
   {
    "duration": 12,
    "start_time": "2022-09-19T16:26:47.072Z"
   },
   {
    "duration": 50,
    "start_time": "2022-09-19T16:26:47.085Z"
   },
   {
    "duration": 11,
    "start_time": "2022-09-19T16:26:47.137Z"
   },
   {
    "duration": 4,
    "start_time": "2022-09-19T16:26:47.149Z"
   },
   {
    "duration": 9,
    "start_time": "2022-09-19T16:26:47.154Z"
   },
   {
    "duration": 251,
    "start_time": "2022-09-19T16:26:47.165Z"
   },
   {
    "duration": 26217,
    "start_time": "2022-09-19T16:26:47.418Z"
   },
   {
    "duration": 338,
    "start_time": "2022-09-19T16:27:13.637Z"
   },
   {
    "duration": 333,
    "start_time": "2022-09-19T16:27:13.976Z"
   },
   {
    "duration": 16,
    "start_time": "2022-09-19T16:27:14.311Z"
   },
   {
    "duration": 51,
    "start_time": "2022-09-19T16:27:14.328Z"
   },
   {
    "duration": 127,
    "start_time": "2022-09-19T16:27:14.427Z"
   },
   {
    "duration": 8,
    "start_time": "2022-09-19T16:27:14.556Z"
   },
   {
    "duration": 5,
    "start_time": "2022-09-19T16:27:14.565Z"
   },
   {
    "duration": 22,
    "start_time": "2022-09-19T16:27:14.572Z"
   },
   {
    "duration": 33,
    "start_time": "2022-09-19T16:27:14.596Z"
   },
   {
    "duration": 15,
    "start_time": "2022-09-19T16:27:14.631Z"
   },
   {
    "duration": 20,
    "start_time": "2022-09-19T16:27:14.647Z"
   },
   {
    "duration": 5,
    "start_time": "2022-09-19T16:27:14.668Z"
   },
   {
    "duration": 4,
    "start_time": "2022-09-19T16:27:14.675Z"
   },
   {
    "duration": 3805,
    "start_time": "2022-09-19T16:27:14.681Z"
   },
   {
    "duration": 5,
    "start_time": "2022-09-19T16:27:18.488Z"
   },
   {
    "duration": 64061,
    "start_time": "2022-09-19T16:27:18.495Z"
   },
   {
    "duration": 5,
    "start_time": "2022-09-19T16:28:22.557Z"
   },
   {
    "duration": 73,
    "start_time": "2022-09-19T16:28:22.564Z"
   },
   {
    "duration": 465,
    "start_time": "2022-09-19T16:28:22.640Z"
   },
   {
    "duration": 2,
    "start_time": "2022-09-19T16:28:23.107Z"
   },
   {
    "duration": 19,
    "start_time": "2022-09-19T16:28:23.121Z"
   },
   {
    "duration": 79975,
    "start_time": "2022-09-19T16:28:23.141Z"
   },
   {
    "duration": 17,
    "start_time": "2022-09-19T16:29:43.126Z"
   },
   {
    "duration": 164,
    "start_time": "2022-09-19T16:29:43.145Z"
   },
   {
    "duration": 32,
    "start_time": "2022-09-19T16:29:43.310Z"
   },
   {
    "duration": 195,
    "start_time": "2022-09-19T16:29:43.344Z"
   },
   {
    "duration": 90,
    "start_time": "2022-09-19T16:29:43.541Z"
   },
   {
    "duration": 480,
    "start_time": "2022-09-19T16:29:43.633Z"
   },
   {
    "duration": 281,
    "start_time": "2022-09-19T16:29:44.114Z"
   },
   {
    "duration": 18,
    "start_time": "2022-09-19T17:20:24.774Z"
   },
   {
    "duration": 15,
    "start_time": "2022-09-19T17:25:36.543Z"
   },
   {
    "duration": 17,
    "start_time": "2022-09-19T17:25:48.443Z"
   },
   {
    "duration": 35,
    "start_time": "2022-09-19T17:26:02.504Z"
   },
   {
    "duration": 213,
    "start_time": "2022-09-19T17:26:12.722Z"
   },
   {
    "duration": 11,
    "start_time": "2022-09-19T17:33:30.755Z"
   },
   {
    "duration": 107,
    "start_time": "2022-09-19T17:35:50.279Z"
   },
   {
    "duration": 10,
    "start_time": "2022-09-19T17:35:55.178Z"
   },
   {
    "duration": 217,
    "start_time": "2022-09-19T17:35:56.081Z"
   },
   {
    "duration": 1434,
    "start_time": "2022-09-19T17:51:19.659Z"
   },
   {
    "duration": 46,
    "start_time": "2022-09-19T17:51:21.095Z"
   },
   {
    "duration": 24,
    "start_time": "2022-09-19T17:51:21.142Z"
   },
   {
    "duration": 69,
    "start_time": "2022-09-19T17:51:21.168Z"
   },
   {
    "duration": 20,
    "start_time": "2022-09-19T17:51:21.239Z"
   },
   {
    "duration": 11,
    "start_time": "2022-09-19T17:51:21.261Z"
   },
   {
    "duration": 22,
    "start_time": "2022-09-19T17:51:21.274Z"
   },
   {
    "duration": 39,
    "start_time": "2022-09-19T17:51:21.297Z"
   },
   {
    "duration": 25,
    "start_time": "2022-09-19T17:51:21.338Z"
   },
   {
    "duration": 20,
    "start_time": "2022-09-19T17:51:21.365Z"
   },
   {
    "duration": 17,
    "start_time": "2022-09-19T17:51:21.387Z"
   },
   {
    "duration": 25,
    "start_time": "2022-09-19T17:51:21.405Z"
   },
   {
    "duration": 11,
    "start_time": "2022-09-19T17:51:21.433Z"
   },
   {
    "duration": 19,
    "start_time": "2022-09-19T17:51:21.447Z"
   },
   {
    "duration": 38,
    "start_time": "2022-09-19T17:51:21.468Z"
   },
   {
    "duration": 10,
    "start_time": "2022-09-19T17:51:21.508Z"
   },
   {
    "duration": 23,
    "start_time": "2022-09-19T17:51:21.519Z"
   },
   {
    "duration": 255,
    "start_time": "2022-09-19T17:51:21.543Z"
   },
   {
    "duration": 5580,
    "start_time": "2022-09-19T17:51:21.800Z"
   },
   {
    "duration": 0,
    "start_time": "2022-09-19T17:51:27.382Z"
   },
   {
    "duration": 0,
    "start_time": "2022-09-19T17:51:27.383Z"
   },
   {
    "duration": 0,
    "start_time": "2022-09-19T17:51:27.384Z"
   },
   {
    "duration": 0,
    "start_time": "2022-09-19T17:51:27.385Z"
   },
   {
    "duration": 0,
    "start_time": "2022-09-19T17:51:27.385Z"
   },
   {
    "duration": 0,
    "start_time": "2022-09-19T17:51:27.386Z"
   },
   {
    "duration": 0,
    "start_time": "2022-09-19T17:51:27.388Z"
   },
   {
    "duration": 0,
    "start_time": "2022-09-19T17:51:27.388Z"
   },
   {
    "duration": 0,
    "start_time": "2022-09-19T17:51:27.389Z"
   },
   {
    "duration": 0,
    "start_time": "2022-09-19T17:51:27.390Z"
   },
   {
    "duration": 0,
    "start_time": "2022-09-19T17:51:27.391Z"
   },
   {
    "duration": 0,
    "start_time": "2022-09-19T17:51:27.392Z"
   },
   {
    "duration": 0,
    "start_time": "2022-09-19T17:51:27.393Z"
   },
   {
    "duration": 0,
    "start_time": "2022-09-19T17:51:27.394Z"
   },
   {
    "duration": 0,
    "start_time": "2022-09-19T17:51:27.395Z"
   },
   {
    "duration": 0,
    "start_time": "2022-09-19T17:51:27.396Z"
   },
   {
    "duration": 0,
    "start_time": "2022-09-19T17:51:27.397Z"
   },
   {
    "duration": 0,
    "start_time": "2022-09-19T17:51:27.398Z"
   },
   {
    "duration": 0,
    "start_time": "2022-09-19T17:51:27.399Z"
   },
   {
    "duration": 0,
    "start_time": "2022-09-19T17:51:27.400Z"
   },
   {
    "duration": 0,
    "start_time": "2022-09-19T17:51:27.401Z"
   },
   {
    "duration": 0,
    "start_time": "2022-09-19T17:51:27.401Z"
   },
   {
    "duration": 0,
    "start_time": "2022-09-19T17:51:27.402Z"
   },
   {
    "duration": 0,
    "start_time": "2022-09-19T17:51:27.403Z"
   },
   {
    "duration": 0,
    "start_time": "2022-09-19T17:51:27.421Z"
   },
   {
    "duration": 0,
    "start_time": "2022-09-19T17:51:27.422Z"
   },
   {
    "duration": 0,
    "start_time": "2022-09-19T17:51:27.423Z"
   },
   {
    "duration": 0,
    "start_time": "2022-09-19T17:51:27.424Z"
   },
   {
    "duration": 0,
    "start_time": "2022-09-19T17:51:27.424Z"
   },
   {
    "duration": 0,
    "start_time": "2022-09-19T17:51:27.425Z"
   },
   {
    "duration": 0,
    "start_time": "2022-09-19T17:51:27.426Z"
   },
   {
    "duration": 1356,
    "start_time": "2022-09-19T17:52:39.311Z"
   },
   {
    "duration": 39,
    "start_time": "2022-09-19T17:52:40.668Z"
   },
   {
    "duration": 28,
    "start_time": "2022-09-19T17:52:40.709Z"
   },
   {
    "duration": 50,
    "start_time": "2022-09-19T17:52:40.739Z"
   },
   {
    "duration": 44,
    "start_time": "2022-09-19T17:52:40.792Z"
   },
   {
    "duration": 3,
    "start_time": "2022-09-19T17:52:40.838Z"
   },
   {
    "duration": 13,
    "start_time": "2022-09-19T17:52:40.843Z"
   },
   {
    "duration": 6,
    "start_time": "2022-09-19T17:52:40.857Z"
   },
   {
    "duration": 11,
    "start_time": "2022-09-19T17:52:40.865Z"
   },
   {
    "duration": 3,
    "start_time": "2022-09-19T17:52:40.878Z"
   },
   {
    "duration": 5,
    "start_time": "2022-09-19T17:52:40.883Z"
   },
   {
    "duration": 36,
    "start_time": "2022-09-19T17:52:40.890Z"
   },
   {
    "duration": 2,
    "start_time": "2022-09-19T17:52:40.928Z"
   },
   {
    "duration": 12,
    "start_time": "2022-09-19T17:52:40.936Z"
   },
   {
    "duration": 22,
    "start_time": "2022-09-19T17:52:40.950Z"
   },
   {
    "duration": 11,
    "start_time": "2022-09-19T17:52:40.974Z"
   },
   {
    "duration": 10,
    "start_time": "2022-09-19T17:52:40.986Z"
   },
   {
    "duration": 5,
    "start_time": "2022-09-19T17:52:40.997Z"
   },
   {
    "duration": 249,
    "start_time": "2022-09-19T17:52:41.022Z"
   },
   {
    "duration": 27367,
    "start_time": "2022-09-19T17:52:41.272Z"
   },
   {
    "duration": 359,
    "start_time": "2022-09-19T17:53:08.641Z"
   },
   {
    "duration": 328,
    "start_time": "2022-09-19T17:53:09.002Z"
   },
   {
    "duration": 9,
    "start_time": "2022-09-19T17:53:09.335Z"
   },
   {
    "duration": 80,
    "start_time": "2022-09-19T17:53:09.345Z"
   },
   {
    "duration": 125,
    "start_time": "2022-09-19T17:53:09.429Z"
   },
   {
    "duration": 8,
    "start_time": "2022-09-19T17:53:09.556Z"
   },
   {
    "duration": 5,
    "start_time": "2022-09-19T17:53:09.565Z"
   },
   {
    "duration": 54,
    "start_time": "2022-09-19T17:53:09.572Z"
   },
   {
    "duration": 4,
    "start_time": "2022-09-19T17:53:09.628Z"
   },
   {
    "duration": 9,
    "start_time": "2022-09-19T17:53:09.634Z"
   },
   {
    "duration": 22,
    "start_time": "2022-09-19T17:53:09.644Z"
   },
   {
    "duration": 5,
    "start_time": "2022-09-19T17:53:09.668Z"
   },
   {
    "duration": 9,
    "start_time": "2022-09-19T17:53:09.674Z"
   },
   {
    "duration": 3722,
    "start_time": "2022-09-19T17:53:09.684Z"
   },
   {
    "duration": 5,
    "start_time": "2022-09-19T17:53:13.407Z"
   },
   {
    "duration": 65546,
    "start_time": "2022-09-19T17:53:13.413Z"
   },
   {
    "duration": 4,
    "start_time": "2022-09-19T17:54:18.961Z"
   },
   {
    "duration": 67,
    "start_time": "2022-09-19T17:54:18.966Z"
   },
   {
    "duration": 456,
    "start_time": "2022-09-19T17:54:19.035Z"
   },
   {
    "duration": 3,
    "start_time": "2022-09-19T17:54:19.493Z"
   },
   {
    "duration": 3,
    "start_time": "2022-09-19T17:54:19.501Z"
   },
   {
    "duration": 80487,
    "start_time": "2022-09-19T17:54:19.523Z"
   },
   {
    "duration": 24,
    "start_time": "2022-09-19T17:55:40.012Z"
   },
   {
    "duration": 145,
    "start_time": "2022-09-19T17:55:40.037Z"
   },
   {
    "duration": 24,
    "start_time": "2022-09-19T17:55:40.184Z"
   },
   {
    "duration": 279,
    "start_time": "2022-09-19T17:55:40.210Z"
   },
   {
    "duration": 41,
    "start_time": "2022-09-19T17:55:40.491Z"
   },
   {
    "duration": 375,
    "start_time": "2022-09-19T17:55:40.621Z"
   },
   {
    "duration": 165,
    "start_time": "2022-09-19T17:55:40.998Z"
   },
   {
    "duration": 9,
    "start_time": "2022-09-19T17:55:41.165Z"
   },
   {
    "duration": 161,
    "start_time": "2022-09-19T17:55:41.176Z"
   },
   {
    "duration": 50,
    "start_time": "2022-09-19T18:55:09.941Z"
   },
   {
    "duration": 2878,
    "start_time": "2022-09-19T19:02:40.116Z"
   },
   {
    "duration": 43,
    "start_time": "2022-09-19T19:02:42.996Z"
   },
   {
    "duration": 23,
    "start_time": "2022-09-19T19:02:43.040Z"
   },
   {
    "duration": 48,
    "start_time": "2022-09-19T19:02:43.065Z"
   },
   {
    "duration": 20,
    "start_time": "2022-09-19T19:02:43.115Z"
   },
   {
    "duration": 2,
    "start_time": "2022-09-19T19:02:43.137Z"
   },
   {
    "duration": 12,
    "start_time": "2022-09-19T19:02:43.141Z"
   },
   {
    "duration": 5,
    "start_time": "2022-09-19T19:02:43.154Z"
   },
   {
    "duration": 10,
    "start_time": "2022-09-19T19:02:43.161Z"
   },
   {
    "duration": 4,
    "start_time": "2022-09-19T19:02:43.173Z"
   },
   {
    "duration": 33,
    "start_time": "2022-09-19T19:02:43.178Z"
   },
   {
    "duration": 13,
    "start_time": "2022-09-19T19:02:43.212Z"
   },
   {
    "duration": 3,
    "start_time": "2022-09-19T19:02:43.226Z"
   },
   {
    "duration": 14,
    "start_time": "2022-09-19T19:02:43.230Z"
   },
   {
    "duration": 22,
    "start_time": "2022-09-19T19:02:43.245Z"
   },
   {
    "duration": 10,
    "start_time": "2022-09-19T19:02:43.269Z"
   },
   {
    "duration": 4,
    "start_time": "2022-09-19T19:02:43.309Z"
   },
   {
    "duration": 6,
    "start_time": "2022-09-19T19:02:43.314Z"
   },
   {
    "duration": 225,
    "start_time": "2022-09-19T19:02:43.321Z"
   },
   {
    "duration": 25150,
    "start_time": "2022-09-19T19:02:43.547Z"
   },
   {
    "duration": 317,
    "start_time": "2022-09-19T19:03:08.699Z"
   },
   {
    "duration": 326,
    "start_time": "2022-09-19T19:03:09.018Z"
   },
   {
    "duration": 9,
    "start_time": "2022-09-19T19:03:09.346Z"
   },
   {
    "duration": 72,
    "start_time": "2022-09-19T19:03:09.357Z"
   },
   {
    "duration": 211,
    "start_time": "2022-09-19T19:03:09.431Z"
   },
   {
    "duration": 9,
    "start_time": "2022-09-19T19:03:09.643Z"
   },
   {
    "duration": 4,
    "start_time": "2022-09-19T19:03:09.653Z"
   },
   {
    "duration": 25,
    "start_time": "2022-09-19T19:03:09.661Z"
   },
   {
    "duration": 3,
    "start_time": "2022-09-19T19:03:09.709Z"
   },
   {
    "duration": 5,
    "start_time": "2022-09-19T19:03:09.714Z"
   },
   {
    "duration": 20,
    "start_time": "2022-09-19T19:03:09.721Z"
   },
   {
    "duration": 4,
    "start_time": "2022-09-19T19:03:09.743Z"
   },
   {
    "duration": 5,
    "start_time": "2022-09-19T19:03:09.749Z"
   },
   {
    "duration": 3788,
    "start_time": "2022-09-19T19:03:09.755Z"
   },
   {
    "duration": 4,
    "start_time": "2022-09-19T19:03:13.545Z"
   },
   {
    "duration": 72774,
    "start_time": "2022-09-19T19:03:13.550Z"
   },
   {
    "duration": 4,
    "start_time": "2022-09-19T19:04:26.326Z"
   },
   {
    "duration": 80,
    "start_time": "2022-09-19T19:04:26.331Z"
   },
   {
    "duration": 354,
    "start_time": "2022-09-19T19:04:26.413Z"
   },
   {
    "duration": 137,
    "start_time": "2022-09-19T19:04:26.769Z"
   },
   {
    "duration": 0,
    "start_time": "2022-09-19T19:04:26.909Z"
   },
   {
    "duration": 0,
    "start_time": "2022-09-19T19:04:26.910Z"
   },
   {
    "duration": 0,
    "start_time": "2022-09-19T19:04:26.911Z"
   },
   {
    "duration": 0,
    "start_time": "2022-09-19T19:04:26.912Z"
   },
   {
    "duration": 0,
    "start_time": "2022-09-19T19:04:26.913Z"
   },
   {
    "duration": 0,
    "start_time": "2022-09-19T19:04:26.914Z"
   },
   {
    "duration": 0,
    "start_time": "2022-09-19T19:04:26.915Z"
   },
   {
    "duration": 0,
    "start_time": "2022-09-19T19:04:26.916Z"
   },
   {
    "duration": 0,
    "start_time": "2022-09-19T19:04:26.916Z"
   },
   {
    "duration": 0,
    "start_time": "2022-09-19T19:04:26.917Z"
   },
   {
    "duration": 0,
    "start_time": "2022-09-19T19:04:26.918Z"
   },
   {
    "duration": 0,
    "start_time": "2022-09-19T19:04:26.919Z"
   },
   {
    "duration": 138,
    "start_time": "2022-09-19T19:10:56.088Z"
   },
   {
    "duration": 143,
    "start_time": "2022-09-19T19:11:05.887Z"
   },
   {
    "duration": 95764,
    "start_time": "2022-09-19T20:33:45.335Z"
   },
   {
    "duration": 21,
    "start_time": "2022-09-19T20:35:21.102Z"
   },
   {
    "duration": 180,
    "start_time": "2022-09-19T20:35:21.125Z"
   },
   {
    "duration": 29,
    "start_time": "2022-09-19T20:35:21.307Z"
   },
   {
    "duration": 186,
    "start_time": "2022-09-19T20:35:21.338Z"
   },
   {
    "duration": 94,
    "start_time": "2022-09-19T20:35:21.526Z"
   },
   {
    "duration": 459,
    "start_time": "2022-09-19T20:35:21.622Z"
   },
   {
    "duration": 173,
    "start_time": "2022-09-19T20:35:22.083Z"
   },
   {
    "duration": 11,
    "start_time": "2022-09-19T20:35:22.257Z"
   },
   {
    "duration": 183,
    "start_time": "2022-09-19T20:35:22.270Z"
   },
   {
    "duration": 1772,
    "start_time": "2022-09-20T10:56:46.628Z"
   },
   {
    "duration": 429,
    "start_time": "2022-09-20T10:56:48.403Z"
   },
   {
    "duration": 26,
    "start_time": "2022-09-20T10:56:48.834Z"
   },
   {
    "duration": 52,
    "start_time": "2022-09-20T10:56:48.862Z"
   },
   {
    "duration": 21,
    "start_time": "2022-09-20T10:56:48.920Z"
   },
   {
    "duration": 7,
    "start_time": "2022-09-20T10:56:48.942Z"
   },
   {
    "duration": 17,
    "start_time": "2022-09-20T10:56:48.951Z"
   },
   {
    "duration": 9,
    "start_time": "2022-09-20T10:56:48.969Z"
   },
   {
    "duration": 27,
    "start_time": "2022-09-20T10:56:48.979Z"
   },
   {
    "duration": 5,
    "start_time": "2022-09-20T10:56:49.007Z"
   },
   {
    "duration": 24,
    "start_time": "2022-09-20T10:56:49.013Z"
   },
   {
    "duration": 11,
    "start_time": "2022-09-20T10:56:49.039Z"
   },
   {
    "duration": 2,
    "start_time": "2022-09-20T10:56:49.051Z"
   },
   {
    "duration": 14,
    "start_time": "2022-09-20T10:56:49.056Z"
   },
   {
    "duration": 24,
    "start_time": "2022-09-20T10:56:49.072Z"
   },
   {
    "duration": 17,
    "start_time": "2022-09-20T10:56:49.097Z"
   },
   {
    "duration": 19,
    "start_time": "2022-09-20T10:56:49.117Z"
   },
   {
    "duration": 9,
    "start_time": "2022-09-20T10:56:49.137Z"
   },
   {
    "duration": 294,
    "start_time": "2022-09-20T10:56:49.147Z"
   },
   {
    "duration": 30763,
    "start_time": "2022-09-20T10:56:49.442Z"
   },
   {
    "duration": 373,
    "start_time": "2022-09-20T10:57:20.207Z"
   },
   {
    "duration": 354,
    "start_time": "2022-09-20T10:57:20.582Z"
   },
   {
    "duration": 8,
    "start_time": "2022-09-20T10:57:20.938Z"
   },
   {
    "duration": 71,
    "start_time": "2022-09-20T10:57:20.948Z"
   },
   {
    "duration": 124,
    "start_time": "2022-09-20T10:57:21.023Z"
   },
   {
    "duration": 10,
    "start_time": "2022-09-20T10:57:21.149Z"
   },
   {
    "duration": 37,
    "start_time": "2022-09-20T10:57:21.160Z"
   },
   {
    "duration": 57,
    "start_time": "2022-09-20T10:57:21.203Z"
   },
   {
    "duration": 3,
    "start_time": "2022-09-20T10:57:21.262Z"
   },
   {
    "duration": 8,
    "start_time": "2022-09-20T10:57:21.266Z"
   },
   {
    "duration": 36,
    "start_time": "2022-09-20T10:57:21.275Z"
   },
   {
    "duration": 14,
    "start_time": "2022-09-20T10:57:21.312Z"
   },
   {
    "duration": 8,
    "start_time": "2022-09-20T10:57:21.328Z"
   },
   {
    "duration": 4469,
    "start_time": "2022-09-20T10:57:21.337Z"
   },
   {
    "duration": 11,
    "start_time": "2022-09-20T10:57:25.810Z"
   },
   {
    "duration": 75130,
    "start_time": "2022-09-20T10:57:25.823Z"
   },
   {
    "duration": 4,
    "start_time": "2022-09-20T10:58:40.955Z"
   },
   {
    "duration": 74,
    "start_time": "2022-09-20T10:58:40.961Z"
   },
   {
    "duration": 380,
    "start_time": "2022-09-20T10:58:41.096Z"
   },
   {
    "duration": 186,
    "start_time": "2022-09-20T10:58:41.478Z"
   },
   {
    "duration": 3,
    "start_time": "2022-09-20T10:58:41.668Z"
   },
   {
    "duration": 8,
    "start_time": "2022-09-20T10:58:41.673Z"
   },
   {
    "duration": 93969,
    "start_time": "2022-09-20T10:58:41.683Z"
   },
   {
    "duration": 16,
    "start_time": "2022-09-20T11:00:15.655Z"
   },
   {
    "duration": 200,
    "start_time": "2022-09-20T11:00:15.673Z"
   },
   {
    "duration": 49,
    "start_time": "2022-09-20T11:00:15.875Z"
   },
   {
    "duration": 326,
    "start_time": "2022-09-20T11:00:15.925Z"
   },
   {
    "duration": 76,
    "start_time": "2022-09-20T11:00:16.252Z"
   },
   {
    "duration": 450,
    "start_time": "2022-09-20T11:00:16.395Z"
   },
   {
    "duration": 220,
    "start_time": "2022-09-20T11:00:16.847Z"
   },
   {
    "duration": 12,
    "start_time": "2022-09-20T11:00:17.069Z"
   },
   {
    "duration": 199,
    "start_time": "2022-09-20T11:00:17.083Z"
   },
   {
    "duration": 5,
    "start_time": "2022-09-20T11:01:07.550Z"
   },
   {
    "duration": 5,
    "start_time": "2022-09-20T11:01:19.342Z"
   },
   {
    "duration": 7,
    "start_time": "2022-09-20T11:01:27.306Z"
   },
   {
    "duration": 4,
    "start_time": "2022-09-20T11:02:01.949Z"
   },
   {
    "duration": 108,
    "start_time": "2022-09-20T11:02:09.039Z"
   },
   {
    "duration": 4,
    "start_time": "2022-09-20T11:02:13.727Z"
   },
   {
    "duration": 44,
    "start_time": "2022-09-20T11:03:26.982Z"
   },
   {
    "duration": 5,
    "start_time": "2022-09-20T11:04:38.143Z"
   },
   {
    "duration": 4403,
    "start_time": "2022-09-20T11:07:56.737Z"
   },
   {
    "duration": 4529,
    "start_time": "2022-09-20T11:09:04.981Z"
   },
   {
    "duration": 4109,
    "start_time": "2022-09-20T11:09:39.862Z"
   },
   {
    "duration": 122,
    "start_time": "2022-09-20T11:14:19.536Z"
   },
   {
    "duration": 4,
    "start_time": "2022-09-20T11:14:44.750Z"
   },
   {
    "duration": 18,
    "start_time": "2022-09-20T11:14:53.288Z"
   },
   {
    "duration": 4,
    "start_time": "2022-09-20T11:17:35.615Z"
   },
   {
    "duration": 14,
    "start_time": "2022-09-20T11:18:53.526Z"
   },
   {
    "duration": 4486,
    "start_time": "2022-09-20T11:19:07.826Z"
   },
   {
    "duration": 5317,
    "start_time": "2022-09-20T11:19:27.361Z"
   },
   {
    "duration": 4345,
    "start_time": "2022-09-20T11:20:42.765Z"
   },
   {
    "duration": 4,
    "start_time": "2022-09-20T11:45:24.986Z"
   },
   {
    "duration": 17,
    "start_time": "2022-09-20T11:45:37.440Z"
   },
   {
    "duration": 5369,
    "start_time": "2022-09-20T11:47:58.343Z"
   },
   {
    "duration": 5930,
    "start_time": "2022-09-20T11:48:16.753Z"
   },
   {
    "duration": 5448,
    "start_time": "2022-09-20T11:48:59.225Z"
   },
   {
    "duration": 4498,
    "start_time": "2022-09-20T11:51:04.012Z"
   },
   {
    "duration": 5,
    "start_time": "2022-09-20T11:52:54.527Z"
   },
   {
    "duration": 2,
    "start_time": "2022-09-20T11:53:06.437Z"
   },
   {
    "duration": 3,
    "start_time": "2022-09-20T11:53:13.569Z"
   },
   {
    "duration": 6,
    "start_time": "2022-09-20T11:53:29.025Z"
   },
   {
    "duration": 4,
    "start_time": "2022-09-20T11:53:52.649Z"
   },
   {
    "duration": 4,
    "start_time": "2022-09-20T11:54:38.885Z"
   },
   {
    "duration": 4,
    "start_time": "2022-09-20T11:54:45.625Z"
   },
   {
    "duration": 4,
    "start_time": "2022-09-20T11:54:56.560Z"
   },
   {
    "duration": 4,
    "start_time": "2022-09-20T11:55:03.134Z"
   },
   {
    "duration": 4,
    "start_time": "2022-09-20T11:56:13.646Z"
   },
   {
    "duration": 4,
    "start_time": "2022-09-20T11:56:20.148Z"
   },
   {
    "duration": 12,
    "start_time": "2022-09-20T11:56:46.246Z"
   },
   {
    "duration": 3,
    "start_time": "2022-09-20T11:56:55.885Z"
   },
   {
    "duration": 5,
    "start_time": "2022-09-20T11:57:42.222Z"
   },
   {
    "duration": 4,
    "start_time": "2022-09-20T11:57:51.355Z"
   },
   {
    "duration": 4740,
    "start_time": "2022-09-20T12:03:31.097Z"
   },
   {
    "duration": 24,
    "start_time": "2022-09-20T12:04:02.389Z"
   },
   {
    "duration": 15,
    "start_time": "2022-09-20T12:04:39.228Z"
   },
   {
    "duration": 4448,
    "start_time": "2022-09-20T12:05:00.734Z"
   },
   {
    "duration": 8050,
    "start_time": "2022-09-20T12:08:26.688Z"
   },
   {
    "duration": 4790,
    "start_time": "2022-09-20T12:09:05.144Z"
   },
   {
    "duration": 3882,
    "start_time": "2022-09-20T12:09:23.026Z"
   },
   {
    "duration": 4258,
    "start_time": "2022-09-20T12:09:51.404Z"
   },
   {
    "duration": 4362,
    "start_time": "2022-09-20T12:45:53.692Z"
   },
   {
    "duration": 4,
    "start_time": "2022-09-20T12:54:58.659Z"
   },
   {
    "duration": 42,
    "start_time": "2022-09-20T12:54:58.665Z"
   },
   {
    "duration": 21,
    "start_time": "2022-09-20T12:54:58.708Z"
   },
   {
    "duration": 46,
    "start_time": "2022-09-20T12:54:58.731Z"
   },
   {
    "duration": 20,
    "start_time": "2022-09-20T12:54:58.795Z"
   },
   {
    "duration": 6,
    "start_time": "2022-09-20T12:54:58.817Z"
   },
   {
    "duration": 15,
    "start_time": "2022-09-20T12:54:58.825Z"
   },
   {
    "duration": 6,
    "start_time": "2022-09-20T12:54:58.856Z"
   },
   {
    "duration": 13,
    "start_time": "2022-09-20T12:54:58.864Z"
   },
   {
    "duration": 4,
    "start_time": "2022-09-20T12:54:58.895Z"
   },
   {
    "duration": 7,
    "start_time": "2022-09-20T12:54:58.901Z"
   },
   {
    "duration": 12,
    "start_time": "2022-09-20T12:54:58.910Z"
   },
   {
    "duration": 2,
    "start_time": "2022-09-20T12:54:58.923Z"
   },
   {
    "duration": 14,
    "start_time": "2022-09-20T12:54:58.927Z"
   },
   {
    "duration": 55,
    "start_time": "2022-09-20T12:54:58.943Z"
   },
   {
    "duration": 12,
    "start_time": "2022-09-20T12:54:58.999Z"
   },
   {
    "duration": 4,
    "start_time": "2022-09-20T12:54:59.013Z"
   },
   {
    "duration": 5,
    "start_time": "2022-09-20T12:54:59.019Z"
   },
   {
    "duration": 250,
    "start_time": "2022-09-20T12:54:59.026Z"
   },
   {
    "duration": 29841,
    "start_time": "2022-09-20T12:54:59.279Z"
   },
   {
    "duration": 410,
    "start_time": "2022-09-20T12:55:29.123Z"
   },
   {
    "duration": 370,
    "start_time": "2022-09-20T12:55:29.534Z"
   },
   {
    "duration": 16,
    "start_time": "2022-09-20T12:55:29.907Z"
   },
   {
    "duration": 78,
    "start_time": "2022-09-20T12:55:29.925Z"
   },
   {
    "duration": 137,
    "start_time": "2022-09-20T12:55:30.006Z"
   },
   {
    "duration": 9,
    "start_time": "2022-09-20T12:55:30.145Z"
   },
   {
    "duration": 12,
    "start_time": "2022-09-20T12:55:30.155Z"
   },
   {
    "duration": 65,
    "start_time": "2022-09-20T12:55:30.169Z"
   },
   {
    "duration": 3,
    "start_time": "2022-09-20T12:55:30.237Z"
   },
   {
    "duration": 9,
    "start_time": "2022-09-20T12:55:30.241Z"
   },
   {
    "duration": 41,
    "start_time": "2022-09-20T12:55:30.251Z"
   },
   {
    "duration": 1627,
    "start_time": "2022-09-20T12:55:52.233Z"
   },
   {
    "duration": 41,
    "start_time": "2022-09-20T12:55:53.862Z"
   },
   {
    "duration": 26,
    "start_time": "2022-09-20T12:55:53.905Z"
   },
   {
    "duration": 74,
    "start_time": "2022-09-20T12:55:53.933Z"
   },
   {
    "duration": 23,
    "start_time": "2022-09-20T12:55:54.010Z"
   },
   {
    "duration": 4,
    "start_time": "2022-09-20T12:55:54.035Z"
   },
   {
    "duration": 15,
    "start_time": "2022-09-20T12:55:54.040Z"
   },
   {
    "duration": 9,
    "start_time": "2022-09-20T12:55:54.057Z"
   },
   {
    "duration": 17,
    "start_time": "2022-09-20T12:55:54.095Z"
   },
   {
    "duration": 5,
    "start_time": "2022-09-20T12:55:54.115Z"
   },
   {
    "duration": 8,
    "start_time": "2022-09-20T12:55:54.123Z"
   },
   {
    "duration": 19,
    "start_time": "2022-09-20T12:55:54.133Z"
   },
   {
    "duration": 3,
    "start_time": "2022-09-20T12:55:54.154Z"
   },
   {
    "duration": 48,
    "start_time": "2022-09-20T12:55:54.161Z"
   },
   {
    "duration": 31,
    "start_time": "2022-09-20T12:55:54.212Z"
   },
   {
    "duration": 13,
    "start_time": "2022-09-20T12:55:54.245Z"
   },
   {
    "duration": 4,
    "start_time": "2022-09-20T12:55:54.260Z"
   },
   {
    "duration": 29,
    "start_time": "2022-09-20T12:55:54.266Z"
   },
   {
    "duration": 264,
    "start_time": "2022-09-20T12:55:54.297Z"
   },
   {
    "duration": 29032,
    "start_time": "2022-09-20T12:55:54.563Z"
   },
   {
    "duration": 375,
    "start_time": "2022-09-20T12:56:23.622Z"
   },
   {
    "duration": 339,
    "start_time": "2022-09-20T12:56:23.999Z"
   },
   {
    "duration": 11,
    "start_time": "2022-09-20T12:56:24.340Z"
   },
   {
    "duration": 53,
    "start_time": "2022-09-20T12:56:24.353Z"
   },
   {
    "duration": 212,
    "start_time": "2022-09-20T12:56:24.408Z"
   },
   {
    "duration": 9,
    "start_time": "2022-09-20T12:56:24.621Z"
   },
   {
    "duration": 5,
    "start_time": "2022-09-20T12:56:24.631Z"
   },
   {
    "duration": 24,
    "start_time": "2022-09-20T12:56:24.638Z"
   },
   {
    "duration": 2,
    "start_time": "2022-09-20T12:56:24.664Z"
   },
   {
    "duration": 29,
    "start_time": "2022-09-20T12:56:24.668Z"
   },
   {
    "duration": 21,
    "start_time": "2022-09-20T12:56:24.698Z"
   },
   {
    "duration": 5,
    "start_time": "2022-09-20T12:56:31.286Z"
   },
   {
    "duration": 3,
    "start_time": "2022-09-20T12:57:25.107Z"
   },
   {
    "duration": 1613,
    "start_time": "2022-09-20T13:15:00.714Z"
   },
   {
    "duration": 42,
    "start_time": "2022-09-20T13:15:02.329Z"
   },
   {
    "duration": 28,
    "start_time": "2022-09-20T13:15:02.373Z"
   },
   {
    "duration": 69,
    "start_time": "2022-09-20T13:15:02.403Z"
   },
   {
    "duration": 21,
    "start_time": "2022-09-20T13:15:02.474Z"
   },
   {
    "duration": 4,
    "start_time": "2022-09-20T13:15:02.497Z"
   },
   {
    "duration": 37,
    "start_time": "2022-09-20T13:15:02.503Z"
   },
   {
    "duration": 6,
    "start_time": "2022-09-20T13:15:02.541Z"
   },
   {
    "duration": 16,
    "start_time": "2022-09-20T13:15:02.549Z"
   },
   {
    "duration": 12,
    "start_time": "2022-09-20T13:15:02.568Z"
   },
   {
    "duration": 12,
    "start_time": "2022-09-20T13:15:02.581Z"
   },
   {
    "duration": 50,
    "start_time": "2022-09-20T13:15:02.594Z"
   },
   {
    "duration": 2,
    "start_time": "2022-09-20T13:15:02.646Z"
   },
   {
    "duration": 18,
    "start_time": "2022-09-20T13:15:02.650Z"
   },
   {
    "duration": 26,
    "start_time": "2022-09-20T13:15:02.670Z"
   },
   {
    "duration": 15,
    "start_time": "2022-09-20T13:15:02.698Z"
   },
   {
    "duration": 9,
    "start_time": "2022-09-20T13:15:02.715Z"
   },
   {
    "duration": 14,
    "start_time": "2022-09-20T13:15:02.725Z"
   },
   {
    "duration": 309,
    "start_time": "2022-09-20T13:15:02.741Z"
   },
   {
    "duration": 30656,
    "start_time": "2022-09-20T13:15:03.053Z"
   },
   {
    "duration": 390,
    "start_time": "2022-09-20T13:15:33.711Z"
   },
   {
    "duration": 346,
    "start_time": "2022-09-20T13:15:34.106Z"
   },
   {
    "duration": 14,
    "start_time": "2022-09-20T13:15:34.454Z"
   },
   {
    "duration": 126,
    "start_time": "2022-09-20T13:15:34.469Z"
   },
   {
    "duration": 139,
    "start_time": "2022-09-20T13:15:34.597Z"
   },
   {
    "duration": 9,
    "start_time": "2022-09-20T13:15:34.738Z"
   },
   {
    "duration": 5,
    "start_time": "2022-09-20T13:15:34.749Z"
   },
   {
    "duration": 52,
    "start_time": "2022-09-20T13:15:34.757Z"
   },
   {
    "duration": 3,
    "start_time": "2022-09-20T13:15:34.811Z"
   },
   {
    "duration": 6,
    "start_time": "2022-09-20T13:15:34.815Z"
   },
   {
    "duration": 25,
    "start_time": "2022-09-20T13:15:34.823Z"
   },
   {
    "duration": 6,
    "start_time": "2022-09-20T13:15:34.849Z"
   },
   {
    "duration": 8,
    "start_time": "2022-09-20T13:15:34.856Z"
   },
   {
    "duration": 5596,
    "start_time": "2022-09-20T13:15:34.866Z"
   },
   {
    "duration": 86293,
    "start_time": "2022-09-20T13:15:40.464Z"
   },
   {
    "duration": 48,
    "start_time": "2022-09-20T13:17:06.759Z"
   },
   {
    "duration": 435,
    "start_time": "2022-09-20T13:17:06.808Z"
   },
   {
    "duration": 181,
    "start_time": "2022-09-20T13:17:07.245Z"
   },
   {
    "duration": 3,
    "start_time": "2022-09-20T13:17:07.427Z"
   },
   {
    "duration": 56,
    "start_time": "2022-09-20T13:17:07.432Z"
   },
   {
    "duration": 15,
    "start_time": "2022-09-20T13:17:07.496Z"
   },
   {
    "duration": 200,
    "start_time": "2022-09-20T13:17:07.512Z"
   },
   {
    "duration": 24,
    "start_time": "2022-09-20T13:17:07.713Z"
   },
   {
    "duration": 198,
    "start_time": "2022-09-20T13:17:07.739Z"
   },
   {
    "duration": 63,
    "start_time": "2022-09-20T13:17:07.939Z"
   },
   {
    "duration": 443,
    "start_time": "2022-09-20T13:17:08.004Z"
   },
   {
    "duration": 319,
    "start_time": "2022-09-20T13:17:08.449Z"
   },
   {
    "duration": 15,
    "start_time": "2022-09-20T13:17:08.770Z"
   },
   {
    "duration": 190,
    "start_time": "2022-09-20T13:17:08.787Z"
   },
   {
    "duration": 1477,
    "start_time": "2022-09-20T13:24:19.477Z"
   },
   {
    "duration": 41,
    "start_time": "2022-09-20T13:24:20.956Z"
   },
   {
    "duration": 25,
    "start_time": "2022-09-20T13:24:20.999Z"
   },
   {
    "duration": 50,
    "start_time": "2022-09-20T13:24:21.026Z"
   },
   {
    "duration": 35,
    "start_time": "2022-09-20T13:24:21.079Z"
   },
   {
    "duration": 3,
    "start_time": "2022-09-20T13:24:21.116Z"
   },
   {
    "duration": 12,
    "start_time": "2022-09-20T13:24:21.121Z"
   },
   {
    "duration": 6,
    "start_time": "2022-09-20T13:24:21.135Z"
   },
   {
    "duration": 11,
    "start_time": "2022-09-20T13:24:21.142Z"
   },
   {
    "duration": 41,
    "start_time": "2022-09-20T13:24:21.154Z"
   },
   {
    "duration": 5,
    "start_time": "2022-09-20T13:24:21.196Z"
   },
   {
    "duration": 12,
    "start_time": "2022-09-20T13:24:21.202Z"
   },
   {
    "duration": 2,
    "start_time": "2022-09-20T13:24:21.216Z"
   },
   {
    "duration": 13,
    "start_time": "2022-09-20T13:24:21.221Z"
   },
   {
    "duration": 25,
    "start_time": "2022-09-20T13:24:21.235Z"
   },
   {
    "duration": 39,
    "start_time": "2022-09-20T13:24:21.262Z"
   },
   {
    "duration": 4,
    "start_time": "2022-09-20T13:24:21.303Z"
   },
   {
    "duration": 8,
    "start_time": "2022-09-20T13:24:21.308Z"
   },
   {
    "duration": 273,
    "start_time": "2022-09-20T13:24:21.317Z"
   },
   {
    "duration": 27562,
    "start_time": "2022-09-20T13:24:21.594Z"
   },
   {
    "duration": 371,
    "start_time": "2022-09-20T13:24:49.158Z"
   },
   {
    "duration": 388,
    "start_time": "2022-09-20T13:24:49.531Z"
   },
   {
    "duration": 15,
    "start_time": "2022-09-20T13:24:49.921Z"
   },
   {
    "duration": 75,
    "start_time": "2022-09-20T13:24:49.939Z"
   },
   {
    "duration": 147,
    "start_time": "2022-09-20T13:24:50.097Z"
   },
   {
    "duration": 13,
    "start_time": "2022-09-20T13:24:50.247Z"
   },
   {
    "duration": 9,
    "start_time": "2022-09-20T13:24:50.263Z"
   },
   {
    "duration": 28,
    "start_time": "2022-09-20T13:24:50.273Z"
   },
   {
    "duration": 3,
    "start_time": "2022-09-20T13:24:50.304Z"
   },
   {
    "duration": 8,
    "start_time": "2022-09-20T13:24:50.309Z"
   },
   {
    "duration": 27,
    "start_time": "2022-09-20T13:24:50.319Z"
   },
   {
    "duration": 6,
    "start_time": "2022-09-20T13:24:50.348Z"
   },
   {
    "duration": 16,
    "start_time": "2022-09-20T13:24:50.357Z"
   },
   {
    "duration": 5935,
    "start_time": "2022-09-20T13:24:50.396Z"
   },
   {
    "duration": 88416,
    "start_time": "2022-09-20T13:24:56.333Z"
   },
   {
    "duration": 244,
    "start_time": "2022-09-20T13:26:24.751Z"
   },
   {
    "duration": 346,
    "start_time": "2022-09-20T13:26:24.997Z"
   },
   {
    "duration": 176,
    "start_time": "2022-09-20T13:26:25.345Z"
   },
   {
    "duration": 4,
    "start_time": "2022-09-20T13:26:25.523Z"
   },
   {
    "duration": 81,
    "start_time": "2022-09-20T13:26:25.528Z"
   },
   {
    "duration": 17,
    "start_time": "2022-09-20T13:26:25.615Z"
   },
   {
    "duration": 192,
    "start_time": "2022-09-20T13:26:25.634Z"
   },
   {
    "duration": 25,
    "start_time": "2022-09-20T13:26:25.828Z"
   },
   {
    "duration": 199,
    "start_time": "2022-09-20T13:26:25.855Z"
   },
   {
    "duration": 145,
    "start_time": "2022-09-20T13:26:26.056Z"
   },
   {
    "duration": 418,
    "start_time": "2022-09-20T13:26:26.203Z"
   },
   {
    "duration": 393,
    "start_time": "2022-09-20T13:26:26.623Z"
   },
   {
    "duration": 15,
    "start_time": "2022-09-20T13:26:27.018Z"
   },
   {
    "duration": 185,
    "start_time": "2022-09-20T13:26:27.035Z"
   },
   {
    "duration": 126,
    "start_time": "2022-09-20T13:29:43.189Z"
   },
   {
    "duration": 1569,
    "start_time": "2022-09-20T13:38:15.183Z"
   },
   {
    "duration": 44,
    "start_time": "2022-09-20T13:38:16.756Z"
   },
   {
    "duration": 27,
    "start_time": "2022-09-20T13:38:16.802Z"
   },
   {
    "duration": 77,
    "start_time": "2022-09-20T13:38:16.831Z"
   },
   {
    "duration": 25,
    "start_time": "2022-09-20T13:38:16.911Z"
   },
   {
    "duration": 3,
    "start_time": "2022-09-20T13:38:16.938Z"
   },
   {
    "duration": 15,
    "start_time": "2022-09-20T13:38:16.943Z"
   },
   {
    "duration": 7,
    "start_time": "2022-09-20T13:38:16.960Z"
   },
   {
    "duration": 13,
    "start_time": "2022-09-20T13:38:16.996Z"
   },
   {
    "duration": 5,
    "start_time": "2022-09-20T13:38:17.011Z"
   },
   {
    "duration": 9,
    "start_time": "2022-09-20T13:38:17.018Z"
   },
   {
    "duration": 15,
    "start_time": "2022-09-20T13:38:17.028Z"
   },
   {
    "duration": 3,
    "start_time": "2022-09-20T13:38:17.045Z"
   },
   {
    "duration": 45,
    "start_time": "2022-09-20T13:38:17.051Z"
   },
   {
    "duration": 26,
    "start_time": "2022-09-20T13:38:17.098Z"
   },
   {
    "duration": 12,
    "start_time": "2022-09-20T13:38:17.126Z"
   },
   {
    "duration": 5,
    "start_time": "2022-09-20T13:38:17.140Z"
   },
   {
    "duration": 7,
    "start_time": "2022-09-20T13:38:17.146Z"
   },
   {
    "duration": 293,
    "start_time": "2022-09-20T13:38:17.154Z"
   },
   {
    "duration": 29420,
    "start_time": "2022-09-20T13:38:17.449Z"
   },
   {
    "duration": 383,
    "start_time": "2022-09-20T13:38:46.871Z"
   },
   {
    "duration": 362,
    "start_time": "2022-09-20T13:38:47.256Z"
   },
   {
    "duration": 14,
    "start_time": "2022-09-20T13:38:47.620Z"
   },
   {
    "duration": 162,
    "start_time": "2022-09-20T13:38:47.636Z"
   },
   {
    "duration": 96,
    "start_time": "2022-09-20T13:38:47.800Z"
   },
   {
    "duration": 11,
    "start_time": "2022-09-20T13:38:47.898Z"
   },
   {
    "duration": 6,
    "start_time": "2022-09-20T13:38:47.911Z"
   },
   {
    "duration": 34,
    "start_time": "2022-09-20T13:38:47.919Z"
   },
   {
    "duration": 3,
    "start_time": "2022-09-20T13:38:47.955Z"
   },
   {
    "duration": 11,
    "start_time": "2022-09-20T13:38:47.961Z"
   },
   {
    "duration": 45,
    "start_time": "2022-09-20T13:38:47.973Z"
   },
   {
    "duration": 7,
    "start_time": "2022-09-20T13:38:48.020Z"
   },
   {
    "duration": 11,
    "start_time": "2022-09-20T13:38:48.029Z"
   },
   {
    "duration": 5214,
    "start_time": "2022-09-20T13:38:48.042Z"
   },
   {
    "duration": 86324,
    "start_time": "2022-09-20T13:38:53.258Z"
   },
   {
    "duration": 43,
    "start_time": "2022-09-20T13:40:19.583Z"
   },
   {
    "duration": 421,
    "start_time": "2022-09-20T13:40:19.627Z"
   },
   {
    "duration": 183,
    "start_time": "2022-09-20T13:40:20.050Z"
   },
   {
    "duration": 3,
    "start_time": "2022-09-20T13:40:20.235Z"
   },
   {
    "duration": 68,
    "start_time": "2022-09-20T13:40:20.240Z"
   },
   {
    "duration": 16,
    "start_time": "2022-09-20T13:40:20.312Z"
   },
   {
    "duration": 190,
    "start_time": "2022-09-20T13:40:20.330Z"
   },
   {
    "duration": 23,
    "start_time": "2022-09-20T13:40:20.522Z"
   },
   {
    "duration": 202,
    "start_time": "2022-09-20T13:40:20.547Z"
   },
   {
    "duration": 144,
    "start_time": "2022-09-20T13:40:20.751Z"
   },
   {
    "duration": 360,
    "start_time": "2022-09-20T13:40:20.897Z"
   },
   {
    "duration": 312,
    "start_time": "2022-09-20T13:40:21.259Z"
   },
   {
    "duration": 23,
    "start_time": "2022-09-20T13:40:21.572Z"
   },
   {
    "duration": 178,
    "start_time": "2022-09-20T13:40:21.597Z"
   },
   {
    "duration": 20,
    "start_time": "2022-09-20T13:42:57.673Z"
   },
   {
    "duration": 18,
    "start_time": "2022-09-20T13:46:41.304Z"
   },
   {
    "duration": 43,
    "start_time": "2022-09-20T13:50:21.887Z"
   },
   {
    "duration": 1530,
    "start_time": "2022-09-20T13:54:11.420Z"
   },
   {
    "duration": 0,
    "start_time": "2022-09-20T13:54:12.954Z"
   },
   {
    "duration": 0,
    "start_time": "2022-09-20T13:54:12.955Z"
   },
   {
    "duration": 0,
    "start_time": "2022-09-20T13:54:12.956Z"
   },
   {
    "duration": 0,
    "start_time": "2022-09-20T13:54:12.957Z"
   },
   {
    "duration": 0,
    "start_time": "2022-09-20T13:54:12.959Z"
   },
   {
    "duration": 0,
    "start_time": "2022-09-20T13:54:12.960Z"
   },
   {
    "duration": 0,
    "start_time": "2022-09-20T13:54:12.960Z"
   },
   {
    "duration": 0,
    "start_time": "2022-09-20T13:54:12.961Z"
   },
   {
    "duration": 0,
    "start_time": "2022-09-20T13:54:12.963Z"
   },
   {
    "duration": 0,
    "start_time": "2022-09-20T13:54:12.964Z"
   },
   {
    "duration": 0,
    "start_time": "2022-09-20T13:54:12.965Z"
   },
   {
    "duration": 0,
    "start_time": "2022-09-20T13:54:12.966Z"
   },
   {
    "duration": 0,
    "start_time": "2022-09-20T13:54:12.967Z"
   },
   {
    "duration": 0,
    "start_time": "2022-09-20T13:54:12.968Z"
   },
   {
    "duration": 0,
    "start_time": "2022-09-20T13:54:12.969Z"
   },
   {
    "duration": 0,
    "start_time": "2022-09-20T13:54:12.970Z"
   },
   {
    "duration": 0,
    "start_time": "2022-09-20T13:54:12.971Z"
   },
   {
    "duration": 0,
    "start_time": "2022-09-20T13:54:12.972Z"
   },
   {
    "duration": 0,
    "start_time": "2022-09-20T13:54:12.974Z"
   },
   {
    "duration": 0,
    "start_time": "2022-09-20T13:54:12.975Z"
   },
   {
    "duration": 0,
    "start_time": "2022-09-20T13:54:12.976Z"
   },
   {
    "duration": 0,
    "start_time": "2022-09-20T13:54:12.977Z"
   },
   {
    "duration": 0,
    "start_time": "2022-09-20T13:54:12.978Z"
   },
   {
    "duration": 0,
    "start_time": "2022-09-20T13:54:12.979Z"
   },
   {
    "duration": 0,
    "start_time": "2022-09-20T13:54:12.980Z"
   },
   {
    "duration": 0,
    "start_time": "2022-09-20T13:54:12.981Z"
   },
   {
    "duration": 0,
    "start_time": "2022-09-20T13:54:12.982Z"
   },
   {
    "duration": 0,
    "start_time": "2022-09-20T13:54:12.984Z"
   },
   {
    "duration": 0,
    "start_time": "2022-09-20T13:54:12.984Z"
   },
   {
    "duration": 0,
    "start_time": "2022-09-20T13:54:12.996Z"
   },
   {
    "duration": 0,
    "start_time": "2022-09-20T13:54:12.998Z"
   },
   {
    "duration": 0,
    "start_time": "2022-09-20T13:54:13.000Z"
   },
   {
    "duration": 0,
    "start_time": "2022-09-20T13:54:13.001Z"
   },
   {
    "duration": 0,
    "start_time": "2022-09-20T13:54:13.005Z"
   },
   {
    "duration": 1,
    "start_time": "2022-09-20T13:54:13.008Z"
   },
   {
    "duration": 0,
    "start_time": "2022-09-20T13:54:13.009Z"
   },
   {
    "duration": 0,
    "start_time": "2022-09-20T13:54:13.010Z"
   },
   {
    "duration": 0,
    "start_time": "2022-09-20T13:54:13.013Z"
   },
   {
    "duration": 0,
    "start_time": "2022-09-20T13:54:13.014Z"
   },
   {
    "duration": 0,
    "start_time": "2022-09-20T13:54:13.015Z"
   },
   {
    "duration": 0,
    "start_time": "2022-09-20T13:54:13.017Z"
   },
   {
    "duration": 0,
    "start_time": "2022-09-20T13:54:13.018Z"
   },
   {
    "duration": 0,
    "start_time": "2022-09-20T13:54:13.020Z"
   },
   {
    "duration": 0,
    "start_time": "2022-09-20T13:54:13.022Z"
   },
   {
    "duration": 0,
    "start_time": "2022-09-20T13:54:13.023Z"
   },
   {
    "duration": 0,
    "start_time": "2022-09-20T13:54:13.025Z"
   },
   {
    "duration": 0,
    "start_time": "2022-09-20T13:54:13.026Z"
   },
   {
    "duration": 1617,
    "start_time": "2022-09-20T13:54:28.822Z"
   },
   {
    "duration": 42,
    "start_time": "2022-09-20T13:54:30.441Z"
   },
   {
    "duration": 33,
    "start_time": "2022-09-20T13:54:30.485Z"
   },
   {
    "duration": 65,
    "start_time": "2022-09-20T13:54:30.521Z"
   },
   {
    "duration": 39,
    "start_time": "2022-09-20T13:54:30.599Z"
   },
   {
    "duration": 20,
    "start_time": "2022-09-20T13:54:30.640Z"
   },
   {
    "duration": 30,
    "start_time": "2022-09-20T13:54:30.663Z"
   },
   {
    "duration": 35,
    "start_time": "2022-09-20T13:54:30.695Z"
   },
   {
    "duration": 27,
    "start_time": "2022-09-20T13:54:30.733Z"
   },
   {
    "duration": 5,
    "start_time": "2022-09-20T13:54:30.763Z"
   },
   {
    "duration": 20,
    "start_time": "2022-09-20T13:54:30.770Z"
   },
   {
    "duration": 28,
    "start_time": "2022-09-20T13:54:30.792Z"
   },
   {
    "duration": 16,
    "start_time": "2022-09-20T13:54:30.822Z"
   },
   {
    "duration": 21,
    "start_time": "2022-09-20T13:54:30.841Z"
   },
   {
    "duration": 36,
    "start_time": "2022-09-20T13:54:30.865Z"
   },
   {
    "duration": 25,
    "start_time": "2022-09-20T13:54:30.903Z"
   },
   {
    "duration": 5,
    "start_time": "2022-09-20T13:54:30.929Z"
   },
   {
    "duration": 11,
    "start_time": "2022-09-20T13:54:30.935Z"
   },
   {
    "duration": 297,
    "start_time": "2022-09-20T13:54:30.947Z"
   },
   {
    "duration": 2,
    "start_time": "2022-09-20T13:54:31.246Z"
   },
   {
    "duration": 390,
    "start_time": "2022-09-20T13:54:31.249Z"
   },
   {
    "duration": 387,
    "start_time": "2022-09-20T13:54:31.641Z"
   },
   {
    "duration": 16,
    "start_time": "2022-09-20T13:54:32.030Z"
   },
   {
    "duration": 146,
    "start_time": "2022-09-20T13:54:32.048Z"
   },
   {
    "duration": 141,
    "start_time": "2022-09-20T13:54:32.197Z"
   },
   {
    "duration": 10,
    "start_time": "2022-09-20T13:54:32.339Z"
   },
   {
    "duration": 6,
    "start_time": "2022-09-20T13:54:32.351Z"
   },
   {
    "duration": 54,
    "start_time": "2022-09-20T13:54:32.361Z"
   },
   {
    "duration": 12,
    "start_time": "2022-09-20T13:54:32.417Z"
   },
   {
    "duration": 7,
    "start_time": "2022-09-20T13:54:32.431Z"
   },
   {
    "duration": 117,
    "start_time": "2022-09-20T13:54:32.440Z"
   },
   {
    "duration": 6,
    "start_time": "2022-09-20T13:54:32.559Z"
   },
   {
    "duration": 7,
    "start_time": "2022-09-20T13:54:32.567Z"
   },
   {
    "duration": 6989,
    "start_time": "2022-09-20T13:54:32.576Z"
   },
   {
    "duration": 97173,
    "start_time": "2022-09-20T13:54:39.567Z"
   },
   {
    "duration": 176,
    "start_time": "2022-09-20T13:56:16.742Z"
   },
   {
    "duration": 0,
    "start_time": "2022-09-20T13:56:16.921Z"
   },
   {
    "duration": 0,
    "start_time": "2022-09-20T13:56:16.922Z"
   },
   {
    "duration": 0,
    "start_time": "2022-09-20T13:56:16.924Z"
   },
   {
    "duration": 1,
    "start_time": "2022-09-20T13:56:16.927Z"
   },
   {
    "duration": 0,
    "start_time": "2022-09-20T13:56:16.931Z"
   },
   {
    "duration": 0,
    "start_time": "2022-09-20T13:56:16.932Z"
   },
   {
    "duration": 0,
    "start_time": "2022-09-20T13:56:16.933Z"
   },
   {
    "duration": 0,
    "start_time": "2022-09-20T13:56:16.934Z"
   },
   {
    "duration": 0,
    "start_time": "2022-09-20T13:56:16.935Z"
   },
   {
    "duration": 0,
    "start_time": "2022-09-20T13:56:16.937Z"
   },
   {
    "duration": 0,
    "start_time": "2022-09-20T13:56:16.938Z"
   },
   {
    "duration": 0,
    "start_time": "2022-09-20T13:56:16.940Z"
   },
   {
    "duration": 4,
    "start_time": "2022-09-20T13:57:49.985Z"
   },
   {
    "duration": 116,
    "start_time": "2022-09-20T14:00:34.579Z"
   },
   {
    "duration": 3,
    "start_time": "2022-09-20T14:00:46.021Z"
   },
   {
    "duration": 4,
    "start_time": "2022-09-20T14:00:53.119Z"
   },
   {
    "duration": 1607,
    "start_time": "2022-09-20T14:02:23.119Z"
   },
   {
    "duration": 47,
    "start_time": "2022-09-20T14:02:24.729Z"
   },
   {
    "duration": 37,
    "start_time": "2022-09-20T14:02:24.778Z"
   },
   {
    "duration": 56,
    "start_time": "2022-09-20T14:02:24.819Z"
   },
   {
    "duration": 40,
    "start_time": "2022-09-20T14:02:24.876Z"
   },
   {
    "duration": 3,
    "start_time": "2022-09-20T14:02:24.920Z"
   },
   {
    "duration": 17,
    "start_time": "2022-09-20T14:02:24.924Z"
   },
   {
    "duration": 6,
    "start_time": "2022-09-20T14:02:24.943Z"
   },
   {
    "duration": 22,
    "start_time": "2022-09-20T14:02:24.951Z"
   },
   {
    "duration": 4,
    "start_time": "2022-09-20T14:02:24.975Z"
   },
   {
    "duration": 9,
    "start_time": "2022-09-20T14:02:24.999Z"
   },
   {
    "duration": 32,
    "start_time": "2022-09-20T14:02:25.009Z"
   },
   {
    "duration": 3,
    "start_time": "2022-09-20T14:02:25.042Z"
   },
   {
    "duration": 17,
    "start_time": "2022-09-20T14:02:25.046Z"
   },
   {
    "duration": 34,
    "start_time": "2022-09-20T14:02:25.065Z"
   },
   {
    "duration": 16,
    "start_time": "2022-09-20T14:02:25.112Z"
   },
   {
    "duration": 5,
    "start_time": "2022-09-20T14:02:25.130Z"
   },
   {
    "duration": 8,
    "start_time": "2022-09-20T14:02:25.137Z"
   },
   {
    "duration": 288,
    "start_time": "2022-09-20T14:02:25.147Z"
   },
   {
    "duration": 2,
    "start_time": "2022-09-20T14:02:25.437Z"
   },
   {
    "duration": 401,
    "start_time": "2022-09-20T14:02:25.440Z"
   },
   {
    "duration": 378,
    "start_time": "2022-09-20T14:02:25.843Z"
   },
   {
    "duration": 14,
    "start_time": "2022-09-20T14:02:26.223Z"
   },
   {
    "duration": 164,
    "start_time": "2022-09-20T14:02:26.239Z"
   },
   {
    "duration": 99,
    "start_time": "2022-09-20T14:02:26.406Z"
   },
   {
    "duration": 11,
    "start_time": "2022-09-20T14:02:26.507Z"
   },
   {
    "duration": 23,
    "start_time": "2022-09-20T14:02:26.525Z"
   },
   {
    "duration": 44,
    "start_time": "2022-09-20T14:02:26.553Z"
   },
   {
    "duration": 7,
    "start_time": "2022-09-20T14:02:26.599Z"
   },
   {
    "duration": 30,
    "start_time": "2022-09-20T14:02:26.609Z"
   },
   {
    "duration": 131,
    "start_time": "2022-09-20T14:02:26.641Z"
   },
   {
    "duration": 6,
    "start_time": "2022-09-20T14:02:26.774Z"
   },
   {
    "duration": 12,
    "start_time": "2022-09-20T14:02:26.782Z"
   },
   {
    "duration": 5724,
    "start_time": "2022-09-20T14:02:26.796Z"
   },
   {
    "duration": 94618,
    "start_time": "2022-09-20T14:02:32.523Z"
   },
   {
    "duration": 4,
    "start_time": "2022-09-20T14:04:07.142Z"
   },
   {
    "duration": 144,
    "start_time": "2022-09-20T14:04:07.147Z"
   },
   {
    "duration": 0,
    "start_time": "2022-09-20T14:04:07.295Z"
   },
   {
    "duration": 0,
    "start_time": "2022-09-20T14:04:07.296Z"
   },
   {
    "duration": 0,
    "start_time": "2022-09-20T14:04:07.296Z"
   },
   {
    "duration": 0,
    "start_time": "2022-09-20T14:04:07.297Z"
   },
   {
    "duration": 0,
    "start_time": "2022-09-20T14:04:07.298Z"
   },
   {
    "duration": 0,
    "start_time": "2022-09-20T14:04:07.299Z"
   },
   {
    "duration": 0,
    "start_time": "2022-09-20T14:04:07.301Z"
   },
   {
    "duration": 0,
    "start_time": "2022-09-20T14:04:07.301Z"
   },
   {
    "duration": 0,
    "start_time": "2022-09-20T14:04:07.303Z"
   },
   {
    "duration": 0,
    "start_time": "2022-09-20T14:04:07.303Z"
   },
   {
    "duration": 0,
    "start_time": "2022-09-20T14:04:07.304Z"
   },
   {
    "duration": 0,
    "start_time": "2022-09-20T14:04:07.308Z"
   },
   {
    "duration": 3,
    "start_time": "2022-09-20T14:05:03.085Z"
   },
   {
    "duration": 1561,
    "start_time": "2022-09-20T14:05:54.974Z"
   },
   {
    "duration": 55,
    "start_time": "2022-09-20T14:05:56.538Z"
   },
   {
    "duration": 40,
    "start_time": "2022-09-20T14:05:56.595Z"
   },
   {
    "duration": 95,
    "start_time": "2022-09-20T14:05:56.638Z"
   },
   {
    "duration": 39,
    "start_time": "2022-09-20T14:05:56.736Z"
   },
   {
    "duration": 5,
    "start_time": "2022-09-20T14:05:56.777Z"
   },
   {
    "duration": 31,
    "start_time": "2022-09-20T14:05:56.801Z"
   },
   {
    "duration": 16,
    "start_time": "2022-09-20T14:05:56.834Z"
   },
   {
    "duration": 41,
    "start_time": "2022-09-20T14:05:56.852Z"
   },
   {
    "duration": 45,
    "start_time": "2022-09-20T14:05:56.895Z"
   },
   {
    "duration": 24,
    "start_time": "2022-09-20T14:05:56.942Z"
   },
   {
    "duration": 31,
    "start_time": "2022-09-20T14:05:56.968Z"
   },
   {
    "duration": 18,
    "start_time": "2022-09-20T14:05:57.001Z"
   },
   {
    "duration": 26,
    "start_time": "2022-09-20T14:05:57.023Z"
   },
   {
    "duration": 39,
    "start_time": "2022-09-20T14:05:57.051Z"
   },
   {
    "duration": 17,
    "start_time": "2022-09-20T14:05:57.091Z"
   },
   {
    "duration": 16,
    "start_time": "2022-09-20T14:05:57.111Z"
   },
   {
    "duration": 21,
    "start_time": "2022-09-20T14:05:57.129Z"
   },
   {
    "duration": 272,
    "start_time": "2022-09-20T14:05:57.152Z"
   },
   {
    "duration": 2,
    "start_time": "2022-09-20T14:05:57.426Z"
   },
   {
    "duration": 402,
    "start_time": "2022-09-20T14:05:57.430Z"
   },
   {
    "duration": 403,
    "start_time": "2022-09-20T14:05:57.834Z"
   },
   {
    "duration": 17,
    "start_time": "2022-09-20T14:05:58.239Z"
   },
   {
    "duration": 152,
    "start_time": "2022-09-20T14:05:58.258Z"
   },
   {
    "duration": 129,
    "start_time": "2022-09-20T14:05:58.412Z"
   },
   {
    "duration": 10,
    "start_time": "2022-09-20T14:05:58.543Z"
   },
   {
    "duration": 9,
    "start_time": "2022-09-20T14:05:58.555Z"
   },
   {
    "duration": 131,
    "start_time": "2022-09-20T14:05:58.566Z"
   },
   {
    "duration": 4,
    "start_time": "2022-09-20T14:05:58.699Z"
   },
   {
    "duration": 28,
    "start_time": "2022-09-20T14:05:58.705Z"
   },
   {
    "duration": 1547,
    "start_time": "2022-09-20T14:06:13.781Z"
   },
   {
    "duration": 41,
    "start_time": "2022-09-20T14:06:15.330Z"
   },
   {
    "duration": 27,
    "start_time": "2022-09-20T14:06:15.373Z"
   },
   {
    "duration": 70,
    "start_time": "2022-09-20T14:06:15.404Z"
   },
   {
    "duration": 51,
    "start_time": "2022-09-20T14:06:15.476Z"
   },
   {
    "duration": 4,
    "start_time": "2022-09-20T14:06:15.528Z"
   },
   {
    "duration": 16,
    "start_time": "2022-09-20T14:06:15.533Z"
   },
   {
    "duration": 6,
    "start_time": "2022-09-20T14:06:15.551Z"
   },
   {
    "duration": 38,
    "start_time": "2022-09-20T14:06:15.559Z"
   },
   {
    "duration": 6,
    "start_time": "2022-09-20T14:06:15.600Z"
   },
   {
    "duration": 20,
    "start_time": "2022-09-20T14:06:15.609Z"
   },
   {
    "duration": 32,
    "start_time": "2022-09-20T14:06:15.631Z"
   },
   {
    "duration": 2,
    "start_time": "2022-09-20T14:06:15.666Z"
   },
   {
    "duration": 22,
    "start_time": "2022-09-20T14:06:15.670Z"
   },
   {
    "duration": 40,
    "start_time": "2022-09-20T14:06:15.694Z"
   },
   {
    "duration": 17,
    "start_time": "2022-09-20T14:06:15.736Z"
   },
   {
    "duration": 6,
    "start_time": "2022-09-20T14:06:15.754Z"
   },
   {
    "duration": 9,
    "start_time": "2022-09-20T14:06:15.761Z"
   },
   {
    "duration": 317,
    "start_time": "2022-09-20T14:06:15.799Z"
   },
   {
    "duration": 4,
    "start_time": "2022-09-20T14:06:16.118Z"
   },
   {
    "duration": 419,
    "start_time": "2022-09-20T14:06:16.124Z"
   },
   {
    "duration": 419,
    "start_time": "2022-09-20T14:06:16.545Z"
   },
   {
    "duration": 17,
    "start_time": "2022-09-20T14:06:16.966Z"
   },
   {
    "duration": 107,
    "start_time": "2022-09-20T14:06:16.994Z"
   },
   {
    "duration": 131,
    "start_time": "2022-09-20T14:06:17.104Z"
   },
   {
    "duration": 9,
    "start_time": "2022-09-20T14:06:17.237Z"
   },
   {
    "duration": 5,
    "start_time": "2022-09-20T14:06:17.248Z"
   },
   {
    "duration": 67,
    "start_time": "2022-09-20T14:06:17.257Z"
   },
   {
    "duration": 3,
    "start_time": "2022-09-20T14:06:17.326Z"
   },
   {
    "duration": 6,
    "start_time": "2022-09-20T14:06:17.331Z"
   },
   {
    "duration": 126,
    "start_time": "2022-09-20T14:06:17.339Z"
   },
   {
    "duration": 6,
    "start_time": "2022-09-20T14:06:17.467Z"
   },
   {
    "duration": 10,
    "start_time": "2022-09-20T14:06:17.475Z"
   },
   {
    "duration": 5590,
    "start_time": "2022-09-20T14:06:17.497Z"
   },
   {
    "duration": 96199,
    "start_time": "2022-09-20T14:06:23.096Z"
   },
   {
    "duration": 156,
    "start_time": "2022-09-20T14:07:59.297Z"
   },
   {
    "duration": 0,
    "start_time": "2022-09-20T14:07:59.454Z"
   },
   {
    "duration": 0,
    "start_time": "2022-09-20T14:07:59.456Z"
   },
   {
    "duration": 0,
    "start_time": "2022-09-20T14:07:59.457Z"
   },
   {
    "duration": 0,
    "start_time": "2022-09-20T14:07:59.458Z"
   },
   {
    "duration": 0,
    "start_time": "2022-09-20T14:07:59.459Z"
   },
   {
    "duration": 0,
    "start_time": "2022-09-20T14:07:59.460Z"
   },
   {
    "duration": 0,
    "start_time": "2022-09-20T14:07:59.460Z"
   },
   {
    "duration": 0,
    "start_time": "2022-09-20T14:07:59.461Z"
   },
   {
    "duration": 0,
    "start_time": "2022-09-20T14:07:59.462Z"
   },
   {
    "duration": 0,
    "start_time": "2022-09-20T14:07:59.463Z"
   },
   {
    "duration": 1,
    "start_time": "2022-09-20T14:07:59.464Z"
   },
   {
    "duration": 0,
    "start_time": "2022-09-20T14:07:59.465Z"
   },
   {
    "duration": 6,
    "start_time": "2022-09-20T14:10:47.579Z"
   },
   {
    "duration": 4,
    "start_time": "2022-09-20T14:11:03.448Z"
   },
   {
    "duration": 36,
    "start_time": "2022-09-20T14:13:11.009Z"
   },
   {
    "duration": 32,
    "start_time": "2022-09-20T14:15:00.220Z"
   },
   {
    "duration": 84,
    "start_time": "2022-09-20T14:15:55.171Z"
   },
   {
    "duration": 1634,
    "start_time": "2022-09-20T14:17:07.781Z"
   },
   {
    "duration": 43,
    "start_time": "2022-09-20T14:17:09.418Z"
   },
   {
    "duration": 25,
    "start_time": "2022-09-20T14:17:09.463Z"
   },
   {
    "duration": 63,
    "start_time": "2022-09-20T14:17:09.489Z"
   },
   {
    "duration": 23,
    "start_time": "2022-09-20T14:17:09.554Z"
   },
   {
    "duration": 16,
    "start_time": "2022-09-20T14:17:09.579Z"
   },
   {
    "duration": 17,
    "start_time": "2022-09-20T14:17:09.605Z"
   },
   {
    "duration": 24,
    "start_time": "2022-09-20T14:17:09.624Z"
   },
   {
    "duration": 14,
    "start_time": "2022-09-20T14:17:09.650Z"
   },
   {
    "duration": 4,
    "start_time": "2022-09-20T14:17:09.666Z"
   },
   {
    "duration": 7,
    "start_time": "2022-09-20T14:17:09.672Z"
   },
   {
    "duration": 33,
    "start_time": "2022-09-20T14:17:09.681Z"
   },
   {
    "duration": 3,
    "start_time": "2022-09-20T14:17:09.716Z"
   },
   {
    "duration": 19,
    "start_time": "2022-09-20T14:17:09.723Z"
   },
   {
    "duration": 25,
    "start_time": "2022-09-20T14:17:09.744Z"
   },
   {
    "duration": 35,
    "start_time": "2022-09-20T14:17:09.771Z"
   },
   {
    "duration": 5,
    "start_time": "2022-09-20T14:17:09.808Z"
   },
   {
    "duration": 10,
    "start_time": "2022-09-20T14:17:09.814Z"
   },
   {
    "duration": 289,
    "start_time": "2022-09-20T14:17:09.826Z"
   },
   {
    "duration": 3,
    "start_time": "2022-09-20T14:17:10.117Z"
   },
   {
    "duration": 420,
    "start_time": "2022-09-20T14:17:10.121Z"
   },
   {
    "duration": 399,
    "start_time": "2022-09-20T14:17:10.543Z"
   },
   {
    "duration": 14,
    "start_time": "2022-09-20T14:17:10.943Z"
   },
   {
    "duration": 70,
    "start_time": "2022-09-20T14:17:10.958Z"
   },
   {
    "duration": 135,
    "start_time": "2022-09-20T14:17:11.102Z"
   },
   {
    "duration": 10,
    "start_time": "2022-09-20T14:17:11.239Z"
   },
   {
    "duration": 6,
    "start_time": "2022-09-20T14:17:11.251Z"
   },
   {
    "duration": 6,
    "start_time": "2022-09-20T14:17:11.258Z"
   },
   {
    "duration": 144,
    "start_time": "2022-09-20T14:17:11.265Z"
   },
   {
    "duration": 8,
    "start_time": "2022-09-20T14:17:11.411Z"
   },
   {
    "duration": 34,
    "start_time": "2022-09-20T14:17:11.421Z"
   },
   {
    "duration": 4,
    "start_time": "2022-09-20T14:17:15.585Z"
   },
   {
    "duration": 4,
    "start_time": "2022-09-20T14:17:35.746Z"
   },
   {
    "duration": 1541,
    "start_time": "2022-09-20T14:17:44.752Z"
   },
   {
    "duration": 42,
    "start_time": "2022-09-20T14:17:46.296Z"
   },
   {
    "duration": 27,
    "start_time": "2022-09-20T14:17:46.340Z"
   },
   {
    "duration": 65,
    "start_time": "2022-09-20T14:17:46.369Z"
   },
   {
    "duration": 23,
    "start_time": "2022-09-20T14:17:46.438Z"
   },
   {
    "duration": 5,
    "start_time": "2022-09-20T14:17:46.463Z"
   },
   {
    "duration": 30,
    "start_time": "2022-09-20T14:17:46.470Z"
   },
   {
    "duration": 18,
    "start_time": "2022-09-20T14:17:46.502Z"
   },
   {
    "duration": 14,
    "start_time": "2022-09-20T14:17:46.522Z"
   },
   {
    "duration": 5,
    "start_time": "2022-09-20T14:17:46.537Z"
   },
   {
    "duration": 8,
    "start_time": "2022-09-20T14:17:46.544Z"
   },
   {
    "duration": 28,
    "start_time": "2022-09-20T14:17:46.553Z"
   },
   {
    "duration": 12,
    "start_time": "2022-09-20T14:17:46.604Z"
   },
   {
    "duration": 29,
    "start_time": "2022-09-20T14:17:46.622Z"
   },
   {
    "duration": 32,
    "start_time": "2022-09-20T14:17:46.653Z"
   },
   {
    "duration": 20,
    "start_time": "2022-09-20T14:17:46.687Z"
   },
   {
    "duration": 30,
    "start_time": "2022-09-20T14:17:46.709Z"
   },
   {
    "duration": 17,
    "start_time": "2022-09-20T14:17:46.742Z"
   },
   {
    "duration": 326,
    "start_time": "2022-09-20T14:17:46.762Z"
   },
   {
    "duration": 6,
    "start_time": "2022-09-20T14:17:47.090Z"
   },
   {
    "duration": 461,
    "start_time": "2022-09-20T14:17:47.098Z"
   },
   {
    "duration": 385,
    "start_time": "2022-09-20T14:17:47.560Z"
   },
   {
    "duration": 14,
    "start_time": "2022-09-20T14:17:47.947Z"
   },
   {
    "duration": 70,
    "start_time": "2022-09-20T14:17:47.962Z"
   },
   {
    "duration": 196,
    "start_time": "2022-09-20T14:17:48.033Z"
   },
   {
    "duration": 11,
    "start_time": "2022-09-20T14:17:48.231Z"
   },
   {
    "duration": 6,
    "start_time": "2022-09-20T14:17:48.244Z"
   },
   {
    "duration": 9,
    "start_time": "2022-09-20T14:17:48.252Z"
   },
   {
    "duration": 148,
    "start_time": "2022-09-20T14:17:48.263Z"
   },
   {
    "duration": 8,
    "start_time": "2022-09-20T14:17:48.413Z"
   },
   {
    "duration": 30,
    "start_time": "2022-09-20T14:17:48.422Z"
   },
   {
    "duration": 3,
    "start_time": "2022-09-20T14:17:48.454Z"
   },
   {
    "duration": 6,
    "start_time": "2022-09-20T14:17:48.459Z"
   },
   {
    "duration": 5710,
    "start_time": "2022-09-20T14:17:48.466Z"
   },
   {
    "duration": 93617,
    "start_time": "2022-09-20T14:17:54.178Z"
   },
   {
    "duration": 49,
    "start_time": "2022-09-20T14:19:27.797Z"
   },
   {
    "duration": 357,
    "start_time": "2022-09-20T14:19:27.898Z"
   },
   {
    "duration": 172,
    "start_time": "2022-09-20T14:19:28.257Z"
   },
   {
    "duration": 2,
    "start_time": "2022-09-20T14:19:28.431Z"
   },
   {
    "duration": 20,
    "start_time": "2022-09-20T14:19:28.435Z"
   },
   {
    "duration": 195,
    "start_time": "2022-09-20T14:19:28.459Z"
   },
   {
    "duration": 22,
    "start_time": "2022-09-20T14:19:28.656Z"
   },
   {
    "duration": 182,
    "start_time": "2022-09-20T14:19:28.695Z"
   },
   {
    "duration": 27,
    "start_time": "2022-09-20T14:19:28.879Z"
   },
   {
    "duration": 535,
    "start_time": "2022-09-20T14:19:28.909Z"
   },
   {
    "duration": 193,
    "start_time": "2022-09-20T14:19:29.446Z"
   },
   {
    "duration": 12,
    "start_time": "2022-09-20T14:19:29.641Z"
   },
   {
    "duration": 192,
    "start_time": "2022-09-20T14:19:29.655Z"
   },
   {
    "duration": 24,
    "start_time": "2022-09-20T14:22:27.037Z"
   },
   {
    "duration": 27,
    "start_time": "2022-09-20T14:25:36.535Z"
   },
   {
    "duration": 19,
    "start_time": "2022-09-20T14:25:39.117Z"
   },
   {
    "duration": 130,
    "start_time": "2022-09-20T14:26:01.188Z"
   },
   {
    "duration": 11,
    "start_time": "2022-09-20T14:26:09.395Z"
   },
   {
    "duration": 21,
    "start_time": "2022-09-20T14:26:28.866Z"
   },
   {
    "duration": 30,
    "start_time": "2022-09-20T14:27:40.036Z"
   },
   {
    "duration": 1526,
    "start_time": "2022-09-20T14:28:31.300Z"
   },
   {
    "duration": 44,
    "start_time": "2022-09-20T14:28:32.828Z"
   },
   {
    "duration": 28,
    "start_time": "2022-09-20T14:28:32.873Z"
   },
   {
    "duration": 75,
    "start_time": "2022-09-20T14:28:32.908Z"
   },
   {
    "duration": 32,
    "start_time": "2022-09-20T14:28:32.995Z"
   },
   {
    "duration": 3,
    "start_time": "2022-09-20T14:28:33.030Z"
   },
   {
    "duration": 15,
    "start_time": "2022-09-20T14:28:33.036Z"
   },
   {
    "duration": 7,
    "start_time": "2022-09-20T14:28:33.053Z"
   },
   {
    "duration": 47,
    "start_time": "2022-09-20T14:28:33.062Z"
   },
   {
    "duration": 5,
    "start_time": "2022-09-20T14:28:33.112Z"
   },
   {
    "duration": 9,
    "start_time": "2022-09-20T14:28:33.120Z"
   },
   {
    "duration": 15,
    "start_time": "2022-09-20T14:28:33.131Z"
   },
   {
    "duration": 2,
    "start_time": "2022-09-20T14:28:33.148Z"
   },
   {
    "duration": 51,
    "start_time": "2022-09-20T14:28:33.153Z"
   },
   {
    "duration": 45,
    "start_time": "2022-09-20T14:28:33.207Z"
   },
   {
    "duration": 14,
    "start_time": "2022-09-20T14:28:33.254Z"
   },
   {
    "duration": 4,
    "start_time": "2022-09-20T14:28:33.270Z"
   },
   {
    "duration": 14,
    "start_time": "2022-09-20T14:28:33.301Z"
   },
   {
    "duration": 282,
    "start_time": "2022-09-20T14:28:33.318Z"
   },
   {
    "duration": 18,
    "start_time": "2022-09-20T14:28:33.603Z"
   },
   {
    "duration": 414,
    "start_time": "2022-09-20T14:28:33.623Z"
   },
   {
    "duration": 383,
    "start_time": "2022-09-20T14:28:34.039Z"
   },
   {
    "duration": 18,
    "start_time": "2022-09-20T14:28:34.424Z"
   },
   {
    "duration": 151,
    "start_time": "2022-09-20T14:28:34.444Z"
   },
   {
    "duration": 142,
    "start_time": "2022-09-20T14:28:34.603Z"
   },
   {
    "duration": 13,
    "start_time": "2022-09-20T14:28:34.747Z"
   },
   {
    "duration": 7,
    "start_time": "2022-09-20T14:28:34.762Z"
   },
   {
    "duration": 26,
    "start_time": "2022-09-20T14:28:34.771Z"
   },
   {
    "duration": 122,
    "start_time": "2022-09-20T14:28:34.799Z"
   },
   {
    "duration": 5,
    "start_time": "2022-09-20T14:28:34.923Z"
   },
   {
    "duration": 26,
    "start_time": "2022-09-20T14:28:53.590Z"
   },
   {
    "duration": 41,
    "start_time": "2022-09-20T14:29:46.188Z"
   },
   {
    "duration": 20,
    "start_time": "2022-09-20T14:29:48.428Z"
   },
   {
    "duration": 20,
    "start_time": "2022-09-20T14:36:29.164Z"
   },
   {
    "duration": 20,
    "start_time": "2022-09-20T14:36:34.781Z"
   },
   {
    "duration": 1608,
    "start_time": "2022-09-20T14:37:31.730Z"
   },
   {
    "duration": 39,
    "start_time": "2022-09-20T14:37:33.340Z"
   },
   {
    "duration": 25,
    "start_time": "2022-09-20T14:37:33.381Z"
   },
   {
    "duration": 54,
    "start_time": "2022-09-20T14:37:33.407Z"
   },
   {
    "duration": 32,
    "start_time": "2022-09-20T14:37:33.464Z"
   },
   {
    "duration": 3,
    "start_time": "2022-09-20T14:37:33.497Z"
   },
   {
    "duration": 12,
    "start_time": "2022-09-20T14:37:33.502Z"
   },
   {
    "duration": 6,
    "start_time": "2022-09-20T14:37:33.516Z"
   },
   {
    "duration": 15,
    "start_time": "2022-09-20T14:37:33.523Z"
   },
   {
    "duration": 4,
    "start_time": "2022-09-20T14:37:33.540Z"
   },
   {
    "duration": 7,
    "start_time": "2022-09-20T14:37:33.546Z"
   },
   {
    "duration": 43,
    "start_time": "2022-09-20T14:37:33.554Z"
   },
   {
    "duration": 2,
    "start_time": "2022-09-20T14:37:33.599Z"
   },
   {
    "duration": 20,
    "start_time": "2022-09-20T14:37:33.605Z"
   },
   {
    "duration": 24,
    "start_time": "2022-09-20T14:37:33.626Z"
   },
   {
    "duration": 11,
    "start_time": "2022-09-20T14:37:33.652Z"
   },
   {
    "duration": 5,
    "start_time": "2022-09-20T14:37:33.664Z"
   },
   {
    "duration": 28,
    "start_time": "2022-09-20T14:37:33.671Z"
   },
   {
    "duration": 252,
    "start_time": "2022-09-20T14:37:33.701Z"
   },
   {
    "duration": 2,
    "start_time": "2022-09-20T14:37:33.955Z"
   },
   {
    "duration": 353,
    "start_time": "2022-09-20T14:37:33.959Z"
   },
   {
    "duration": 369,
    "start_time": "2022-09-20T14:37:34.314Z"
   },
   {
    "duration": 15,
    "start_time": "2022-09-20T14:37:34.685Z"
   },
   {
    "duration": 193,
    "start_time": "2022-09-20T14:37:34.701Z"
   },
   {
    "duration": 44,
    "start_time": "2022-09-20T14:37:34.896Z"
   },
   {
    "duration": 57,
    "start_time": "2022-09-20T14:37:34.942Z"
   },
   {
    "duration": 5,
    "start_time": "2022-09-20T14:37:35.001Z"
   },
   {
    "duration": 8,
    "start_time": "2022-09-20T14:37:35.007Z"
   },
   {
    "duration": 117,
    "start_time": "2022-09-20T14:37:35.017Z"
   },
   {
    "duration": 6,
    "start_time": "2022-09-20T14:37:35.136Z"
   },
   {
    "duration": 28,
    "start_time": "2022-09-20T14:37:35.144Z"
   },
   {
    "duration": 25,
    "start_time": "2022-09-20T14:37:37.892Z"
   },
   {
    "duration": 19,
    "start_time": "2022-09-20T14:37:47.860Z"
   },
   {
    "duration": 30,
    "start_time": "2022-09-20T14:39:07.855Z"
   },
   {
    "duration": 22,
    "start_time": "2022-09-20T14:39:09.151Z"
   },
   {
    "duration": 1521,
    "start_time": "2022-09-20T14:39:31.594Z"
   },
   {
    "duration": 40,
    "start_time": "2022-09-20T14:39:33.117Z"
   },
   {
    "duration": 35,
    "start_time": "2022-09-20T14:39:33.159Z"
   },
   {
    "duration": 56,
    "start_time": "2022-09-20T14:39:33.196Z"
   },
   {
    "duration": 43,
    "start_time": "2022-09-20T14:39:33.254Z"
   },
   {
    "duration": 4,
    "start_time": "2022-09-20T14:39:33.298Z"
   },
   {
    "duration": 25,
    "start_time": "2022-09-20T14:39:33.305Z"
   },
   {
    "duration": 9,
    "start_time": "2022-09-20T14:39:33.332Z"
   },
   {
    "duration": 15,
    "start_time": "2022-09-20T14:39:33.344Z"
   },
   {
    "duration": 5,
    "start_time": "2022-09-20T14:39:33.361Z"
   },
   {
    "duration": 35,
    "start_time": "2022-09-20T14:39:33.368Z"
   },
   {
    "duration": 23,
    "start_time": "2022-09-20T14:39:33.405Z"
   },
   {
    "duration": 2,
    "start_time": "2022-09-20T14:39:33.430Z"
   },
   {
    "duration": 14,
    "start_time": "2022-09-20T14:39:33.435Z"
   },
   {
    "duration": 24,
    "start_time": "2022-09-20T14:39:33.450Z"
   },
   {
    "duration": 28,
    "start_time": "2022-09-20T14:39:33.475Z"
   },
   {
    "duration": 5,
    "start_time": "2022-09-20T14:39:33.506Z"
   },
   {
    "duration": 6,
    "start_time": "2022-09-20T14:39:33.513Z"
   },
   {
    "duration": 260,
    "start_time": "2022-09-20T14:39:33.521Z"
   },
   {
    "duration": 3,
    "start_time": "2022-09-20T14:39:33.783Z"
   },
   {
    "duration": 370,
    "start_time": "2022-09-20T14:39:33.795Z"
   },
   {
    "duration": 362,
    "start_time": "2022-09-20T14:39:34.167Z"
   },
   {
    "duration": 13,
    "start_time": "2022-09-20T14:39:34.531Z"
   },
   {
    "duration": 65,
    "start_time": "2022-09-20T14:39:34.546Z"
   },
   {
    "duration": 213,
    "start_time": "2022-09-20T14:39:34.613Z"
   },
   {
    "duration": 10,
    "start_time": "2022-09-20T14:39:34.828Z"
   },
   {
    "duration": 12,
    "start_time": "2022-09-20T14:39:34.841Z"
   },
   {
    "duration": 9,
    "start_time": "2022-09-20T14:39:34.855Z"
   },
   {
    "duration": 112,
    "start_time": "2022-09-20T14:39:34.866Z"
   },
   {
    "duration": 16,
    "start_time": "2022-09-20T14:39:34.980Z"
   },
   {
    "duration": 30,
    "start_time": "2022-09-20T14:39:34.998Z"
   },
   {
    "duration": 20,
    "start_time": "2022-09-20T14:39:36.989Z"
   },
   {
    "duration": 1690,
    "start_time": "2022-09-20T14:40:22.795Z"
   },
   {
    "duration": 40,
    "start_time": "2022-09-20T14:40:24.487Z"
   },
   {
    "duration": 36,
    "start_time": "2022-09-20T14:40:24.529Z"
   },
   {
    "duration": 54,
    "start_time": "2022-09-20T14:40:24.567Z"
   },
   {
    "duration": 24,
    "start_time": "2022-09-20T14:40:24.623Z"
   },
   {
    "duration": 3,
    "start_time": "2022-09-20T14:40:24.649Z"
   },
   {
    "duration": 15,
    "start_time": "2022-09-20T14:40:24.654Z"
   },
   {
    "duration": 7,
    "start_time": "2022-09-20T14:40:24.696Z"
   },
   {
    "duration": 14,
    "start_time": "2022-09-20T14:40:24.705Z"
   },
   {
    "duration": 5,
    "start_time": "2022-09-20T14:40:24.721Z"
   },
   {
    "duration": 8,
    "start_time": "2022-09-20T14:40:24.729Z"
   },
   {
    "duration": 15,
    "start_time": "2022-09-20T14:40:24.739Z"
   },
   {
    "duration": 2,
    "start_time": "2022-09-20T14:40:24.756Z"
   },
   {
    "duration": 18,
    "start_time": "2022-09-20T14:40:24.794Z"
   },
   {
    "duration": 29,
    "start_time": "2022-09-20T14:40:24.814Z"
   },
   {
    "duration": 13,
    "start_time": "2022-09-20T14:40:24.844Z"
   },
   {
    "duration": 3,
    "start_time": "2022-09-20T14:40:24.859Z"
   },
   {
    "duration": 31,
    "start_time": "2022-09-20T14:40:24.864Z"
   },
   {
    "duration": 250,
    "start_time": "2022-09-20T14:40:24.897Z"
   },
   {
    "duration": 3,
    "start_time": "2022-09-20T14:40:25.148Z"
   },
   {
    "duration": 368,
    "start_time": "2022-09-20T14:40:25.152Z"
   },
   {
    "duration": 363,
    "start_time": "2022-09-20T14:40:25.522Z"
   },
   {
    "duration": 16,
    "start_time": "2022-09-20T14:40:25.887Z"
   },
   {
    "duration": 90,
    "start_time": "2022-09-20T14:40:25.905Z"
   },
   {
    "duration": 133,
    "start_time": "2022-09-20T14:40:25.997Z"
   },
   {
    "duration": 9,
    "start_time": "2022-09-20T14:40:26.132Z"
   },
   {
    "duration": 5,
    "start_time": "2022-09-20T14:40:26.142Z"
   },
   {
    "duration": 7,
    "start_time": "2022-09-20T14:40:26.148Z"
   },
   {
    "duration": 117,
    "start_time": "2022-09-20T14:40:26.156Z"
   },
   {
    "duration": 5,
    "start_time": "2022-09-20T14:40:26.275Z"
   },
   {
    "duration": 6,
    "start_time": "2022-09-20T14:40:26.282Z"
   },
   {
    "duration": 33,
    "start_time": "2022-09-20T14:40:26.295Z"
   },
   {
    "duration": 27,
    "start_time": "2022-09-20T14:40:28.314Z"
   },
   {
    "duration": 28,
    "start_time": "2022-09-20T14:45:03.054Z"
   },
   {
    "duration": 1438,
    "start_time": "2022-09-20T14:45:12.237Z"
   },
   {
    "duration": 41,
    "start_time": "2022-09-20T14:45:13.677Z"
   },
   {
    "duration": 25,
    "start_time": "2022-09-20T14:45:13.720Z"
   },
   {
    "duration": 56,
    "start_time": "2022-09-20T14:45:13.747Z"
   },
   {
    "duration": 26,
    "start_time": "2022-09-20T14:45:13.806Z"
   },
   {
    "duration": 4,
    "start_time": "2022-09-20T14:45:13.834Z"
   },
   {
    "duration": 16,
    "start_time": "2022-09-20T14:45:13.840Z"
   },
   {
    "duration": 39,
    "start_time": "2022-09-20T14:45:13.858Z"
   },
   {
    "duration": 11,
    "start_time": "2022-09-20T14:45:13.898Z"
   },
   {
    "duration": 5,
    "start_time": "2022-09-20T14:45:13.910Z"
   },
   {
    "duration": 7,
    "start_time": "2022-09-20T14:45:13.917Z"
   },
   {
    "duration": 20,
    "start_time": "2022-09-20T14:45:13.926Z"
   },
   {
    "duration": 3,
    "start_time": "2022-09-20T14:45:13.948Z"
   },
   {
    "duration": 43,
    "start_time": "2022-09-20T14:45:13.954Z"
   },
   {
    "duration": 28,
    "start_time": "2022-09-20T14:45:13.999Z"
   },
   {
    "duration": 15,
    "start_time": "2022-09-20T14:45:14.029Z"
   },
   {
    "duration": 5,
    "start_time": "2022-09-20T14:45:14.046Z"
   },
   {
    "duration": 7,
    "start_time": "2022-09-20T14:45:14.053Z"
   },
   {
    "duration": 293,
    "start_time": "2022-09-20T14:45:14.062Z"
   },
   {
    "duration": 2,
    "start_time": "2022-09-20T14:45:14.357Z"
   },
   {
    "duration": 373,
    "start_time": "2022-09-20T14:45:14.361Z"
   },
   {
    "duration": 375,
    "start_time": "2022-09-20T14:45:14.736Z"
   },
   {
    "duration": 14,
    "start_time": "2022-09-20T14:45:15.112Z"
   },
   {
    "duration": 170,
    "start_time": "2022-09-20T14:45:15.128Z"
   },
   {
    "duration": 47,
    "start_time": "2022-09-20T14:45:15.299Z"
   },
   {
    "duration": 10,
    "start_time": "2022-09-20T14:45:15.347Z"
   },
   {
    "duration": 6,
    "start_time": "2022-09-20T14:45:15.359Z"
   },
   {
    "duration": 5,
    "start_time": "2022-09-20T14:45:15.396Z"
   },
   {
    "duration": 116,
    "start_time": "2022-09-20T14:45:15.402Z"
   },
   {
    "duration": 5,
    "start_time": "2022-09-20T14:45:15.520Z"
   },
   {
    "duration": 35,
    "start_time": "2022-09-20T14:45:15.527Z"
   },
   {
    "duration": 21,
    "start_time": "2022-09-20T14:45:18.796Z"
   },
   {
    "duration": 21,
    "start_time": "2022-09-20T14:45:29.081Z"
   },
   {
    "duration": 1484,
    "start_time": "2022-09-20T14:45:38.315Z"
   },
   {
    "duration": 43,
    "start_time": "2022-09-20T14:45:39.801Z"
   },
   {
    "duration": 27,
    "start_time": "2022-09-20T14:45:39.846Z"
   },
   {
    "duration": 54,
    "start_time": "2022-09-20T14:45:39.876Z"
   },
   {
    "duration": 22,
    "start_time": "2022-09-20T14:45:39.933Z"
   },
   {
    "duration": 3,
    "start_time": "2022-09-20T14:45:39.957Z"
   },
   {
    "duration": 17,
    "start_time": "2022-09-20T14:45:39.961Z"
   },
   {
    "duration": 7,
    "start_time": "2022-09-20T14:45:39.996Z"
   },
   {
    "duration": 24,
    "start_time": "2022-09-20T14:45:40.005Z"
   },
   {
    "duration": 6,
    "start_time": "2022-09-20T14:45:40.032Z"
   },
   {
    "duration": 12,
    "start_time": "2022-09-20T14:45:40.040Z"
   },
   {
    "duration": 21,
    "start_time": "2022-09-20T14:45:40.054Z"
   },
   {
    "duration": 18,
    "start_time": "2022-09-20T14:45:40.077Z"
   },
   {
    "duration": 20,
    "start_time": "2022-09-20T14:45:40.100Z"
   },
   {
    "duration": 26,
    "start_time": "2022-09-20T14:45:40.122Z"
   },
   {
    "duration": 15,
    "start_time": "2022-09-20T14:45:40.149Z"
   },
   {
    "duration": 32,
    "start_time": "2022-09-20T14:45:40.166Z"
   },
   {
    "duration": 7,
    "start_time": "2022-09-20T14:45:40.200Z"
   },
   {
    "duration": 266,
    "start_time": "2022-09-20T14:45:40.208Z"
   },
   {
    "duration": 3,
    "start_time": "2022-09-20T14:45:40.476Z"
   },
   {
    "duration": 383,
    "start_time": "2022-09-20T14:45:40.480Z"
   },
   {
    "duration": 357,
    "start_time": "2022-09-20T14:45:40.865Z"
   },
   {
    "duration": 17,
    "start_time": "2022-09-20T14:45:41.224Z"
   },
   {
    "duration": 52,
    "start_time": "2022-09-20T14:45:41.244Z"
   },
   {
    "duration": 210,
    "start_time": "2022-09-20T14:45:41.300Z"
   },
   {
    "duration": 12,
    "start_time": "2022-09-20T14:45:41.512Z"
   },
   {
    "duration": 7,
    "start_time": "2022-09-20T14:45:41.526Z"
   },
   {
    "duration": 5,
    "start_time": "2022-09-20T14:45:41.535Z"
   },
   {
    "duration": 137,
    "start_time": "2022-09-20T14:45:41.542Z"
   },
   {
    "duration": 6,
    "start_time": "2022-09-20T14:45:41.681Z"
   },
   {
    "duration": 32,
    "start_time": "2022-09-20T14:45:41.696Z"
   },
   {
    "duration": 4,
    "start_time": "2022-09-20T14:45:41.731Z"
   },
   {
    "duration": 13,
    "start_time": "2022-09-20T14:45:41.737Z"
   },
   {
    "duration": 5097,
    "start_time": "2022-09-20T14:45:41.753Z"
   },
   {
    "duration": 86670,
    "start_time": "2022-09-20T14:45:46.852Z"
   },
   {
    "duration": 72,
    "start_time": "2022-09-20T14:47:13.524Z"
   },
   {
    "duration": 375,
    "start_time": "2022-09-20T14:47:13.598Z"
   },
   {
    "duration": 182,
    "start_time": "2022-09-20T14:47:13.975Z"
   },
   {
    "duration": 3,
    "start_time": "2022-09-20T14:47:14.159Z"
   },
   {
    "duration": 31,
    "start_time": "2022-09-20T14:47:14.164Z"
   },
   {
    "duration": 182,
    "start_time": "2022-09-20T14:47:14.199Z"
   },
   {
    "duration": 34,
    "start_time": "2022-09-20T14:47:14.383Z"
   },
   {
    "duration": 228,
    "start_time": "2022-09-20T14:47:14.419Z"
   },
   {
    "duration": 53,
    "start_time": "2022-09-20T14:47:14.650Z"
   },
   {
    "duration": 453,
    "start_time": "2022-09-20T14:47:14.705Z"
   },
   {
    "duration": 236,
    "start_time": "2022-09-20T14:47:15.160Z"
   },
   {
    "duration": 13,
    "start_time": "2022-09-20T14:47:15.398Z"
   },
   {
    "duration": 192,
    "start_time": "2022-09-20T14:47:15.413Z"
   },
   {
    "duration": 438,
    "start_time": "2022-09-20T14:49:01.806Z"
   },
   {
    "duration": 422,
    "start_time": "2022-09-20T14:49:48.910Z"
   },
   {
    "duration": 162,
    "start_time": "2022-09-20T14:50:44.736Z"
   },
   {
    "duration": 161,
    "start_time": "2022-09-20T14:50:51.034Z"
   },
   {
    "duration": 8,
    "start_time": "2022-09-20T15:08:18.066Z"
   },
   {
    "duration": 6,
    "start_time": "2022-09-20T15:08:28.585Z"
   },
   {
    "duration": 1632,
    "start_time": "2022-09-20T15:09:16.498Z"
   },
   {
    "duration": 42,
    "start_time": "2022-09-20T15:09:18.133Z"
   },
   {
    "duration": 26,
    "start_time": "2022-09-20T15:09:18.177Z"
   },
   {
    "duration": 54,
    "start_time": "2022-09-20T15:09:18.205Z"
   },
   {
    "duration": 45,
    "start_time": "2022-09-20T15:09:18.261Z"
   },
   {
    "duration": 3,
    "start_time": "2022-09-20T15:09:18.308Z"
   },
   {
    "duration": 17,
    "start_time": "2022-09-20T15:09:18.313Z"
   },
   {
    "duration": 8,
    "start_time": "2022-09-20T15:09:18.332Z"
   },
   {
    "duration": 12,
    "start_time": "2022-09-20T15:09:18.342Z"
   },
   {
    "duration": 5,
    "start_time": "2022-09-20T15:09:18.359Z"
   },
   {
    "duration": 32,
    "start_time": "2022-09-20T15:09:18.365Z"
   },
   {
    "duration": 12,
    "start_time": "2022-09-20T15:09:18.398Z"
   },
   {
    "duration": 3,
    "start_time": "2022-09-20T15:09:18.411Z"
   },
   {
    "duration": 17,
    "start_time": "2022-09-20T15:09:18.416Z"
   },
   {
    "duration": 27,
    "start_time": "2022-09-20T15:09:18.435Z"
   },
   {
    "duration": 14,
    "start_time": "2022-09-20T15:09:18.494Z"
   },
   {
    "duration": 5,
    "start_time": "2022-09-20T15:09:18.510Z"
   },
   {
    "duration": 6,
    "start_time": "2022-09-20T15:09:18.517Z"
   },
   {
    "duration": 301,
    "start_time": "2022-09-20T15:09:18.524Z"
   },
   {
    "duration": 2,
    "start_time": "2022-09-20T15:09:18.827Z"
   },
   {
    "duration": 393,
    "start_time": "2022-09-20T15:09:18.831Z"
   },
   {
    "duration": 392,
    "start_time": "2022-09-20T15:09:19.225Z"
   },
   {
    "duration": 14,
    "start_time": "2022-09-20T15:09:19.619Z"
   },
   {
    "duration": 63,
    "start_time": "2022-09-20T15:09:19.635Z"
   },
   {
    "duration": 137,
    "start_time": "2022-09-20T15:09:19.699Z"
   },
   {
    "duration": 9,
    "start_time": "2022-09-20T15:09:19.838Z"
   },
   {
    "duration": 7,
    "start_time": "2022-09-20T15:09:19.849Z"
   },
   {
    "duration": 6,
    "start_time": "2022-09-20T15:09:19.859Z"
   },
   {
    "duration": 52,
    "start_time": "2022-09-20T15:09:19.867Z"
   },
   {
    "duration": 7,
    "start_time": "2022-09-20T15:09:19.921Z"
   },
   {
    "duration": 134,
    "start_time": "2022-09-20T15:09:19.930Z"
   },
   {
    "duration": 4,
    "start_time": "2022-09-20T15:09:20.066Z"
   },
   {
    "duration": 7,
    "start_time": "2022-09-20T15:09:20.072Z"
   },
   {
    "duration": 5102,
    "start_time": "2022-09-20T15:09:20.096Z"
   },
   {
    "duration": 114264,
    "start_time": "2022-09-20T15:09:25.200Z"
   },
   {
    "duration": 42,
    "start_time": "2022-09-20T15:11:19.466Z"
   },
   {
    "duration": 512,
    "start_time": "2022-09-20T15:11:19.510Z"
   },
   {
    "duration": 180,
    "start_time": "2022-09-20T15:11:20.025Z"
   },
   {
    "duration": 3,
    "start_time": "2022-09-20T15:11:20.206Z"
   },
   {
    "duration": 21,
    "start_time": "2022-09-20T15:11:20.211Z"
   },
   {
    "duration": 188,
    "start_time": "2022-09-20T15:11:20.234Z"
   },
   {
    "duration": 29,
    "start_time": "2022-09-20T15:11:20.425Z"
   },
   {
    "duration": 206,
    "start_time": "2022-09-20T15:11:20.456Z"
   },
   {
    "duration": 34,
    "start_time": "2022-09-20T15:11:20.664Z"
   },
   {
    "duration": 535,
    "start_time": "2022-09-20T15:11:20.702Z"
   },
   {
    "duration": 179,
    "start_time": "2022-09-20T15:11:21.239Z"
   },
   {
    "duration": 12,
    "start_time": "2022-09-20T15:11:21.420Z"
   },
   {
    "duration": 185,
    "start_time": "2022-09-20T15:11:21.434Z"
   },
   {
    "duration": 1474,
    "start_time": "2022-09-20T15:12:40.049Z"
   },
   {
    "duration": 44,
    "start_time": "2022-09-20T15:12:41.525Z"
   },
   {
    "duration": 29,
    "start_time": "2022-09-20T15:12:41.571Z"
   },
   {
    "duration": 67,
    "start_time": "2022-09-20T15:12:41.602Z"
   },
   {
    "duration": 42,
    "start_time": "2022-09-20T15:12:41.672Z"
   },
   {
    "duration": 4,
    "start_time": "2022-09-20T15:12:41.716Z"
   },
   {
    "duration": 20,
    "start_time": "2022-09-20T15:12:41.721Z"
   },
   {
    "duration": 7,
    "start_time": "2022-09-20T15:12:41.743Z"
   },
   {
    "duration": 12,
    "start_time": "2022-09-20T15:12:41.752Z"
   },
   {
    "duration": 30,
    "start_time": "2022-09-20T15:12:41.766Z"
   },
   {
    "duration": 5,
    "start_time": "2022-09-20T15:12:41.798Z"
   },
   {
    "duration": 16,
    "start_time": "2022-09-20T15:12:41.805Z"
   },
   {
    "duration": 3,
    "start_time": "2022-09-20T15:12:41.822Z"
   },
   {
    "duration": 14,
    "start_time": "2022-09-20T15:12:41.828Z"
   },
   {
    "duration": 26,
    "start_time": "2022-09-20T15:12:41.843Z"
   },
   {
    "duration": 13,
    "start_time": "2022-09-20T15:12:41.894Z"
   },
   {
    "duration": 4,
    "start_time": "2022-09-20T15:12:41.908Z"
   },
   {
    "duration": 8,
    "start_time": "2022-09-20T15:12:41.913Z"
   },
   {
    "duration": 263,
    "start_time": "2022-09-20T15:12:41.922Z"
   },
   {
    "duration": 2,
    "start_time": "2022-09-20T15:12:42.187Z"
   },
   {
    "duration": 357,
    "start_time": "2022-09-20T15:12:42.195Z"
   },
   {
    "duration": 374,
    "start_time": "2022-09-20T15:12:42.554Z"
   },
   {
    "duration": 13,
    "start_time": "2022-09-20T15:12:42.930Z"
   },
   {
    "duration": 52,
    "start_time": "2022-09-20T15:12:42.945Z"
   },
   {
    "duration": 220,
    "start_time": "2022-09-20T15:12:42.999Z"
   },
   {
    "duration": 9,
    "start_time": "2022-09-20T15:12:43.220Z"
   },
   {
    "duration": 10,
    "start_time": "2022-09-20T15:12:43.230Z"
   },
   {
    "duration": 23,
    "start_time": "2022-09-20T15:12:43.242Z"
   },
   {
    "duration": 108,
    "start_time": "2022-09-20T15:12:43.267Z"
   },
   {
    "duration": 6,
    "start_time": "2022-09-20T15:12:43.377Z"
   },
   {
    "duration": 56,
    "start_time": "2022-09-20T15:12:43.396Z"
   },
   {
    "duration": 21,
    "start_time": "2022-09-20T15:12:43.453Z"
   },
   {
    "duration": 7,
    "start_time": "2022-09-20T15:12:43.475Z"
   },
   {
    "duration": 4851,
    "start_time": "2022-09-20T15:12:43.483Z"
   },
   {
    "duration": 203952,
    "start_time": "2022-09-20T15:12:48.336Z"
   },
   {
    "duration": 108,
    "start_time": "2022-09-20T15:16:12.289Z"
   },
   {
    "duration": 523,
    "start_time": "2022-09-20T15:16:12.400Z"
   },
   {
    "duration": 162,
    "start_time": "2022-09-20T15:16:12.925Z"
   },
   {
    "duration": 3,
    "start_time": "2022-09-20T15:16:13.095Z"
   },
   {
    "duration": 20,
    "start_time": "2022-09-20T15:16:13.099Z"
   },
   {
    "duration": 186,
    "start_time": "2022-09-20T15:16:13.122Z"
   },
   {
    "duration": 38,
    "start_time": "2022-09-20T15:16:13.310Z"
   },
   {
    "duration": 209,
    "start_time": "2022-09-20T15:16:13.349Z"
   },
   {
    "duration": 40,
    "start_time": "2022-09-20T15:16:13.560Z"
   },
   {
    "duration": 536,
    "start_time": "2022-09-20T15:16:13.602Z"
   },
   {
    "duration": 185,
    "start_time": "2022-09-20T15:16:14.140Z"
   },
   {
    "duration": 11,
    "start_time": "2022-09-20T15:16:14.327Z"
   },
   {
    "duration": 188,
    "start_time": "2022-09-20T15:16:14.340Z"
   },
   {
    "duration": 2380,
    "start_time": "2022-09-20T15:19:01.004Z"
   },
   {
    "duration": 40,
    "start_time": "2022-09-20T15:19:03.386Z"
   },
   {
    "duration": 29,
    "start_time": "2022-09-20T15:19:03.427Z"
   },
   {
    "duration": 50,
    "start_time": "2022-09-20T15:19:03.458Z"
   },
   {
    "duration": 21,
    "start_time": "2022-09-20T15:19:03.510Z"
   },
   {
    "duration": 4,
    "start_time": "2022-09-20T15:19:03.532Z"
   },
   {
    "duration": 19,
    "start_time": "2022-09-20T15:19:03.537Z"
   },
   {
    "duration": 8,
    "start_time": "2022-09-20T15:19:03.558Z"
   },
   {
    "duration": 39,
    "start_time": "2022-09-20T15:19:03.568Z"
   },
   {
    "duration": 6,
    "start_time": "2022-09-20T15:19:03.609Z"
   },
   {
    "duration": 16,
    "start_time": "2022-09-20T15:19:03.617Z"
   },
   {
    "duration": 20,
    "start_time": "2022-09-20T15:19:03.635Z"
   },
   {
    "duration": 3,
    "start_time": "2022-09-20T15:19:03.657Z"
   },
   {
    "duration": 33,
    "start_time": "2022-09-20T15:19:03.663Z"
   },
   {
    "duration": 32,
    "start_time": "2022-09-20T15:19:03.697Z"
   },
   {
    "duration": 19,
    "start_time": "2022-09-20T15:19:03.731Z"
   },
   {
    "duration": 4,
    "start_time": "2022-09-20T15:19:03.753Z"
   },
   {
    "duration": 9,
    "start_time": "2022-09-20T15:19:03.759Z"
   },
   {
    "duration": 278,
    "start_time": "2022-09-20T15:19:03.770Z"
   },
   {
    "duration": 3,
    "start_time": "2022-09-20T15:19:04.049Z"
   },
   {
    "duration": 369,
    "start_time": "2022-09-20T15:19:04.053Z"
   },
   {
    "duration": 362,
    "start_time": "2022-09-20T15:19:04.424Z"
   },
   {
    "duration": 13,
    "start_time": "2022-09-20T15:19:04.794Z"
   },
   {
    "duration": 92,
    "start_time": "2022-09-20T15:19:04.808Z"
   },
   {
    "duration": 129,
    "start_time": "2022-09-20T15:19:04.902Z"
   },
   {
    "duration": 9,
    "start_time": "2022-09-20T15:19:05.032Z"
   },
   {
    "duration": 5,
    "start_time": "2022-09-20T15:19:05.043Z"
   },
   {
    "duration": 10,
    "start_time": "2022-09-20T15:19:05.050Z"
   },
   {
    "duration": 135,
    "start_time": "2022-09-20T15:19:05.062Z"
   },
   {
    "duration": 5,
    "start_time": "2022-09-20T15:19:05.199Z"
   },
   {
    "duration": 35,
    "start_time": "2022-09-20T15:19:05.206Z"
   },
   {
    "duration": 4,
    "start_time": "2022-09-20T15:19:05.243Z"
   },
   {
    "duration": 11,
    "start_time": "2022-09-20T15:19:05.249Z"
   },
   {
    "duration": 5334,
    "start_time": "2022-09-20T15:19:05.261Z"
   },
   {
    "duration": 218646,
    "start_time": "2022-09-20T15:19:10.597Z"
   },
   {
    "duration": 52,
    "start_time": "2022-09-20T15:22:49.245Z"
   },
   {
    "duration": 511,
    "start_time": "2022-09-20T15:22:49.299Z"
   },
   {
    "duration": 160,
    "start_time": "2022-09-20T15:22:49.812Z"
   },
   {
    "duration": 3,
    "start_time": "2022-09-20T15:22:49.974Z"
   },
   {
    "duration": 31,
    "start_time": "2022-09-20T15:22:49.979Z"
   },
   {
    "duration": 170,
    "start_time": "2022-09-20T15:22:50.015Z"
   },
   {
    "duration": 44,
    "start_time": "2022-09-20T15:22:50.186Z"
   },
   {
    "duration": 199,
    "start_time": "2022-09-20T15:22:50.231Z"
   },
   {
    "duration": 65,
    "start_time": "2022-09-20T15:22:50.431Z"
   },
   {
    "duration": 529,
    "start_time": "2022-09-20T15:22:50.498Z"
   },
   {
    "duration": 166,
    "start_time": "2022-09-20T15:22:51.029Z"
   },
   {
    "duration": 10,
    "start_time": "2022-09-20T15:22:51.197Z"
   },
   {
    "duration": 167,
    "start_time": "2022-09-20T15:22:51.208Z"
   },
   {
    "duration": 1506,
    "start_time": "2022-09-20T15:33:01.489Z"
   },
   {
    "duration": 42,
    "start_time": "2022-09-20T15:33:02.997Z"
   },
   {
    "duration": 25,
    "start_time": "2022-09-20T15:33:03.041Z"
   },
   {
    "duration": 60,
    "start_time": "2022-09-20T15:33:03.069Z"
   },
   {
    "duration": 23,
    "start_time": "2022-09-20T15:33:03.133Z"
   },
   {
    "duration": 4,
    "start_time": "2022-09-20T15:33:03.158Z"
   },
   {
    "duration": 33,
    "start_time": "2022-09-20T15:33:03.164Z"
   },
   {
    "duration": 7,
    "start_time": "2022-09-20T15:33:03.199Z"
   },
   {
    "duration": 14,
    "start_time": "2022-09-20T15:33:03.207Z"
   },
   {
    "duration": 4,
    "start_time": "2022-09-20T15:33:03.223Z"
   },
   {
    "duration": 9,
    "start_time": "2022-09-20T15:33:03.229Z"
   },
   {
    "duration": 15,
    "start_time": "2022-09-20T15:33:03.240Z"
   },
   {
    "duration": 5,
    "start_time": "2022-09-20T15:33:03.257Z"
   },
   {
    "duration": 40,
    "start_time": "2022-09-20T15:33:03.265Z"
   },
   {
    "duration": 26,
    "start_time": "2022-09-20T15:33:03.307Z"
   },
   {
    "duration": 13,
    "start_time": "2022-09-20T15:33:03.335Z"
   },
   {
    "duration": 5,
    "start_time": "2022-09-20T15:33:03.349Z"
   },
   {
    "duration": 11,
    "start_time": "2022-09-20T15:33:03.355Z"
   },
   {
    "duration": 285,
    "start_time": "2022-09-20T15:33:03.368Z"
   },
   {
    "duration": 2,
    "start_time": "2022-09-20T15:33:03.655Z"
   },
   {
    "duration": 362,
    "start_time": "2022-09-20T15:33:03.659Z"
   },
   {
    "duration": 373,
    "start_time": "2022-09-20T15:33:04.022Z"
   },
   {
    "duration": 12,
    "start_time": "2022-09-20T15:33:04.396Z"
   },
   {
    "duration": 85,
    "start_time": "2022-09-20T15:33:04.410Z"
   },
   {
    "duration": 135,
    "start_time": "2022-09-20T15:33:04.499Z"
   },
   {
    "duration": 9,
    "start_time": "2022-09-20T15:33:04.637Z"
   },
   {
    "duration": 7,
    "start_time": "2022-09-20T15:33:04.648Z"
   },
   {
    "duration": 6,
    "start_time": "2022-09-20T15:33:04.657Z"
   },
   {
    "duration": 123,
    "start_time": "2022-09-20T15:33:04.664Z"
   },
   {
    "duration": 7,
    "start_time": "2022-09-20T15:33:04.789Z"
   },
   {
    "duration": 31,
    "start_time": "2022-09-20T15:33:04.797Z"
   },
   {
    "duration": 4,
    "start_time": "2022-09-20T15:33:04.829Z"
   },
   {
    "duration": 5,
    "start_time": "2022-09-20T15:33:04.835Z"
   },
   {
    "duration": 4989,
    "start_time": "2022-09-20T15:33:04.842Z"
   },
   {
    "duration": 213036,
    "start_time": "2022-09-20T15:33:09.833Z"
   },
   {
    "duration": 59,
    "start_time": "2022-09-20T15:36:42.871Z"
   },
   {
    "duration": 538,
    "start_time": "2022-09-20T15:36:42.932Z"
   },
   {
    "duration": 190,
    "start_time": "2022-09-20T15:36:43.472Z"
   },
   {
    "duration": 3,
    "start_time": "2022-09-20T15:36:43.664Z"
   },
   {
    "duration": 31,
    "start_time": "2022-09-20T15:36:43.669Z"
   },
   {
    "duration": 181,
    "start_time": "2022-09-20T15:36:43.704Z"
   },
   {
    "duration": 45,
    "start_time": "2022-09-20T15:36:43.887Z"
   },
   {
    "duration": 202,
    "start_time": "2022-09-20T15:36:43.935Z"
   },
   {
    "duration": 58,
    "start_time": "2022-09-20T15:36:44.139Z"
   },
   {
    "duration": 535,
    "start_time": "2022-09-20T15:36:44.199Z"
   },
   {
    "duration": 191,
    "start_time": "2022-09-20T15:36:44.736Z"
   },
   {
    "duration": 12,
    "start_time": "2022-09-20T15:36:44.928Z"
   },
   {
    "duration": 190,
    "start_time": "2022-09-20T15:36:44.941Z"
   },
   {
    "duration": 1557,
    "start_time": "2022-09-20T15:40:58.336Z"
   },
   {
    "duration": 47,
    "start_time": "2022-09-20T15:40:59.895Z"
   },
   {
    "duration": 27,
    "start_time": "2022-09-20T15:40:59.944Z"
   },
   {
    "duration": 55,
    "start_time": "2022-09-20T15:40:59.973Z"
   },
   {
    "duration": 26,
    "start_time": "2022-09-20T15:41:00.030Z"
   },
   {
    "duration": 4,
    "start_time": "2022-09-20T15:41:00.059Z"
   },
   {
    "duration": 34,
    "start_time": "2022-09-20T15:41:00.065Z"
   },
   {
    "duration": 7,
    "start_time": "2022-09-20T15:41:00.101Z"
   },
   {
    "duration": 23,
    "start_time": "2022-09-20T15:41:00.110Z"
   },
   {
    "duration": 6,
    "start_time": "2022-09-20T15:41:00.135Z"
   },
   {
    "duration": 10,
    "start_time": "2022-09-20T15:41:00.143Z"
   },
   {
    "duration": 19,
    "start_time": "2022-09-20T15:41:00.155Z"
   },
   {
    "duration": 19,
    "start_time": "2022-09-20T15:41:00.176Z"
   },
   {
    "duration": 26,
    "start_time": "2022-09-20T15:41:00.199Z"
   },
   {
    "duration": 40,
    "start_time": "2022-09-20T15:41:00.227Z"
   },
   {
    "duration": 18,
    "start_time": "2022-09-20T15:41:00.269Z"
   },
   {
    "duration": 5,
    "start_time": "2022-09-20T15:41:00.294Z"
   },
   {
    "duration": 10,
    "start_time": "2022-09-20T15:41:00.301Z"
   },
   {
    "duration": 308,
    "start_time": "2022-09-20T15:41:00.313Z"
   },
   {
    "duration": 2,
    "start_time": "2022-09-20T15:41:00.623Z"
   },
   {
    "duration": 402,
    "start_time": "2022-09-20T15:41:00.627Z"
   },
   {
    "duration": 379,
    "start_time": "2022-09-20T15:41:01.031Z"
   },
   {
    "duration": 13,
    "start_time": "2022-09-20T15:41:01.412Z"
   },
   {
    "duration": 168,
    "start_time": "2022-09-20T15:41:01.427Z"
   },
   {
    "duration": 45,
    "start_time": "2022-09-20T15:41:01.597Z"
   },
   {
    "duration": 9,
    "start_time": "2022-09-20T15:41:01.644Z"
   },
   {
    "duration": 16,
    "start_time": "2022-09-20T15:41:01.654Z"
   },
   {
    "duration": 22,
    "start_time": "2022-09-20T15:41:01.672Z"
   },
   {
    "duration": 100,
    "start_time": "2022-09-20T15:41:01.695Z"
   },
   {
    "duration": 5,
    "start_time": "2022-09-20T15:41:01.796Z"
   },
   {
    "duration": 40,
    "start_time": "2022-09-20T15:41:01.803Z"
   },
   {
    "duration": 4,
    "start_time": "2022-09-20T15:41:01.844Z"
   },
   {
    "duration": 8,
    "start_time": "2022-09-20T15:41:01.849Z"
   },
   {
    "duration": 4905,
    "start_time": "2022-09-20T15:41:01.859Z"
   },
   {
    "duration": 97477,
    "start_time": "2022-09-20T15:41:06.766Z"
   },
   {
    "duration": 51,
    "start_time": "2022-09-20T15:42:44.245Z"
   },
   {
    "duration": 472,
    "start_time": "2022-09-20T15:42:44.298Z"
   },
   {
    "duration": 180,
    "start_time": "2022-09-20T15:42:44.771Z"
   },
   {
    "duration": 4,
    "start_time": "2022-09-20T15:42:44.952Z"
   },
   {
    "duration": 38,
    "start_time": "2022-09-20T15:42:44.958Z"
   },
   {
    "duration": 188,
    "start_time": "2022-09-20T15:42:45.002Z"
   },
   {
    "duration": 30,
    "start_time": "2022-09-20T15:42:45.195Z"
   },
   {
    "duration": 203,
    "start_time": "2022-09-20T15:42:45.227Z"
   },
   {
    "duration": 63,
    "start_time": "2022-09-20T15:42:45.432Z"
   },
   {
    "duration": 442,
    "start_time": "2022-09-20T15:42:45.498Z"
   },
   {
    "duration": 181,
    "start_time": "2022-09-20T15:42:45.942Z"
   },
   {
    "duration": 11,
    "start_time": "2022-09-20T15:42:46.125Z"
   },
   {
    "duration": 196,
    "start_time": "2022-09-20T15:42:46.138Z"
   },
   {
    "duration": 1561,
    "start_time": "2022-09-20T15:46:26.481Z"
   },
   {
    "duration": 43,
    "start_time": "2022-09-20T15:46:28.045Z"
   },
   {
    "duration": 31,
    "start_time": "2022-09-20T15:46:28.090Z"
   },
   {
    "duration": 54,
    "start_time": "2022-09-20T15:46:28.123Z"
   },
   {
    "duration": 30,
    "start_time": "2022-09-20T15:46:28.195Z"
   },
   {
    "duration": 3,
    "start_time": "2022-09-20T15:46:28.227Z"
   },
   {
    "duration": 22,
    "start_time": "2022-09-20T15:46:28.233Z"
   },
   {
    "duration": 8,
    "start_time": "2022-09-20T15:46:28.257Z"
   },
   {
    "duration": 41,
    "start_time": "2022-09-20T15:46:28.267Z"
   },
   {
    "duration": 4,
    "start_time": "2022-09-20T15:46:28.310Z"
   },
   {
    "duration": 13,
    "start_time": "2022-09-20T15:46:28.316Z"
   },
   {
    "duration": 12,
    "start_time": "2022-09-20T15:46:28.331Z"
   },
   {
    "duration": 2,
    "start_time": "2022-09-20T15:46:28.345Z"
   },
   {
    "duration": 15,
    "start_time": "2022-09-20T15:46:28.350Z"
   },
   {
    "duration": 44,
    "start_time": "2022-09-20T15:46:28.366Z"
   },
   {
    "duration": 15,
    "start_time": "2022-09-20T15:46:28.411Z"
   },
   {
    "duration": 4,
    "start_time": "2022-09-20T15:46:28.428Z"
   },
   {
    "duration": 7,
    "start_time": "2022-09-20T15:46:28.435Z"
   },
   {
    "duration": 260,
    "start_time": "2022-09-20T15:46:28.444Z"
   },
   {
    "duration": 3,
    "start_time": "2022-09-20T15:46:28.706Z"
   },
   {
    "duration": 384,
    "start_time": "2022-09-20T15:46:28.711Z"
   },
   {
    "duration": 313,
    "start_time": "2022-09-20T15:46:29.097Z"
   },
   {
    "duration": 16,
    "start_time": "2022-09-20T15:46:29.412Z"
   },
   {
    "duration": 165,
    "start_time": "2022-09-20T15:46:29.430Z"
   },
   {
    "duration": 43,
    "start_time": "2022-09-20T15:46:29.597Z"
   },
   {
    "duration": 9,
    "start_time": "2022-09-20T15:46:29.642Z"
   },
   {
    "duration": 5,
    "start_time": "2022-09-20T15:46:29.652Z"
   },
   {
    "duration": 37,
    "start_time": "2022-09-20T15:46:29.658Z"
   },
   {
    "duration": 105,
    "start_time": "2022-09-20T15:46:29.696Z"
   },
   {
    "duration": 5,
    "start_time": "2022-09-20T15:46:29.802Z"
   },
   {
    "duration": 30,
    "start_time": "2022-09-20T15:46:29.809Z"
   },
   {
    "duration": 3,
    "start_time": "2022-09-20T15:46:29.841Z"
   },
   {
    "duration": 6,
    "start_time": "2022-09-20T15:46:29.845Z"
   },
   {
    "duration": 4959,
    "start_time": "2022-09-20T15:46:29.852Z"
   },
   {
    "duration": 84027,
    "start_time": "2022-09-20T15:46:34.815Z"
   },
   {
    "duration": 158,
    "start_time": "2022-09-20T15:47:58.844Z"
   },
   {
    "duration": 512,
    "start_time": "2022-09-20T15:47:59.005Z"
   },
   {
    "duration": 159,
    "start_time": "2022-09-20T15:47:59.519Z"
   },
   {
    "duration": 3,
    "start_time": "2022-09-20T15:47:59.680Z"
   },
   {
    "duration": 24,
    "start_time": "2022-09-20T15:47:59.684Z"
   },
   {
    "duration": 187,
    "start_time": "2022-09-20T15:47:59.712Z"
   },
   {
    "duration": 30,
    "start_time": "2022-09-20T15:47:59.901Z"
   },
   {
    "duration": 207,
    "start_time": "2022-09-20T15:47:59.932Z"
   },
   {
    "duration": 58,
    "start_time": "2022-09-20T15:48:00.141Z"
   },
   {
    "duration": 543,
    "start_time": "2022-09-20T15:48:00.201Z"
   },
   {
    "duration": 182,
    "start_time": "2022-09-20T15:48:00.746Z"
   },
   {
    "duration": 12,
    "start_time": "2022-09-20T15:48:00.929Z"
   },
   {
    "duration": 191,
    "start_time": "2022-09-20T15:48:00.943Z"
   },
   {
    "duration": 1538,
    "start_time": "2022-09-20T15:51:55.782Z"
   },
   {
    "duration": 40,
    "start_time": "2022-09-20T15:51:57.322Z"
   },
   {
    "duration": 26,
    "start_time": "2022-09-20T15:51:57.364Z"
   },
   {
    "duration": 56,
    "start_time": "2022-09-20T15:51:57.392Z"
   },
   {
    "duration": 23,
    "start_time": "2022-09-20T15:51:57.450Z"
   },
   {
    "duration": 20,
    "start_time": "2022-09-20T15:51:57.475Z"
   },
   {
    "duration": 9,
    "start_time": "2022-09-20T15:51:57.497Z"
   },
   {
    "duration": 6,
    "start_time": "2022-09-20T15:51:57.508Z"
   },
   {
    "duration": 12,
    "start_time": "2022-09-20T15:51:57.515Z"
   },
   {
    "duration": 4,
    "start_time": "2022-09-20T15:51:57.529Z"
   },
   {
    "duration": 8,
    "start_time": "2022-09-20T15:51:57.534Z"
   },
   {
    "duration": 13,
    "start_time": "2022-09-20T15:51:57.544Z"
   },
   {
    "duration": 36,
    "start_time": "2022-09-20T15:51:57.559Z"
   },
   {
    "duration": 15,
    "start_time": "2022-09-20T15:51:57.599Z"
   },
   {
    "duration": 41,
    "start_time": "2022-09-20T15:51:57.616Z"
   },
   {
    "duration": 42,
    "start_time": "2022-09-20T15:51:57.659Z"
   },
   {
    "duration": 6,
    "start_time": "2022-09-20T15:51:57.704Z"
   },
   {
    "duration": 7,
    "start_time": "2022-09-20T15:51:57.712Z"
   },
   {
    "duration": 297,
    "start_time": "2022-09-20T15:51:57.721Z"
   },
   {
    "duration": 3,
    "start_time": "2022-09-20T15:51:58.020Z"
   },
   {
    "duration": 387,
    "start_time": "2022-09-20T15:51:58.024Z"
   },
   {
    "duration": 374,
    "start_time": "2022-09-20T15:51:58.414Z"
   },
   {
    "duration": 13,
    "start_time": "2022-09-20T15:51:58.794Z"
   },
   {
    "duration": 94,
    "start_time": "2022-09-20T15:51:58.809Z"
   },
   {
    "duration": 131,
    "start_time": "2022-09-20T15:51:58.905Z"
   },
   {
    "duration": 13,
    "start_time": "2022-09-20T15:51:59.038Z"
   },
   {
    "duration": 7,
    "start_time": "2022-09-20T15:51:59.053Z"
   },
   {
    "duration": 33,
    "start_time": "2022-09-20T15:51:59.062Z"
   },
   {
    "duration": 101,
    "start_time": "2022-09-20T15:51:59.097Z"
   },
   {
    "duration": 7,
    "start_time": "2022-09-20T15:51:59.201Z"
   },
   {
    "duration": 37,
    "start_time": "2022-09-20T15:51:59.209Z"
   },
   {
    "duration": 3,
    "start_time": "2022-09-20T15:51:59.248Z"
   },
   {
    "duration": 8,
    "start_time": "2022-09-20T15:51:59.253Z"
   },
   {
    "duration": 6754,
    "start_time": "2022-09-20T15:51:59.263Z"
   },
   {
    "duration": 221756,
    "start_time": "2022-09-20T15:52:06.019Z"
   },
   {
    "duration": 118,
    "start_time": "2022-09-20T15:55:47.777Z"
   },
   {
    "duration": 444,
    "start_time": "2022-09-20T15:55:47.897Z"
   },
   {
    "duration": 174,
    "start_time": "2022-09-20T15:55:48.344Z"
   },
   {
    "duration": 4,
    "start_time": "2022-09-20T15:55:48.520Z"
   },
   {
    "duration": 18,
    "start_time": "2022-09-20T15:55:48.526Z"
   },
   {
    "duration": 204,
    "start_time": "2022-09-20T15:55:48.549Z"
   },
   {
    "duration": 59,
    "start_time": "2022-09-20T15:55:48.755Z"
   },
   {
    "duration": 217,
    "start_time": "2022-09-20T15:55:48.816Z"
   },
   {
    "duration": 69,
    "start_time": "2022-09-20T15:55:49.035Z"
   },
   {
    "duration": 535,
    "start_time": "2022-09-20T15:55:49.107Z"
   },
   {
    "duration": 184,
    "start_time": "2022-09-20T15:55:49.644Z"
   },
   {
    "duration": 12,
    "start_time": "2022-09-20T15:55:49.830Z"
   },
   {
    "duration": 188,
    "start_time": "2022-09-20T15:55:49.845Z"
   },
   {
    "duration": 2053,
    "start_time": "2022-09-20T17:44:04.445Z"
   },
   {
    "duration": 107,
    "start_time": "2022-09-20T17:44:06.500Z"
   },
   {
    "duration": 33,
    "start_time": "2022-09-20T17:44:06.612Z"
   },
   {
    "duration": 102,
    "start_time": "2022-09-20T17:44:06.647Z"
   },
   {
    "duration": 50,
    "start_time": "2022-09-20T17:44:06.752Z"
   },
   {
    "duration": 70,
    "start_time": "2022-09-20T17:44:06.803Z"
   },
   {
    "duration": 28,
    "start_time": "2022-09-20T17:44:06.875Z"
   },
   {
    "duration": 21,
    "start_time": "2022-09-20T17:44:06.904Z"
   },
   {
    "duration": 71,
    "start_time": "2022-09-20T17:44:06.926Z"
   },
   {
    "duration": 42,
    "start_time": "2022-09-20T17:44:06.999Z"
   },
   {
    "duration": 32,
    "start_time": "2022-09-20T17:44:07.043Z"
   },
   {
    "duration": 36,
    "start_time": "2022-09-20T17:44:07.077Z"
   },
   {
    "duration": 58,
    "start_time": "2022-09-20T17:44:07.115Z"
   },
   {
    "duration": 44,
    "start_time": "2022-09-20T17:44:07.177Z"
   },
   {
    "duration": 107,
    "start_time": "2022-09-20T17:44:07.223Z"
   },
   {
    "duration": 67,
    "start_time": "2022-09-20T17:44:07.332Z"
   },
   {
    "duration": 53,
    "start_time": "2022-09-20T17:44:07.401Z"
   },
   {
    "duration": 34,
    "start_time": "2022-09-20T17:44:07.455Z"
   },
   {
    "duration": 336,
    "start_time": "2022-09-20T17:44:07.490Z"
   },
   {
    "duration": 2,
    "start_time": "2022-09-20T17:44:07.828Z"
   },
   {
    "duration": 500,
    "start_time": "2022-09-20T17:44:07.831Z"
   },
   {
    "duration": 402,
    "start_time": "2022-09-20T17:44:08.333Z"
   },
   {
    "duration": 23,
    "start_time": "2022-09-20T17:44:08.737Z"
   },
   {
    "duration": 88,
    "start_time": "2022-09-20T17:44:08.762Z"
   },
   {
    "duration": 177,
    "start_time": "2022-09-20T17:44:08.854Z"
   },
   {
    "duration": 10,
    "start_time": "2022-09-20T17:44:09.037Z"
   },
   {
    "duration": 47,
    "start_time": "2022-09-20T17:44:09.049Z"
   },
   {
    "duration": 62,
    "start_time": "2022-09-20T17:44:09.098Z"
   },
   {
    "duration": 123,
    "start_time": "2022-09-20T17:44:09.162Z"
   },
   {
    "duration": 7,
    "start_time": "2022-09-20T17:44:09.287Z"
   },
   {
    "duration": 94,
    "start_time": "2022-09-20T17:44:09.295Z"
   },
   {
    "duration": 10,
    "start_time": "2022-09-20T17:44:09.391Z"
   },
   {
    "duration": 61,
    "start_time": "2022-09-20T17:44:09.403Z"
   },
   {
    "duration": 6470,
    "start_time": "2022-09-20T17:44:09.469Z"
   },
   {
    "duration": 274964,
    "start_time": "2022-09-20T17:44:15.941Z"
   },
   {
    "duration": 133,
    "start_time": "2022-09-20T17:48:50.907Z"
   },
   {
    "duration": 404,
    "start_time": "2022-09-20T17:48:51.042Z"
   },
   {
    "duration": 177,
    "start_time": "2022-09-20T17:48:51.448Z"
   },
   {
    "duration": 7,
    "start_time": "2022-09-20T17:48:51.627Z"
   },
   {
    "duration": 53,
    "start_time": "2022-09-20T17:48:51.635Z"
   },
   {
    "duration": 180,
    "start_time": "2022-09-20T17:48:51.693Z"
   },
   {
    "duration": 48,
    "start_time": "2022-09-20T17:48:51.874Z"
   },
   {
    "duration": 220,
    "start_time": "2022-09-20T17:48:51.923Z"
   },
   {
    "duration": 22,
    "start_time": "2022-09-20T17:48:52.149Z"
   },
   {
    "duration": 601,
    "start_time": "2022-09-20T17:48:52.220Z"
   },
   {
    "duration": 184,
    "start_time": "2022-09-20T17:48:52.823Z"
   },
   {
    "duration": 16,
    "start_time": "2022-09-20T17:48:53.013Z"
   },
   {
    "duration": 245,
    "start_time": "2022-09-20T17:48:53.031Z"
   },
   {
    "duration": 1448,
    "start_time": "2022-09-20T17:58:57.042Z"
   },
   {
    "duration": 64,
    "start_time": "2022-09-20T17:58:58.492Z"
   },
   {
    "duration": 24,
    "start_time": "2022-09-20T17:58:58.560Z"
   },
   {
    "duration": 56,
    "start_time": "2022-09-20T17:58:58.585Z"
   },
   {
    "duration": 30,
    "start_time": "2022-09-20T17:58:58.643Z"
   },
   {
    "duration": 4,
    "start_time": "2022-09-20T17:58:58.674Z"
   },
   {
    "duration": 11,
    "start_time": "2022-09-20T17:58:58.679Z"
   },
   {
    "duration": 5,
    "start_time": "2022-09-20T17:58:58.692Z"
   },
   {
    "duration": 29,
    "start_time": "2022-09-20T17:58:58.698Z"
   },
   {
    "duration": 33,
    "start_time": "2022-09-20T17:58:58.728Z"
   },
   {
    "duration": 5,
    "start_time": "2022-09-20T17:58:58.762Z"
   },
   {
    "duration": 11,
    "start_time": "2022-09-20T17:58:58.769Z"
   },
   {
    "duration": 2,
    "start_time": "2022-09-20T17:58:58.781Z"
   },
   {
    "duration": 11,
    "start_time": "2022-09-20T17:58:58.786Z"
   },
   {
    "duration": 50,
    "start_time": "2022-09-20T17:58:58.798Z"
   },
   {
    "duration": 19,
    "start_time": "2022-09-20T17:58:58.849Z"
   },
   {
    "duration": 5,
    "start_time": "2022-09-20T17:58:58.870Z"
   },
   {
    "duration": 5,
    "start_time": "2022-09-20T17:58:58.876Z"
   },
   {
    "duration": 279,
    "start_time": "2022-09-20T17:58:58.883Z"
   },
   {
    "duration": 2,
    "start_time": "2022-09-20T17:58:59.165Z"
   },
   {
    "duration": 381,
    "start_time": "2022-09-20T17:58:59.169Z"
   },
   {
    "duration": 379,
    "start_time": "2022-09-20T17:58:59.552Z"
   },
   {
    "duration": 18,
    "start_time": "2022-09-20T17:58:59.933Z"
   },
   {
    "duration": 75,
    "start_time": "2022-09-20T17:58:59.953Z"
   },
   {
    "duration": 127,
    "start_time": "2022-09-20T17:59:00.046Z"
   },
   {
    "duration": 8,
    "start_time": "2022-09-20T17:59:00.175Z"
   },
   {
    "duration": 5,
    "start_time": "2022-09-20T17:59:00.184Z"
   },
   {
    "duration": 45,
    "start_time": "2022-09-20T17:59:00.190Z"
   },
   {
    "duration": 119,
    "start_time": "2022-09-20T17:59:00.244Z"
   },
   {
    "duration": 5,
    "start_time": "2022-09-20T17:59:00.365Z"
   },
   {
    "duration": 62,
    "start_time": "2022-09-20T17:59:00.372Z"
   },
   {
    "duration": 12,
    "start_time": "2022-09-20T17:59:00.448Z"
   },
   {
    "duration": 17,
    "start_time": "2022-09-20T17:59:00.462Z"
   },
   {
    "duration": 5554,
    "start_time": "2022-09-20T17:59:00.480Z"
   },
   {
    "duration": 189535,
    "start_time": "2022-09-20T17:59:06.036Z"
   },
   {
    "duration": 71,
    "start_time": "2022-09-20T18:02:15.572Z"
   },
   {
    "duration": 452,
    "start_time": "2022-09-20T18:02:15.650Z"
   },
   {
    "duration": 177,
    "start_time": "2022-09-20T18:02:16.103Z"
   },
   {
    "duration": 2,
    "start_time": "2022-09-20T18:02:16.282Z"
   },
   {
    "duration": 19,
    "start_time": "2022-09-20T18:02:16.286Z"
   },
   {
    "duration": 189,
    "start_time": "2022-09-20T18:02:16.314Z"
   },
   {
    "duration": 48,
    "start_time": "2022-09-20T18:02:16.505Z"
   },
   {
    "duration": 210,
    "start_time": "2022-09-20T18:02:16.554Z"
   },
   {
    "duration": 89,
    "start_time": "2022-09-20T18:02:16.765Z"
   },
   {
    "duration": 503,
    "start_time": "2022-09-20T18:02:16.859Z"
   },
   {
    "duration": 168,
    "start_time": "2022-09-20T18:02:17.365Z"
   },
   {
    "duration": 11,
    "start_time": "2022-09-20T18:02:17.535Z"
   },
   {
    "duration": 199,
    "start_time": "2022-09-20T18:02:17.548Z"
   },
   {
    "duration": 55,
    "start_time": "2022-09-20T18:03:49.904Z"
   },
   {
    "duration": 27,
    "start_time": "2022-09-20T18:03:53.336Z"
   },
   {
    "duration": 13,
    "start_time": "2022-09-20T18:05:26.836Z"
   },
   {
    "duration": 1802,
    "start_time": "2022-09-20T18:09:22.080Z"
   },
   {
    "duration": 59,
    "start_time": "2022-09-20T18:09:23.884Z"
   },
   {
    "duration": 28,
    "start_time": "2022-09-20T18:09:23.945Z"
   },
   {
    "duration": 79,
    "start_time": "2022-09-20T18:09:23.976Z"
   },
   {
    "duration": 22,
    "start_time": "2022-09-20T18:09:24.060Z"
   },
   {
    "duration": 4,
    "start_time": "2022-09-20T18:09:24.085Z"
   },
   {
    "duration": 12,
    "start_time": "2022-09-20T18:09:24.091Z"
   },
   {
    "duration": 39,
    "start_time": "2022-09-20T18:09:24.104Z"
   },
   {
    "duration": 18,
    "start_time": "2022-09-20T18:09:24.156Z"
   },
   {
    "duration": 4,
    "start_time": "2022-09-20T18:09:24.175Z"
   },
   {
    "duration": 11,
    "start_time": "2022-09-20T18:09:24.180Z"
   },
   {
    "duration": 12,
    "start_time": "2022-09-20T18:09:24.193Z"
   },
   {
    "duration": 28,
    "start_time": "2022-09-20T18:09:24.207Z"
   },
   {
    "duration": 46,
    "start_time": "2022-09-20T18:09:24.237Z"
   },
   {
    "duration": 62,
    "start_time": "2022-09-20T18:09:24.285Z"
   },
   {
    "duration": 12,
    "start_time": "2022-09-20T18:09:24.357Z"
   },
   {
    "duration": 3,
    "start_time": "2022-09-20T18:09:24.371Z"
   },
   {
    "duration": 5,
    "start_time": "2022-09-20T18:09:24.376Z"
   },
   {
    "duration": 283,
    "start_time": "2022-09-20T18:09:24.382Z"
   },
   {
    "duration": 5,
    "start_time": "2022-09-20T18:09:24.668Z"
   },
   {
    "duration": 346,
    "start_time": "2022-09-20T18:09:24.674Z"
   },
   {
    "duration": 354,
    "start_time": "2022-09-20T18:09:25.022Z"
   },
   {
    "duration": 10,
    "start_time": "2022-09-20T18:09:25.377Z"
   },
   {
    "duration": 4,
    "start_time": "2022-09-20T18:09:42.892Z"
   },
   {
    "duration": 8,
    "start_time": "2022-09-20T18:09:55.107Z"
   },
   {
    "duration": 15,
    "start_time": "2022-09-20T18:10:07.038Z"
   },
   {
    "duration": 4,
    "start_time": "2022-09-20T18:10:12.170Z"
   },
   {
    "duration": 3,
    "start_time": "2022-09-20T18:12:17.583Z"
   },
   {
    "duration": 97,
    "start_time": "2022-09-20T18:12:32.340Z"
   },
   {
    "duration": 69,
    "start_time": "2022-09-20T18:12:33.796Z"
   },
   {
    "duration": 9,
    "start_time": "2022-09-20T18:12:34.487Z"
   },
   {
    "duration": 14,
    "start_time": "2022-09-20T18:12:36.845Z"
   },
   {
    "duration": 4,
    "start_time": "2022-09-20T18:12:40.000Z"
   },
   {
    "duration": 17,
    "start_time": "2022-09-20T18:12:40.584Z"
   },
   {
    "duration": 5,
    "start_time": "2022-09-20T18:12:41.366Z"
   },
   {
    "duration": 1580,
    "start_time": "2022-09-20T18:12:53.485Z"
   },
   {
    "duration": 40,
    "start_time": "2022-09-20T18:12:55.067Z"
   },
   {
    "duration": 45,
    "start_time": "2022-09-20T18:12:55.108Z"
   },
   {
    "duration": 89,
    "start_time": "2022-09-20T18:12:55.155Z"
   },
   {
    "duration": 30,
    "start_time": "2022-09-20T18:12:55.247Z"
   },
   {
    "duration": 3,
    "start_time": "2022-09-20T18:12:55.279Z"
   },
   {
    "duration": 15,
    "start_time": "2022-09-20T18:12:55.283Z"
   },
   {
    "duration": 5,
    "start_time": "2022-09-20T18:12:55.300Z"
   },
   {
    "duration": 64,
    "start_time": "2022-09-20T18:12:55.307Z"
   },
   {
    "duration": 7,
    "start_time": "2022-09-20T18:12:55.373Z"
   },
   {
    "duration": 9,
    "start_time": "2022-09-20T18:12:55.381Z"
   },
   {
    "duration": 14,
    "start_time": "2022-09-20T18:12:55.392Z"
   },
   {
    "duration": 19,
    "start_time": "2022-09-20T18:12:55.408Z"
   },
   {
    "duration": 55,
    "start_time": "2022-09-20T18:12:55.431Z"
   },
   {
    "duration": 59,
    "start_time": "2022-09-20T18:12:55.488Z"
   },
   {
    "duration": 15,
    "start_time": "2022-09-20T18:12:55.556Z"
   },
   {
    "duration": 11,
    "start_time": "2022-09-20T18:12:55.572Z"
   },
   {
    "duration": 6,
    "start_time": "2022-09-20T18:12:55.584Z"
   },
   {
    "duration": 279,
    "start_time": "2022-09-20T18:12:55.591Z"
   },
   {
    "duration": 3,
    "start_time": "2022-09-20T18:12:55.871Z"
   },
   {
    "duration": 387,
    "start_time": "2022-09-20T18:12:55.875Z"
   },
   {
    "duration": 375,
    "start_time": "2022-09-20T18:12:56.264Z"
   },
   {
    "duration": 23,
    "start_time": "2022-09-20T18:12:56.641Z"
   },
   {
    "duration": 63,
    "start_time": "2022-09-20T18:12:56.670Z"
   },
   {
    "duration": 152,
    "start_time": "2022-09-20T18:12:56.734Z"
   },
   {
    "duration": 9,
    "start_time": "2022-09-20T18:12:56.888Z"
   },
   {
    "duration": 37,
    "start_time": "2022-09-20T18:12:56.898Z"
   },
   {
    "duration": 28,
    "start_time": "2022-09-20T18:12:56.936Z"
   },
   {
    "duration": 99,
    "start_time": "2022-09-20T18:12:56.965Z"
   },
   {
    "duration": 6,
    "start_time": "2022-09-20T18:12:57.066Z"
   },
   {
    "duration": 27,
    "start_time": "2022-09-20T18:12:57.074Z"
   },
   {
    "duration": 3,
    "start_time": "2022-09-20T18:12:57.103Z"
   },
   {
    "duration": 47,
    "start_time": "2022-09-20T18:12:57.108Z"
   },
   {
    "duration": 5265,
    "start_time": "2022-09-20T18:12:57.160Z"
   },
   {
    "duration": 176545,
    "start_time": "2022-09-20T18:13:02.427Z"
   },
   {
    "duration": 44,
    "start_time": "2022-09-20T18:15:58.973Z"
   },
   {
    "duration": 415,
    "start_time": "2022-09-20T18:15:59.019Z"
   },
   {
    "duration": 154,
    "start_time": "2022-09-20T18:15:59.436Z"
   },
   {
    "duration": 3,
    "start_time": "2022-09-20T18:15:59.591Z"
   },
   {
    "duration": 44,
    "start_time": "2022-09-20T18:15:59.595Z"
   },
   {
    "duration": 213,
    "start_time": "2022-09-20T18:15:59.650Z"
   },
   {
    "duration": 39,
    "start_time": "2022-09-20T18:15:59.868Z"
   },
   {
    "duration": 255,
    "start_time": "2022-09-20T18:15:59.908Z"
   },
   {
    "duration": 5,
    "start_time": "2022-09-20T18:16:00.165Z"
   },
   {
    "duration": 88,
    "start_time": "2022-09-20T18:16:00.171Z"
   },
   {
    "duration": 587,
    "start_time": "2022-09-20T18:16:00.261Z"
   },
   {
    "duration": 239,
    "start_time": "2022-09-20T18:16:00.850Z"
   },
   {
    "duration": 31,
    "start_time": "2022-09-20T18:16:01.112Z"
   },
   {
    "duration": 209,
    "start_time": "2022-09-20T18:16:01.150Z"
   },
   {
    "duration": 170,
    "start_time": "2022-09-20T18:18:33.884Z"
   },
   {
    "duration": 16088,
    "start_time": "2022-09-20T18:19:55.851Z"
   },
   {
    "duration": 25,
    "start_time": "2022-09-20T18:20:29.228Z"
   },
   {
    "duration": 24804,
    "start_time": "2022-09-20T18:20:57.155Z"
   },
   {
    "duration": 27,
    "start_time": "2022-09-20T18:21:43.496Z"
   },
   {
    "duration": 11891,
    "start_time": "2022-09-20T18:22:04.884Z"
   },
   {
    "duration": 16,
    "start_time": "2022-09-20T18:22:29.744Z"
   },
   {
    "duration": 11676,
    "start_time": "2022-09-20T18:22:49.682Z"
   },
   {
    "duration": 35,
    "start_time": "2022-09-20T18:23:11.704Z"
   },
   {
    "duration": 5656,
    "start_time": "2022-09-20T18:23:34.988Z"
   },
   {
    "duration": 17,
    "start_time": "2022-09-20T18:23:52.648Z"
   },
   {
    "duration": 13100,
    "start_time": "2022-09-20T18:24:26.241Z"
   },
   {
    "duration": 13,
    "start_time": "2022-09-20T18:24:54.350Z"
   },
   {
    "duration": 170,
    "start_time": "2022-09-20T18:25:10.991Z"
   },
   {
    "duration": 9507,
    "start_time": "2022-09-20T18:26:13.364Z"
   },
   {
    "duration": 21,
    "start_time": "2022-09-20T18:26:43.100Z"
   },
   {
    "duration": 12265,
    "start_time": "2022-09-20T18:26:54.725Z"
   },
   {
    "duration": 21,
    "start_time": "2022-09-20T18:27:19.035Z"
   },
   {
    "duration": 13486,
    "start_time": "2022-09-20T18:27:46.566Z"
   },
   {
    "duration": 29,
    "start_time": "2022-09-20T18:28:12.006Z"
   },
   {
    "duration": 12408,
    "start_time": "2022-09-20T18:28:28.946Z"
   },
   {
    "duration": 17,
    "start_time": "2022-09-20T18:29:00.537Z"
   },
   {
    "duration": 53641,
    "start_time": "2022-09-20T18:29:11.001Z"
   },
   {
    "duration": 171599,
    "start_time": "2022-09-20T18:30:08.736Z"
   },
   {
    "duration": 40509,
    "start_time": "2022-09-20T18:33:00.355Z"
   },
   {
    "duration": 46,
    "start_time": "2022-09-20T18:33:54.138Z"
   },
   {
    "duration": 14,
    "start_time": "2022-09-20T18:33:57.754Z"
   },
   {
    "duration": 14,
    "start_time": "2022-09-20T18:34:00.968Z"
   },
   {
    "duration": 12271,
    "start_time": "2022-09-20T18:34:24.395Z"
   },
   {
    "duration": 16,
    "start_time": "2022-09-20T18:34:48.439Z"
   },
   {
    "duration": 13470,
    "start_time": "2022-09-20T18:35:20.051Z"
   },
   {
    "duration": 14,
    "start_time": "2022-09-20T18:35:50.959Z"
   },
   {
    "duration": 9091,
    "start_time": "2022-09-20T18:36:20.656Z"
   },
   {
    "duration": 20,
    "start_time": "2022-09-20T18:36:48.436Z"
   },
   {
    "duration": 18984,
    "start_time": "2022-09-20T18:37:28.298Z"
   },
   {
    "duration": 17,
    "start_time": "2022-09-20T18:37:55.744Z"
   },
   {
    "duration": 4,
    "start_time": "2022-09-20T18:38:56.261Z"
   },
   {
    "duration": 225,
    "start_time": "2022-09-20T18:45:59.065Z"
   },
   {
    "duration": 207,
    "start_time": "2022-09-20T18:46:02.850Z"
   },
   {
    "duration": 165,
    "start_time": "2022-09-20T18:49:10.797Z"
   },
   {
    "duration": 1779,
    "start_time": "2022-09-21T19:30:02.600Z"
   },
   {
    "duration": 92,
    "start_time": "2022-09-21T19:30:04.381Z"
   },
   {
    "duration": 23,
    "start_time": "2022-09-21T19:30:04.477Z"
   },
   {
    "duration": 45,
    "start_time": "2022-09-21T19:30:04.501Z"
   },
   {
    "duration": 18,
    "start_time": "2022-09-21T19:30:04.548Z"
   },
   {
    "duration": 3,
    "start_time": "2022-09-21T19:30:04.567Z"
   },
   {
    "duration": 16,
    "start_time": "2022-09-21T19:30:04.571Z"
   },
   {
    "duration": 5,
    "start_time": "2022-09-21T19:30:04.588Z"
   },
   {
    "duration": 20,
    "start_time": "2022-09-21T19:30:04.595Z"
   },
   {
    "duration": 4,
    "start_time": "2022-09-21T19:30:04.616Z"
   },
   {
    "duration": 6,
    "start_time": "2022-09-21T19:30:04.621Z"
   },
   {
    "duration": 11,
    "start_time": "2022-09-21T19:30:04.629Z"
   },
   {
    "duration": 2,
    "start_time": "2022-09-21T19:30:04.641Z"
   },
   {
    "duration": 13,
    "start_time": "2022-09-21T19:30:04.644Z"
   },
   {
    "duration": 22,
    "start_time": "2022-09-21T19:30:04.658Z"
   },
   {
    "duration": 36,
    "start_time": "2022-09-21T19:30:04.681Z"
   },
   {
    "duration": 4,
    "start_time": "2022-09-21T19:30:04.718Z"
   },
   {
    "duration": 6,
    "start_time": "2022-09-21T19:30:04.723Z"
   },
   {
    "duration": 232,
    "start_time": "2022-09-21T19:30:04.731Z"
   },
   {
    "duration": 25445,
    "start_time": "2022-09-21T19:30:04.964Z"
   },
   {
    "duration": 343,
    "start_time": "2022-09-21T19:30:30.411Z"
   },
   {
    "duration": 366,
    "start_time": "2022-09-21T19:30:30.756Z"
   },
   {
    "duration": 12,
    "start_time": "2022-09-21T19:30:31.123Z"
   },
   {
    "duration": 75,
    "start_time": "2022-09-21T19:30:31.136Z"
   },
   {
    "duration": 136,
    "start_time": "2022-09-21T19:30:31.213Z"
   },
   {
    "duration": 9,
    "start_time": "2022-09-21T19:30:31.351Z"
   },
   {
    "duration": 6,
    "start_time": "2022-09-21T19:30:31.363Z"
   },
   {
    "duration": 18,
    "start_time": "2022-09-21T19:30:31.370Z"
   },
   {
    "duration": 37,
    "start_time": "2022-09-21T19:30:31.389Z"
   },
   {
    "duration": 10,
    "start_time": "2022-09-21T19:30:31.427Z"
   },
   {
    "duration": 40,
    "start_time": "2022-09-21T19:30:31.439Z"
   },
   {
    "duration": 3,
    "start_time": "2022-09-21T19:30:31.481Z"
   },
   {
    "duration": 34,
    "start_time": "2022-09-21T19:30:31.486Z"
   },
   {
    "duration": 11716,
    "start_time": "2022-09-21T19:30:31.522Z"
   },
   {
    "duration": 158839,
    "start_time": "2022-09-21T19:30:43.240Z"
   },
   {
    "duration": 47,
    "start_time": "2022-09-21T19:33:22.080Z"
   },
   {
    "duration": 447,
    "start_time": "2022-09-21T19:33:22.210Z"
   },
   {
    "duration": 183,
    "start_time": "2022-09-21T19:33:22.658Z"
   },
   {
    "duration": 3,
    "start_time": "2022-09-21T19:33:22.843Z"
   },
   {
    "duration": 18,
    "start_time": "2022-09-21T19:33:22.847Z"
   },
   {
    "duration": 177,
    "start_time": "2022-09-21T19:33:22.866Z"
   },
   {
    "duration": 35,
    "start_time": "2022-09-21T19:33:23.044Z"
   },
   {
    "duration": 290,
    "start_time": "2022-09-21T19:33:23.081Z"
   },
   {
    "duration": 37,
    "start_time": "2022-09-21T19:33:23.373Z"
   },
   {
    "duration": 421,
    "start_time": "2022-09-21T19:33:23.412Z"
   },
   {
    "duration": 157,
    "start_time": "2022-09-21T19:33:23.835Z"
   },
   {
    "duration": 181,
    "start_time": "2022-09-21T19:33:23.995Z"
   },
   {
    "duration": 12,
    "start_time": "2022-09-21T19:33:24.178Z"
   },
   {
    "duration": 171,
    "start_time": "2022-09-21T19:33:24.191Z"
   },
   {
    "duration": 3,
    "start_time": "2022-09-21T19:35:53.468Z"
   },
   {
    "duration": 123,
    "start_time": "2022-09-21T19:36:09.153Z"
   },
   {
    "duration": 6,
    "start_time": "2022-09-21T19:36:19.442Z"
   },
   {
    "duration": 3,
    "start_time": "2022-09-21T19:36:36.131Z"
   },
   {
    "duration": 1673,
    "start_time": "2022-10-05T20:19:07.517Z"
   },
   {
    "duration": 169,
    "start_time": "2022-10-05T20:19:09.192Z"
   },
   {
    "duration": 30,
    "start_time": "2022-10-05T20:19:09.363Z"
   },
   {
    "duration": 53,
    "start_time": "2022-10-05T20:19:09.396Z"
   },
   {
    "duration": 38,
    "start_time": "2022-10-05T20:19:09.452Z"
   },
   {
    "duration": 4,
    "start_time": "2022-10-05T20:19:09.492Z"
   },
   {
    "duration": 31,
    "start_time": "2022-10-05T20:19:09.498Z"
   },
   {
    "duration": 14,
    "start_time": "2022-10-05T20:19:09.531Z"
   },
   {
    "duration": 14,
    "start_time": "2022-10-05T20:19:09.547Z"
   },
   {
    "duration": 5,
    "start_time": "2022-10-05T20:19:09.564Z"
   },
   {
    "duration": 6,
    "start_time": "2022-10-05T20:19:09.570Z"
   },
   {
    "duration": 22,
    "start_time": "2022-10-05T20:19:09.578Z"
   },
   {
    "duration": 2,
    "start_time": "2022-10-05T20:19:09.603Z"
   },
   {
    "duration": 14,
    "start_time": "2022-10-05T20:19:09.607Z"
   },
   {
    "duration": 25,
    "start_time": "2022-10-05T20:19:09.623Z"
   },
   {
    "duration": 40,
    "start_time": "2022-10-05T20:19:09.650Z"
   },
   {
    "duration": 5,
    "start_time": "2022-10-05T20:19:09.692Z"
   },
   {
    "duration": 6,
    "start_time": "2022-10-05T20:19:09.699Z"
   },
   {
    "duration": 257,
    "start_time": "2022-10-05T20:19:09.707Z"
   },
   {
    "duration": 27459,
    "start_time": "2022-10-05T20:19:09.966Z"
   },
   {
    "duration": 366,
    "start_time": "2022-10-05T20:19:37.427Z"
   },
   {
    "duration": 342,
    "start_time": "2022-10-05T20:19:37.795Z"
   },
   {
    "duration": 13,
    "start_time": "2022-10-05T20:19:38.139Z"
   },
   {
    "duration": 57,
    "start_time": "2022-10-05T20:19:38.154Z"
   },
   {
    "duration": 134,
    "start_time": "2022-10-05T20:19:38.290Z"
   },
   {
    "duration": 10,
    "start_time": "2022-10-05T20:19:38.426Z"
   },
   {
    "duration": 5,
    "start_time": "2022-10-05T20:19:38.438Z"
   },
   {
    "duration": 4,
    "start_time": "2022-10-05T20:19:38.447Z"
   },
   {
    "duration": 49,
    "start_time": "2022-10-05T20:19:38.453Z"
   },
   {
    "duration": 5,
    "start_time": "2022-10-05T20:19:38.504Z"
   },
   {
    "duration": 30,
    "start_time": "2022-10-05T20:19:38.511Z"
   },
   {
    "duration": 4,
    "start_time": "2022-10-05T20:19:38.542Z"
   },
   {
    "duration": 8,
    "start_time": "2022-10-05T20:19:38.549Z"
   },
   {
    "duration": 11436,
    "start_time": "2022-10-05T20:19:38.559Z"
   },
   {
    "duration": 153697,
    "start_time": "2022-10-05T20:19:49.997Z"
   },
   {
    "duration": 95,
    "start_time": "2022-10-05T20:22:23.696Z"
   },
   {
    "duration": 476,
    "start_time": "2022-10-05T20:22:23.793Z"
   },
   {
    "duration": 225,
    "start_time": "2022-10-05T20:22:24.271Z"
   },
   {
    "duration": 3,
    "start_time": "2022-10-05T20:22:24.498Z"
   },
   {
    "duration": 26,
    "start_time": "2022-10-05T20:22:24.503Z"
   },
   {
    "duration": 194,
    "start_time": "2022-10-05T20:22:24.531Z"
   },
   {
    "duration": 43,
    "start_time": "2022-10-05T20:22:24.727Z"
   },
   {
    "duration": 371,
    "start_time": "2022-10-05T20:22:24.772Z"
   },
   {
    "duration": 54,
    "start_time": "2022-10-05T20:22:25.146Z"
   },
   {
    "duration": 562,
    "start_time": "2022-10-05T20:22:25.202Z"
   },
   {
    "duration": 195,
    "start_time": "2022-10-05T20:22:25.766Z"
   },
   {
    "duration": 196,
    "start_time": "2022-10-05T20:22:25.963Z"
   },
   {
    "duration": 12,
    "start_time": "2022-10-05T20:22:26.161Z"
   },
   {
    "duration": 191,
    "start_time": "2022-10-05T20:22:26.189Z"
   },
   {
    "duration": 8,
    "start_time": "2022-10-05T20:22:26.381Z"
   },
   {
    "duration": 114,
    "start_time": "2022-10-05T20:28:44.988Z"
   },
   {
    "duration": 21,
    "start_time": "2022-10-05T20:29:47.495Z"
   },
   {
    "duration": 8,
    "start_time": "2022-10-05T20:34:38.351Z"
   },
   {
    "duration": 1383,
    "start_time": "2022-10-21T11:40:33.267Z"
   },
   {
    "duration": 168,
    "start_time": "2022-10-21T11:40:34.651Z"
   },
   {
    "duration": 24,
    "start_time": "2022-10-21T11:40:34.821Z"
   },
   {
    "duration": 52,
    "start_time": "2022-10-21T11:40:34.847Z"
   },
   {
    "duration": 21,
    "start_time": "2022-10-21T11:40:34.901Z"
   },
   {
    "duration": 3,
    "start_time": "2022-10-21T11:40:34.924Z"
   },
   {
    "duration": 12,
    "start_time": "2022-10-21T11:40:34.929Z"
   },
   {
    "duration": 19,
    "start_time": "2022-10-21T11:40:34.942Z"
   },
   {
    "duration": 27,
    "start_time": "2022-10-21T11:40:34.962Z"
   },
   {
    "duration": 3,
    "start_time": "2022-10-21T11:40:34.992Z"
   },
   {
    "duration": 11,
    "start_time": "2022-10-21T11:40:34.997Z"
   },
   {
    "duration": 29,
    "start_time": "2022-10-21T11:40:35.010Z"
   },
   {
    "duration": 2,
    "start_time": "2022-10-21T11:40:35.041Z"
   },
   {
    "duration": 17,
    "start_time": "2022-10-21T11:40:35.045Z"
   },
   {
    "duration": 34,
    "start_time": "2022-10-21T11:40:35.064Z"
   },
   {
    "duration": 16,
    "start_time": "2022-10-21T11:40:35.100Z"
   },
   {
    "duration": 5,
    "start_time": "2022-10-21T11:40:35.118Z"
   },
   {
    "duration": 20,
    "start_time": "2022-10-21T11:40:35.125Z"
   },
   {
    "duration": 276,
    "start_time": "2022-10-21T11:40:35.147Z"
   },
   {
    "duration": 28626,
    "start_time": "2022-10-21T11:40:35.425Z"
   },
   {
    "duration": 341,
    "start_time": "2022-10-21T11:41:04.052Z"
   },
   {
    "duration": 330,
    "start_time": "2022-10-21T11:41:04.395Z"
   },
   {
    "duration": 11,
    "start_time": "2022-10-21T11:41:04.726Z"
   },
   {
    "duration": 48,
    "start_time": "2022-10-21T11:41:04.738Z"
   },
   {
    "duration": 137,
    "start_time": "2022-10-21T11:41:04.787Z"
   },
   {
    "duration": 67,
    "start_time": "2022-10-21T11:41:04.925Z"
   },
   {
    "duration": 6,
    "start_time": "2022-10-21T11:41:04.994Z"
   },
   {
    "duration": 20,
    "start_time": "2022-10-21T11:41:05.005Z"
   },
   {
    "duration": 32,
    "start_time": "2022-10-21T11:41:05.027Z"
   },
   {
    "duration": 6,
    "start_time": "2022-10-21T11:41:05.061Z"
   },
   {
    "duration": 41,
    "start_time": "2022-10-21T11:41:05.068Z"
   },
   {
    "duration": 20,
    "start_time": "2022-10-21T11:41:05.110Z"
   },
   {
    "duration": 8,
    "start_time": "2022-10-21T11:41:05.132Z"
   },
   {
    "duration": 11055,
    "start_time": "2022-10-21T11:41:05.142Z"
   },
   {
    "duration": 152338,
    "start_time": "2022-10-21T11:41:16.199Z"
   },
   {
    "duration": 153,
    "start_time": "2022-10-21T11:43:48.538Z"
   },
   {
    "duration": 440,
    "start_time": "2022-10-21T11:43:48.694Z"
   },
   {
    "duration": 175,
    "start_time": "2022-10-21T11:43:49.136Z"
   },
   {
    "duration": 3,
    "start_time": "2022-10-21T11:43:49.313Z"
   },
   {
    "duration": 24,
    "start_time": "2022-10-21T11:43:49.318Z"
   },
   {
    "duration": 187,
    "start_time": "2022-10-21T11:43:49.343Z"
   },
   {
    "duration": 43,
    "start_time": "2022-10-21T11:43:49.531Z"
   },
   {
    "duration": 349,
    "start_time": "2022-10-21T11:43:49.587Z"
   },
   {
    "duration": 51,
    "start_time": "2022-10-21T11:43:49.938Z"
   },
   {
    "duration": 543,
    "start_time": "2022-10-21T11:43:49.991Z"
   },
   {
    "duration": 175,
    "start_time": "2022-10-21T11:43:50.535Z"
   },
   {
    "duration": 177,
    "start_time": "2022-10-21T11:43:50.711Z"
   },
   {
    "duration": 15,
    "start_time": "2022-10-21T11:43:50.895Z"
   },
   {
    "duration": 204,
    "start_time": "2022-10-21T11:43:50.912Z"
   },
   {
    "duration": 3,
    "start_time": "2022-10-21T11:43:51.117Z"
   },
   {
    "duration": 181,
    "start_time": "2022-10-21T11:52:20.369Z"
   },
   {
    "duration": 168,
    "start_time": "2022-10-21T11:52:23.538Z"
   },
   {
    "duration": 2589,
    "start_time": "2022-10-28T13:16:49.961Z"
   },
   {
    "duration": 159,
    "start_time": "2022-10-28T13:16:52.554Z"
   },
   {
    "duration": 26,
    "start_time": "2022-10-28T13:16:52.715Z"
   },
   {
    "duration": 60,
    "start_time": "2022-10-28T13:16:52.743Z"
   },
   {
    "duration": 35,
    "start_time": "2022-10-28T13:16:52.806Z"
   },
   {
    "duration": 4,
    "start_time": "2022-10-28T13:16:52.843Z"
   },
   {
    "duration": 13,
    "start_time": "2022-10-28T13:16:52.849Z"
   },
   {
    "duration": 7,
    "start_time": "2022-10-28T13:16:52.864Z"
   },
   {
    "duration": 50,
    "start_time": "2022-10-28T13:16:52.873Z"
   },
   {
    "duration": 5,
    "start_time": "2022-10-28T13:16:52.927Z"
   },
   {
    "duration": 6,
    "start_time": "2022-10-28T13:16:52.934Z"
   },
   {
    "duration": 14,
    "start_time": "2022-10-28T13:16:52.942Z"
   },
   {
    "duration": 2,
    "start_time": "2022-10-28T13:16:52.958Z"
   },
   {
    "duration": 18,
    "start_time": "2022-10-28T13:16:52.962Z"
   },
   {
    "duration": 60,
    "start_time": "2022-10-28T13:16:52.982Z"
   },
   {
    "duration": 12,
    "start_time": "2022-10-28T13:16:53.044Z"
   },
   {
    "duration": 4,
    "start_time": "2022-10-28T13:16:53.058Z"
   },
   {
    "duration": 6,
    "start_time": "2022-10-28T13:16:53.064Z"
   },
   {
    "duration": 296,
    "start_time": "2022-10-28T13:16:53.073Z"
   },
   {
    "duration": 29360,
    "start_time": "2022-10-28T13:16:53.371Z"
   },
   {
    "duration": 426,
    "start_time": "2022-10-28T13:17:22.733Z"
   },
   {
    "duration": 374,
    "start_time": "2022-10-28T13:17:23.160Z"
   },
   {
    "duration": 14,
    "start_time": "2022-10-28T13:17:23.536Z"
   },
   {
    "duration": 82,
    "start_time": "2022-10-28T13:17:23.552Z"
   },
   {
    "duration": 45,
    "start_time": "2022-10-28T13:17:23.724Z"
   },
   {
    "duration": 10,
    "start_time": "2022-10-28T13:17:23.771Z"
   },
   {
    "duration": 10,
    "start_time": "2022-10-28T13:17:23.782Z"
   },
   {
    "duration": 31,
    "start_time": "2022-10-28T13:17:23.795Z"
   },
   {
    "duration": 22,
    "start_time": "2022-10-28T13:17:23.827Z"
   },
   {
    "duration": 6,
    "start_time": "2022-10-28T13:17:23.851Z"
   },
   {
    "duration": 45,
    "start_time": "2022-10-28T13:17:23.858Z"
   },
   {
    "duration": 3,
    "start_time": "2022-10-28T13:17:23.905Z"
   },
   {
    "duration": 3,
    "start_time": "2022-10-28T13:17:23.923Z"
   },
   {
    "duration": 11672,
    "start_time": "2022-10-28T13:17:23.928Z"
   },
   {
    "duration": 171850,
    "start_time": "2022-10-28T13:17:35.602Z"
   },
   {
    "duration": 81,
    "start_time": "2022-10-28T13:20:27.454Z"
   },
   {
    "duration": 542,
    "start_time": "2022-10-28T13:20:27.623Z"
   },
   {
    "duration": 284,
    "start_time": "2022-10-28T13:20:28.167Z"
   },
   {
    "duration": 3,
    "start_time": "2022-10-28T13:20:28.453Z"
   },
   {
    "duration": 26,
    "start_time": "2022-10-28T13:20:28.458Z"
   },
   {
    "duration": 272,
    "start_time": "2022-10-28T13:20:28.486Z"
   },
   {
    "duration": 99,
    "start_time": "2022-10-28T13:20:28.760Z"
   },
   {
    "duration": 506,
    "start_time": "2022-10-28T13:20:28.862Z"
   },
   {
    "duration": 201,
    "start_time": "2022-10-28T13:20:29.423Z"
   },
   {
    "duration": 1008,
    "start_time": "2022-10-28T13:20:29.626Z"
   },
   {
    "duration": 407,
    "start_time": "2022-10-28T13:20:30.636Z"
   },
   {
    "duration": 510,
    "start_time": "2022-10-28T13:20:31.045Z"
   },
   {
    "duration": 73,
    "start_time": "2022-10-28T13:20:31.557Z"
   },
   {
    "duration": 792,
    "start_time": "2022-10-28T13:20:31.632Z"
   },
   {
    "duration": 4,
    "start_time": "2022-10-28T13:20:32.426Z"
   },
   {
    "duration": 5,
    "start_time": "2022-10-28T13:35:22.452Z"
   }
  ],
  "kernelspec": {
   "display_name": "Python 3 (ipykernel)",
   "language": "python",
   "name": "python3"
  },
  "language_info": {
   "codemirror_mode": {
    "name": "ipython",
    "version": 3
   },
   "file_extension": ".py",
   "mimetype": "text/x-python",
   "name": "python",
   "nbconvert_exporter": "python",
   "pygments_lexer": "ipython3",
   "version": "3.9.7"
  },
  "toc": {
   "base_numbering": 1,
   "nav_menu": {},
   "number_sections": true,
   "sideBar": true,
   "skip_h1_title": true,
   "title_cell": "Содержание",
   "title_sidebar": "Contents",
   "toc_cell": true,
   "toc_position": {
    "height": "calc(100% - 180px)",
    "left": "10px",
    "top": "150px",
    "width": "366.188px"
   },
   "toc_section_display": true,
   "toc_window_display": true
  }
 },
 "nbformat": 4,
 "nbformat_minor": 2
}
